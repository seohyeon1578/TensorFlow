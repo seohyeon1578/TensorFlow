{
  "cells": [
    {
      "cell_type": "markdown",
      "metadata": {
        "id": "view-in-github",
        "colab_type": "text"
      },
      "source": [
        "<a href=\"https://colab.research.google.com/github/seohyeon1578/TensorFlow/blob/main/03_%EB%94%A5%EB%9F%AC%EB%8B%9D_%ED%80%B4%EC%A6%88.ipynb\" target=\"_parent\"><img src=\"https://colab.research.google.com/assets/colab-badge.svg\" alt=\"Open In Colab\"/></a>"
      ]
    },
    {
      "cell_type": "markdown",
      "metadata": {
        "id": "OE89vy1a0YH3"
      },
      "source": [
        "# [실습-퀴즈] 딥러닝 파트\n",
        "+ 이번시간에는 Python을 활용한 AI 모델링에서 딥러닝에 대해 실습해 보겠습니다.\n",
        "+ 여기서는 딥러닝 모델 DNN에 대해 코딩하여 모델 구축해 보겠습니다.\n",
        "+ 이론보다 실습이 더 많은 시간과 노력이 투자 되어야 합니다."
      ]
    },
    {
      "cell_type": "markdown",
      "metadata": {
        "id": "jiPP1idv0YH8"
      },
      "source": [
        "## 실습목차\n",
        "+. 딥러닝 심층신경망(DNN) 모델 프로세스\n",
        " - 데이터 가져오기\n",
        " - 데이터 전처리\n",
        " - Train, Test 데이터셋 분할\n",
        " - 데이터 정규화\n",
        " - DNN 딥러닝 모델"
      ]
    },
    {
      "cell_type": "markdown",
      "metadata": {
        "id": "Zr3QI2qG0YH9"
      },
      "source": [
        "#  \n",
        "# 1. 딥러닝 심층신경망(DNN) 모델 프로세스\n",
        "① 라이브러리 임포트(import)  \n",
        "② 데이터 가져오기(Loading the data)  \n",
        "③ 탐색적 데이터 분석(Exploratory Data Analysis)  \n",
        "④ 데이터 전처리(Data PreProcessing) : 데이터타입 변환, Null 데이터 처리, 누락데이터 처리, \n",
        "더미특성 생성, 특성 추출 (feature engineering) 등  \n",
        "⑤ Train, Test  데이터셋 분할  \n",
        "⑥ 데이터 정규화(Normalizing the Data)  \n",
        "⑦ 모델 개발(Creating the Model)  \n",
        "⑧ 모델 성능 평가"
      ]
    },
    {
      "cell_type": "markdown",
      "metadata": {
        "id": "l_4rL5l40YH-"
      },
      "source": [
        "## ① 라이브러리 임포트"
      ]
    },
    {
      "cell_type": "markdown",
      "metadata": {
        "id": "kMnCy3mj0YH-"
      },
      "source": [
        "##### 필요 라이브러리 임포트"
      ]
    },
    {
      "cell_type": "code",
      "execution_count": 1,
      "metadata": {
        "id": "GLqgsJ3-0YH_"
      },
      "outputs": [],
      "source": [
        "import numpy as np\n",
        "import pandas as pd\n",
        "import matplotlib.pyplot as plt"
      ]
    },
    {
      "cell_type": "markdown",
      "metadata": {
        "id": "cCxbMaDD0YIB"
      },
      "source": [
        "## ② 데이터 로드"
      ]
    },
    {
      "cell_type": "markdown",
      "metadata": {
        "id": "7bPka6TR0YIC"
      },
      "source": [
        "##### <font color=blue> **[문제] 같은 폴더내에 있는 data_v1_save.csv 파일을 Pandas read_csv 함수를 이용하여 읽어 df 변수에 저장하세요.** </font>"
      ]
    },
    {
      "cell_type": "code",
      "source": [
        "from google.colab import files\n",
        "files.upload()"
      ],
      "metadata": {
        "id": "USJIcXc_JAoX"
      },
      "execution_count": null,
      "outputs": []
    },
    {
      "cell_type": "code",
      "execution_count": 59,
      "metadata": {
        "id": "EGM5tlnp0YIC"
      },
      "outputs": [],
      "source": [
        "# 읽어 들일 파일명 : data_v1_save.csv\n",
        "# Pandas read_csv 함수 활용\n",
        "# 결과 : df 저장\n",
        "df = pd.read_csv('data_v1_save.csv')"
      ]
    },
    {
      "cell_type": "markdown",
      "metadata": {
        "id": "1rOQN4E20YID"
      },
      "source": [
        "## ③ 데이터 분석"
      ]
    },
    {
      "cell_type": "code",
      "execution_count": 60,
      "metadata": {
        "colab": {
          "base_uri": "https://localhost:8080/"
        },
        "id": "DiS0N_fP0YIE",
        "outputId": "056f9d1d-abce-433d-ea3a-63c7f9904730"
      },
      "outputs": [
        {
          "output_type": "stream",
          "name": "stdout",
          "text": [
            "<class 'pandas.core.frame.DataFrame'>\n",
            "RangeIndex: 7027 entries, 0 to 7026\n",
            "Data columns (total 17 columns):\n",
            " #   Column            Non-Null Count  Dtype  \n",
            "---  ------            --------------  -----  \n",
            " 0   gender            7027 non-null   object \n",
            " 1   Partner           7027 non-null   object \n",
            " 2   Dependents        7027 non-null   object \n",
            " 3   tenure            7027 non-null   int64  \n",
            " 4   MultipleLines     7027 non-null   object \n",
            " 5   InternetService   7027 non-null   object \n",
            " 6   OnlineSecurity    7027 non-null   object \n",
            " 7   OnlineBackup      7027 non-null   object \n",
            " 8   TechSupport       7027 non-null   object \n",
            " 9   StreamingTV       7027 non-null   object \n",
            " 10  StreamingMovies   7027 non-null   object \n",
            " 11  Contract          7027 non-null   object \n",
            " 12  PaperlessBilling  7027 non-null   object \n",
            " 13  PaymentMethod     7027 non-null   object \n",
            " 14  MonthlyCharges    7027 non-null   float64\n",
            " 15  TotalCharges      7027 non-null   float64\n",
            " 16  Churn             7027 non-null   int64  \n",
            "dtypes: float64(2), int64(2), object(13)\n",
            "memory usage: 933.4+ KB\n"
          ]
        }
      ],
      "source": [
        "# 17컬럼, 7027 라인\n",
        "df.info()"
      ]
    },
    {
      "cell_type": "code",
      "execution_count": 10,
      "metadata": {
        "colab": {
          "base_uri": "https://localhost:8080/",
          "height": 320
        },
        "id": "GkYbGV440YIF",
        "outputId": "bb262120-9626-4f1f-da4d-16a2249f86ea"
      },
      "outputs": [
        {
          "output_type": "execute_result",
          "data": {
            "text/plain": [
              "      gender Partner Dependents  tenure     MultipleLines InternetService  \\\n",
              "7022  Female      No         No      72                No              No   \n",
              "7023    Male     Yes        Yes      24               Yes             DSL   \n",
              "7024  Female     Yes        Yes      72               Yes     Fiber optic   \n",
              "7025  Female     Yes        Yes      11  No phone service             DSL   \n",
              "7026    Male     Yes         No       4               Yes     Fiber optic   \n",
              "\n",
              "           OnlineSecurity         OnlineBackup          TechSupport  \\\n",
              "7022  No internet service  No internet service  No internet service   \n",
              "7023                  Yes                   No                  Yes   \n",
              "7024                   No                  Yes                   No   \n",
              "7025                  Yes                   No                   No   \n",
              "7026                   No                   No                   No   \n",
              "\n",
              "              StreamingTV      StreamingMovies        Contract  \\\n",
              "7022  No internet service  No internet service        Two year   \n",
              "7023                  Yes                  Yes        One year   \n",
              "7024                  Yes                  Yes        One year   \n",
              "7025                   No                   No  Month-to-month   \n",
              "7026                   No                   No  Month-to-month   \n",
              "\n",
              "     PaperlessBilling              PaymentMethod  MonthlyCharges  \\\n",
              "7022              Yes  Bank transfer (automatic)           21.15   \n",
              "7023              Yes               Mailed check           84.80   \n",
              "7024              Yes    Credit card (automatic)          103.20   \n",
              "7025              Yes           Electronic check           29.60   \n",
              "7026              Yes               Mailed check           74.40   \n",
              "\n",
              "      TotalCharges  Churn  \n",
              "7022       1419.40      0  \n",
              "7023       1990.50      0  \n",
              "7024       7362.90      0  \n",
              "7025        346.45      0  \n",
              "7026        306.60      1  "
            ],
            "text/html": [
              "\n",
              "  <div id=\"df-a8463335-b2be-4c12-a291-810144f78a5b\">\n",
              "    <div class=\"colab-df-container\">\n",
              "      <div>\n",
              "<style scoped>\n",
              "    .dataframe tbody tr th:only-of-type {\n",
              "        vertical-align: middle;\n",
              "    }\n",
              "\n",
              "    .dataframe tbody tr th {\n",
              "        vertical-align: top;\n",
              "    }\n",
              "\n",
              "    .dataframe thead th {\n",
              "        text-align: right;\n",
              "    }\n",
              "</style>\n",
              "<table border=\"1\" class=\"dataframe\">\n",
              "  <thead>\n",
              "    <tr style=\"text-align: right;\">\n",
              "      <th></th>\n",
              "      <th>gender</th>\n",
              "      <th>Partner</th>\n",
              "      <th>Dependents</th>\n",
              "      <th>tenure</th>\n",
              "      <th>MultipleLines</th>\n",
              "      <th>InternetService</th>\n",
              "      <th>OnlineSecurity</th>\n",
              "      <th>OnlineBackup</th>\n",
              "      <th>TechSupport</th>\n",
              "      <th>StreamingTV</th>\n",
              "      <th>StreamingMovies</th>\n",
              "      <th>Contract</th>\n",
              "      <th>PaperlessBilling</th>\n",
              "      <th>PaymentMethod</th>\n",
              "      <th>MonthlyCharges</th>\n",
              "      <th>TotalCharges</th>\n",
              "      <th>Churn</th>\n",
              "    </tr>\n",
              "  </thead>\n",
              "  <tbody>\n",
              "    <tr>\n",
              "      <th>7022</th>\n",
              "      <td>Female</td>\n",
              "      <td>No</td>\n",
              "      <td>No</td>\n",
              "      <td>72</td>\n",
              "      <td>No</td>\n",
              "      <td>No</td>\n",
              "      <td>No internet service</td>\n",
              "      <td>No internet service</td>\n",
              "      <td>No internet service</td>\n",
              "      <td>No internet service</td>\n",
              "      <td>No internet service</td>\n",
              "      <td>Two year</td>\n",
              "      <td>Yes</td>\n",
              "      <td>Bank transfer (automatic)</td>\n",
              "      <td>21.15</td>\n",
              "      <td>1419.40</td>\n",
              "      <td>0</td>\n",
              "    </tr>\n",
              "    <tr>\n",
              "      <th>7023</th>\n",
              "      <td>Male</td>\n",
              "      <td>Yes</td>\n",
              "      <td>Yes</td>\n",
              "      <td>24</td>\n",
              "      <td>Yes</td>\n",
              "      <td>DSL</td>\n",
              "      <td>Yes</td>\n",
              "      <td>No</td>\n",
              "      <td>Yes</td>\n",
              "      <td>Yes</td>\n",
              "      <td>Yes</td>\n",
              "      <td>One year</td>\n",
              "      <td>Yes</td>\n",
              "      <td>Mailed check</td>\n",
              "      <td>84.80</td>\n",
              "      <td>1990.50</td>\n",
              "      <td>0</td>\n",
              "    </tr>\n",
              "    <tr>\n",
              "      <th>7024</th>\n",
              "      <td>Female</td>\n",
              "      <td>Yes</td>\n",
              "      <td>Yes</td>\n",
              "      <td>72</td>\n",
              "      <td>Yes</td>\n",
              "      <td>Fiber optic</td>\n",
              "      <td>No</td>\n",
              "      <td>Yes</td>\n",
              "      <td>No</td>\n",
              "      <td>Yes</td>\n",
              "      <td>Yes</td>\n",
              "      <td>One year</td>\n",
              "      <td>Yes</td>\n",
              "      <td>Credit card (automatic)</td>\n",
              "      <td>103.20</td>\n",
              "      <td>7362.90</td>\n",
              "      <td>0</td>\n",
              "    </tr>\n",
              "    <tr>\n",
              "      <th>7025</th>\n",
              "      <td>Female</td>\n",
              "      <td>Yes</td>\n",
              "      <td>Yes</td>\n",
              "      <td>11</td>\n",
              "      <td>No phone service</td>\n",
              "      <td>DSL</td>\n",
              "      <td>Yes</td>\n",
              "      <td>No</td>\n",
              "      <td>No</td>\n",
              "      <td>No</td>\n",
              "      <td>No</td>\n",
              "      <td>Month-to-month</td>\n",
              "      <td>Yes</td>\n",
              "      <td>Electronic check</td>\n",
              "      <td>29.60</td>\n",
              "      <td>346.45</td>\n",
              "      <td>0</td>\n",
              "    </tr>\n",
              "    <tr>\n",
              "      <th>7026</th>\n",
              "      <td>Male</td>\n",
              "      <td>Yes</td>\n",
              "      <td>No</td>\n",
              "      <td>4</td>\n",
              "      <td>Yes</td>\n",
              "      <td>Fiber optic</td>\n",
              "      <td>No</td>\n",
              "      <td>No</td>\n",
              "      <td>No</td>\n",
              "      <td>No</td>\n",
              "      <td>No</td>\n",
              "      <td>Month-to-month</td>\n",
              "      <td>Yes</td>\n",
              "      <td>Mailed check</td>\n",
              "      <td>74.40</td>\n",
              "      <td>306.60</td>\n",
              "      <td>1</td>\n",
              "    </tr>\n",
              "  </tbody>\n",
              "</table>\n",
              "</div>\n",
              "      <button class=\"colab-df-convert\" onclick=\"convertToInteractive('df-a8463335-b2be-4c12-a291-810144f78a5b')\"\n",
              "              title=\"Convert this dataframe to an interactive table.\"\n",
              "              style=\"display:none;\">\n",
              "        \n",
              "  <svg xmlns=\"http://www.w3.org/2000/svg\" height=\"24px\"viewBox=\"0 0 24 24\"\n",
              "       width=\"24px\">\n",
              "    <path d=\"M0 0h24v24H0V0z\" fill=\"none\"/>\n",
              "    <path d=\"M18.56 5.44l.94 2.06.94-2.06 2.06-.94-2.06-.94-.94-2.06-.94 2.06-2.06.94zm-11 1L8.5 8.5l.94-2.06 2.06-.94-2.06-.94L8.5 2.5l-.94 2.06-2.06.94zm10 10l.94 2.06.94-2.06 2.06-.94-2.06-.94-.94-2.06-.94 2.06-2.06.94z\"/><path d=\"M17.41 7.96l-1.37-1.37c-.4-.4-.92-.59-1.43-.59-.52 0-1.04.2-1.43.59L10.3 9.45l-7.72 7.72c-.78.78-.78 2.05 0 2.83L4 21.41c.39.39.9.59 1.41.59.51 0 1.02-.2 1.41-.59l7.78-7.78 2.81-2.81c.8-.78.8-2.07 0-2.86zM5.41 20L4 18.59l7.72-7.72 1.47 1.35L5.41 20z\"/>\n",
              "  </svg>\n",
              "      </button>\n",
              "      \n",
              "  <style>\n",
              "    .colab-df-container {\n",
              "      display:flex;\n",
              "      flex-wrap:wrap;\n",
              "      gap: 12px;\n",
              "    }\n",
              "\n",
              "    .colab-df-convert {\n",
              "      background-color: #E8F0FE;\n",
              "      border: none;\n",
              "      border-radius: 50%;\n",
              "      cursor: pointer;\n",
              "      display: none;\n",
              "      fill: #1967D2;\n",
              "      height: 32px;\n",
              "      padding: 0 0 0 0;\n",
              "      width: 32px;\n",
              "    }\n",
              "\n",
              "    .colab-df-convert:hover {\n",
              "      background-color: #E2EBFA;\n",
              "      box-shadow: 0px 1px 2px rgba(60, 64, 67, 0.3), 0px 1px 3px 1px rgba(60, 64, 67, 0.15);\n",
              "      fill: #174EA6;\n",
              "    }\n",
              "\n",
              "    [theme=dark] .colab-df-convert {\n",
              "      background-color: #3B4455;\n",
              "      fill: #D2E3FC;\n",
              "    }\n",
              "\n",
              "    [theme=dark] .colab-df-convert:hover {\n",
              "      background-color: #434B5C;\n",
              "      box-shadow: 0px 1px 3px 1px rgba(0, 0, 0, 0.15);\n",
              "      filter: drop-shadow(0px 1px 2px rgba(0, 0, 0, 0.3));\n",
              "      fill: #FFFFFF;\n",
              "    }\n",
              "  </style>\n",
              "\n",
              "      <script>\n",
              "        const buttonEl =\n",
              "          document.querySelector('#df-a8463335-b2be-4c12-a291-810144f78a5b button.colab-df-convert');\n",
              "        buttonEl.style.display =\n",
              "          google.colab.kernel.accessAllowed ? 'block' : 'none';\n",
              "\n",
              "        async function convertToInteractive(key) {\n",
              "          const element = document.querySelector('#df-a8463335-b2be-4c12-a291-810144f78a5b');\n",
              "          const dataTable =\n",
              "            await google.colab.kernel.invokeFunction('convertToInteractive',\n",
              "                                                     [key], {});\n",
              "          if (!dataTable) return;\n",
              "\n",
              "          const docLinkHtml = 'Like what you see? Visit the ' +\n",
              "            '<a target=\"_blank\" href=https://colab.research.google.com/notebooks/data_table.ipynb>data table notebook</a>'\n",
              "            + ' to learn more about interactive tables.';\n",
              "          element.innerHTML = '';\n",
              "          dataTable['output_type'] = 'display_data';\n",
              "          await google.colab.output.renderOutput(dataTable, element);\n",
              "          const docLink = document.createElement('div');\n",
              "          docLink.innerHTML = docLinkHtml;\n",
              "          element.appendChild(docLink);\n",
              "        }\n",
              "      </script>\n",
              "    </div>\n",
              "  </div>\n",
              "  "
            ]
          },
          "metadata": {},
          "execution_count": 10
        }
      ],
      "source": [
        "df.tail()"
      ]
    },
    {
      "cell_type": "code",
      "execution_count": 11,
      "metadata": {
        "colab": {
          "base_uri": "https://localhost:8080/",
          "height": 279
        },
        "id": "U_FXwsqv0YIF",
        "outputId": "de2d5924-fd2b-46e0-bd60-8f03e65976ce"
      },
      "outputs": [
        {
          "output_type": "execute_result",
          "data": {
            "text/plain": [
              "<matplotlib.axes._subplots.AxesSubplot at 0x7fe169724310>"
            ]
          },
          "metadata": {},
          "execution_count": 11
        },
        {
          "output_type": "display_data",
          "data": {
            "text/plain": [
              "<Figure size 432x288 with 1 Axes>"
            ],
            "image/png": "[encoded data removed]"
          },
          "metadata": {
            "needs_background": "light"
          }
        }
      ],
      "source": [
        "# Churn 레이블 불균형 \n",
        "df['Churn'].value_counts().plot(kind='bar')"
      ]
    },
    {
      "cell_type": "markdown",
      "metadata": {
        "id": "5Fow_uNj0YIG"
      },
      "source": [
        "## ④ 데이터 전처리"
      ]
    },
    {
      "cell_type": "markdown",
      "metadata": {
        "id": "pDuo6yXl0YIG"
      },
      "source": [
        "+ 모든 데이터값들은 숫자형으로 되어야 한다. 즉, Ojbect 타입을 모든 숫자형 변경 필요\n",
        "+ Object 컬럼에 대해 Pandas get_dummies 함수 활용하여 One-Hot-Encoding"
      ]
    },
    {
      "cell_type": "code",
      "execution_count": 12,
      "metadata": {
        "colab": {
          "base_uri": "https://localhost:8080/"
        },
        "id": "KtX0jsj_0YIH",
        "outputId": "4648d1d8-2643-476c-e4ae-7b71ab9aff37"
      },
      "outputs": [
        {
          "output_type": "execute_result",
          "data": {
            "text/plain": [
              "array(['gender', 'Partner', 'Dependents', 'MultipleLines',\n",
              "       'InternetService', 'OnlineSecurity', 'OnlineBackup', 'TechSupport',\n",
              "       'StreamingTV', 'StreamingMovies', 'Contract', 'PaperlessBilling',\n",
              "       'PaymentMethod'], dtype=object)"
            ]
          },
          "metadata": {},
          "execution_count": 12
        }
      ],
      "source": [
        "# Object 컬럼명 수집\n",
        "\n",
        "cal_cols = df.select_dtypes('object').columns.values\n",
        "cal_cols"
      ]
    },
    {
      "cell_type": "markdown",
      "metadata": {
        "id": "mkztuRd30YIH"
      },
      "source": [
        "##### <font color=blue> **[문제] Object 컬럼에 대해 One-Hot-Encoding 수행하고 그 결과를 df1 변수에 저장하세요.** </font>"
      ]
    },
    {
      "cell_type": "code",
      "execution_count": 61,
      "metadata": {
        "id": "AqzsnZZp0YIH"
      },
      "outputs": [],
      "source": [
        "# Pandas get_dummies() 함수 이용\n",
        "# 원-핫-인코딩 결과를 df1 저장\n",
        "df1 = pd.get_dummies(data = df, columns=cal_cols)"
      ]
    },
    {
      "cell_type": "code",
      "execution_count": 62,
      "metadata": {
        "colab": {
          "base_uri": "https://localhost:8080/"
        },
        "id": "Exw5r3J_0YII",
        "outputId": "16de32cd-87db-40c8-fadf-7777f3a6b18e"
      },
      "outputs": [
        {
          "output_type": "stream",
          "name": "stdout",
          "text": [
            "<class 'pandas.core.frame.DataFrame'>\n",
            "RangeIndex: 7027 entries, 0 to 7026\n",
            "Data columns (total 40 columns):\n",
            " #   Column                                   Non-Null Count  Dtype  \n",
            "---  ------                                   --------------  -----  \n",
            " 0   tenure                                   7027 non-null   int64  \n",
            " 1   MonthlyCharges                           7027 non-null   float64\n",
            " 2   TotalCharges                             7027 non-null   float64\n",
            " 3   Churn                                    7027 non-null   int64  \n",
            " 4   gender_Female                            7027 non-null   uint8  \n",
            " 5   gender_Male                              7027 non-null   uint8  \n",
            " 6   Partner_No                               7027 non-null   uint8  \n",
            " 7   Partner_Yes                              7027 non-null   uint8  \n",
            " 8   Dependents_No                            7027 non-null   uint8  \n",
            " 9   Dependents_Yes                           7027 non-null   uint8  \n",
            " 10  MultipleLines_No                         7027 non-null   uint8  \n",
            " 11  MultipleLines_No phone service           7027 non-null   uint8  \n",
            " 12  MultipleLines_Yes                        7027 non-null   uint8  \n",
            " 13  InternetService_DSL                      7027 non-null   uint8  \n",
            " 14  InternetService_Fiber optic              7027 non-null   uint8  \n",
            " 15  InternetService_No                       7027 non-null   uint8  \n",
            " 16  OnlineSecurity_No                        7027 non-null   uint8  \n",
            " 17  OnlineSecurity_No internet service       7027 non-null   uint8  \n",
            " 18  OnlineSecurity_Yes                       7027 non-null   uint8  \n",
            " 19  OnlineBackup_No                          7027 non-null   uint8  \n",
            " 20  OnlineBackup_No internet service         7027 non-null   uint8  \n",
            " 21  OnlineBackup_Yes                         7027 non-null   uint8  \n",
            " 22  TechSupport_No                           7027 non-null   uint8  \n",
            " 23  TechSupport_No internet service          7027 non-null   uint8  \n",
            " 24  TechSupport_Yes                          7027 non-null   uint8  \n",
            " 25  StreamingTV_No                           7027 non-null   uint8  \n",
            " 26  StreamingTV_No internet service          7027 non-null   uint8  \n",
            " 27  StreamingTV_Yes                          7027 non-null   uint8  \n",
            " 28  StreamingMovies_No                       7027 non-null   uint8  \n",
            " 29  StreamingMovies_No internet service      7027 non-null   uint8  \n",
            " 30  StreamingMovies_Yes                      7027 non-null   uint8  \n",
            " 31  Contract_Month-to-month                  7027 non-null   uint8  \n",
            " 32  Contract_One year                        7027 non-null   uint8  \n",
            " 33  Contract_Two year                        7027 non-null   uint8  \n",
            " 34  PaperlessBilling_No                      7027 non-null   uint8  \n",
            " 35  PaperlessBilling_Yes                     7027 non-null   uint8  \n",
            " 36  PaymentMethod_Bank transfer (automatic)  7027 non-null   uint8  \n",
            " 37  PaymentMethod_Credit card (automatic)    7027 non-null   uint8  \n",
            " 38  PaymentMethod_Electronic check           7027 non-null   uint8  \n",
            " 39  PaymentMethod_Mailed check               7027 non-null   uint8  \n",
            "dtypes: float64(2), int64(2), uint8(36)\n",
            "memory usage: 466.8 KB\n"
          ]
        }
      ],
      "source": [
        "# 40컬럼, 7027 라인\n",
        "df1.info()"
      ]
    },
    {
      "cell_type": "markdown",
      "metadata": {
        "id": "eBbc5LqJ0YII"
      },
      "source": [
        "## ⑤ Train, Test  데이터셋 분할"
      ]
    },
    {
      "cell_type": "code",
      "execution_count": 15,
      "metadata": {
        "id": "2wY_7WCU0YIJ"
      },
      "outputs": [],
      "source": [
        "from sklearn.model_selection import train_test_split"
      ]
    },
    {
      "cell_type": "code",
      "execution_count": 63,
      "metadata": {
        "id": "i0PeCxoK0YIJ"
      },
      "outputs": [],
      "source": [
        "X = df1.drop('Churn', axis=1).values\n",
        "y = df1['Churn'].values"
      ]
    },
    {
      "cell_type": "code",
      "execution_count": 64,
      "metadata": {
        "id": "dScRTh-M0YIJ"
      },
      "outputs": [],
      "source": [
        "X_train, X_test, y_train, y_test = train_test_split(X, y, \n",
        "                                                    test_size=0.3, \n",
        "                                                    stratify=y,\n",
        "                                                    random_state=42)"
      ]
    },
    {
      "cell_type": "code",
      "execution_count": 65,
      "metadata": {
        "colab": {
          "base_uri": "https://localhost:8080/"
        },
        "id": "wJ3x57Ml0YIK",
        "outputId": "ee2c8aaf-f1cf-47bb-c6dd-b138547f68cf"
      },
      "outputs": [
        {
          "output_type": "execute_result",
          "data": {
            "text/plain": [
              "(4918, 39)"
            ]
          },
          "metadata": {},
          "execution_count": 65
        }
      ],
      "source": [
        "X_train.shape"
      ]
    },
    {
      "cell_type": "code",
      "execution_count": 66,
      "metadata": {
        "colab": {
          "base_uri": "https://localhost:8080/"
        },
        "id": "GHDTvpRn0YIK",
        "outputId": "7f36f77f-15ec-4258-c27d-c921e61f77b8"
      },
      "outputs": [
        {
          "output_type": "execute_result",
          "data": {
            "text/plain": [
              "(4918,)"
            ]
          },
          "metadata": {},
          "execution_count": 66
        }
      ],
      "source": [
        "y_train.shape"
      ]
    },
    {
      "cell_type": "markdown",
      "metadata": {
        "id": "KJBB8fYo0YIK"
      },
      "source": [
        "## ⑥ 데이터 정규화/스케일링(Normalizing/Scaling)"
      ]
    },
    {
      "cell_type": "code",
      "execution_count": 67,
      "metadata": {
        "colab": {
          "base_uri": "https://localhost:8080/",
          "height": 334
        },
        "id": "cmGg6oMD0YIK",
        "outputId": "4e1aea38-fd67-45d2-b943-d5f6550f4eca"
      },
      "outputs": [
        {
          "output_type": "execute_result",
          "data": {
            "text/plain": [
              "      tenure  MonthlyCharges  TotalCharges  Churn  gender_Female  gender_Male  \\\n",
              "7022      72           21.15       1419.40      0              1            0   \n",
              "7023      24           84.80       1990.50      0              0            1   \n",
              "7024      72          103.20       7362.90      0              1            0   \n",
              "7025      11           29.60        346.45      0              1            0   \n",
              "7026       4           74.40        306.60      1              0            1   \n",
              "\n",
              "      Partner_No  Partner_Yes  Dependents_No  Dependents_Yes  ...  \\\n",
              "7022           1            0              1               0  ...   \n",
              "7023           0            1              0               1  ...   \n",
              "7024           0            1              0               1  ...   \n",
              "7025           0            1              0               1  ...   \n",
              "7026           0            1              1               0  ...   \n",
              "\n",
              "      StreamingMovies_Yes  Contract_Month-to-month  Contract_One year  \\\n",
              "7022                    0                        0                  0   \n",
              "7023                    1                        0                  1   \n",
              "7024                    1                        0                  1   \n",
              "7025                    0                        1                  0   \n",
              "7026                    0                        1                  0   \n",
              "\n",
              "      Contract_Two year  PaperlessBilling_No  PaperlessBilling_Yes  \\\n",
              "7022                  1                    0                     1   \n",
              "7023                  0                    0                     1   \n",
              "7024                  0                    0                     1   \n",
              "7025                  0                    0                     1   \n",
              "7026                  0                    0                     1   \n",
              "\n",
              "      PaymentMethod_Bank transfer (automatic)  \\\n",
              "7022                                        1   \n",
              "7023                                        0   \n",
              "7024                                        0   \n",
              "7025                                        0   \n",
              "7026                                        0   \n",
              "\n",
              "      PaymentMethod_Credit card (automatic)  PaymentMethod_Electronic check  \\\n",
              "7022                                      0                               0   \n",
              "7023                                      0                               0   \n",
              "7024                                      1                               0   \n",
              "7025                                      0                               1   \n",
              "7026                                      0                               0   \n",
              "\n",
              "      PaymentMethod_Mailed check  \n",
              "7022                           0  \n",
              "7023                           1  \n",
              "7024                           0  \n",
              "7025                           0  \n",
              "7026                           1  \n",
              "\n",
              "[5 rows x 40 columns]"
            ],
            "text/html": [
              "\n",
              "  <div id=\"df-26ec7637-ea6a-4389-b081-e951e9439c73\">\n",
              "    <div class=\"colab-df-container\">\n",
              "      <div>\n",
              "<style scoped>\n",
              "    .dataframe tbody tr th:only-of-type {\n",
              "        vertical-align: middle;\n",
              "    }\n",
              "\n",
              "    .dataframe tbody tr th {\n",
              "        vertical-align: top;\n",
              "    }\n",
              "\n",
              "    .dataframe thead th {\n",
              "        text-align: right;\n",
              "    }\n",
              "</style>\n",
              "<table border=\"1\" class=\"dataframe\">\n",
              "  <thead>\n",
              "    <tr style=\"text-align: right;\">\n",
              "      <th></th>\n",
              "      <th>tenure</th>\n",
              "      <th>MonthlyCharges</th>\n",
              "      <th>TotalCharges</th>\n",
              "      <th>Churn</th>\n",
              "      <th>gender_Female</th>\n",
              "      <th>gender_Male</th>\n",
              "      <th>Partner_No</th>\n",
              "      <th>Partner_Yes</th>\n",
              "      <th>Dependents_No</th>\n",
              "      <th>Dependents_Yes</th>\n",
              "      <th>...</th>\n",
              "      <th>StreamingMovies_Yes</th>\n",
              "      <th>Contract_Month-to-month</th>\n",
              "      <th>Contract_One year</th>\n",
              "      <th>Contract_Two year</th>\n",
              "      <th>PaperlessBilling_No</th>\n",
              "      <th>PaperlessBilling_Yes</th>\n",
              "      <th>PaymentMethod_Bank transfer (automatic)</th>\n",
              "      <th>PaymentMethod_Credit card (automatic)</th>\n",
              "      <th>PaymentMethod_Electronic check</th>\n",
              "      <th>PaymentMethod_Mailed check</th>\n",
              "    </tr>\n",
              "  </thead>\n",
              "  <tbody>\n",
              "    <tr>\n",
              "      <th>7022</th>\n",
              "      <td>72</td>\n",
              "      <td>21.15</td>\n",
              "      <td>1419.40</td>\n",
              "      <td>0</td>\n",
              "      <td>1</td>\n",
              "      <td>0</td>\n",
              "      <td>1</td>\n",
              "      <td>0</td>\n",
              "      <td>1</td>\n",
              "      <td>0</td>\n",
              "      <td>...</td>\n",
              "      <td>0</td>\n",
              "      <td>0</td>\n",
              "      <td>0</td>\n",
              "      <td>1</td>\n",
              "      <td>0</td>\n",
              "      <td>1</td>\n",
              "      <td>1</td>\n",
              "      <td>0</td>\n",
              "      <td>0</td>\n",
              "      <td>0</td>\n",
              "    </tr>\n",
              "    <tr>\n",
              "      <th>7023</th>\n",
              "      <td>24</td>\n",
              "      <td>84.80</td>\n",
              "      <td>1990.50</td>\n",
              "      <td>0</td>\n",
              "      <td>0</td>\n",
              "      <td>1</td>\n",
              "      <td>0</td>\n",
              "      <td>1</td>\n",
              "      <td>0</td>\n",
              "      <td>1</td>\n",
              "      <td>...</td>\n",
              "      <td>1</td>\n",
              "      <td>0</td>\n",
              "      <td>1</td>\n",
              "      <td>0</td>\n",
              "      <td>0</td>\n",
              "      <td>1</td>\n",
              "      <td>0</td>\n",
              "      <td>0</td>\n",
              "      <td>0</td>\n",
              "      <td>1</td>\n",
              "    </tr>\n",
              "    <tr>\n",
              "      <th>7024</th>\n",
              "      <td>72</td>\n",
              "      <td>103.20</td>\n",
              "      <td>7362.90</td>\n",
              "      <td>0</td>\n",
              "      <td>1</td>\n",
              "      <td>0</td>\n",
              "      <td>0</td>\n",
              "      <td>1</td>\n",
              "      <td>0</td>\n",
              "      <td>1</td>\n",
              "      <td>...</td>\n",
              "      <td>1</td>\n",
              "      <td>0</td>\n",
              "      <td>1</td>\n",
              "      <td>0</td>\n",
              "      <td>0</td>\n",
              "      <td>1</td>\n",
              "      <td>0</td>\n",
              "      <td>1</td>\n",
              "      <td>0</td>\n",
              "      <td>0</td>\n",
              "    </tr>\n",
              "    <tr>\n",
              "      <th>7025</th>\n",
              "      <td>11</td>\n",
              "      <td>29.60</td>\n",
              "      <td>346.45</td>\n",
              "      <td>0</td>\n",
              "      <td>1</td>\n",
              "      <td>0</td>\n",
              "      <td>0</td>\n",
              "      <td>1</td>\n",
              "      <td>0</td>\n",
              "      <td>1</td>\n",
              "      <td>...</td>\n",
              "      <td>0</td>\n",
              "      <td>1</td>\n",
              "      <td>0</td>\n",
              "      <td>0</td>\n",
              "      <td>0</td>\n",
              "      <td>1</td>\n",
              "      <td>0</td>\n",
              "      <td>0</td>\n",
              "      <td>1</td>\n",
              "      <td>0</td>\n",
              "    </tr>\n",
              "    <tr>\n",
              "      <th>7026</th>\n",
              "      <td>4</td>\n",
              "      <td>74.40</td>\n",
              "      <td>306.60</td>\n",
              "      <td>1</td>\n",
              "      <td>0</td>\n",
              "      <td>1</td>\n",
              "      <td>0</td>\n",
              "      <td>1</td>\n",
              "      <td>1</td>\n",
              "      <td>0</td>\n",
              "      <td>...</td>\n",
              "      <td>0</td>\n",
              "      <td>1</td>\n",
              "      <td>0</td>\n",
              "      <td>0</td>\n",
              "      <td>0</td>\n",
              "      <td>1</td>\n",
              "      <td>0</td>\n",
              "      <td>0</td>\n",
              "      <td>0</td>\n",
              "      <td>1</td>\n",
              "    </tr>\n",
              "  </tbody>\n",
              "</table>\n",
              "<p>5 rows × 40 columns</p>\n",
              "</div>\n",
              "      <button class=\"colab-df-convert\" onclick=\"convertToInteractive('df-26ec7637-ea6a-4389-b081-e951e9439c73')\"\n",
              "              title=\"Convert this dataframe to an interactive table.\"\n",
              "              style=\"display:none;\">\n",
              "        \n",
              "  <svg xmlns=\"http://www.w3.org/2000/svg\" height=\"24px\"viewBox=\"0 0 24 24\"\n",
              "       width=\"24px\">\n",
              "    <path d=\"M0 0h24v24H0V0z\" fill=\"none\"/>\n",
              "    <path d=\"M18.56 5.44l.94 2.06.94-2.06 2.06-.94-2.06-.94-.94-2.06-.94 2.06-2.06.94zm-11 1L8.5 8.5l.94-2.06 2.06-.94-2.06-.94L8.5 2.5l-.94 2.06-2.06.94zm10 10l.94 2.06.94-2.06 2.06-.94-2.06-.94-.94-2.06-.94 2.06-2.06.94z\"/><path d=\"M17.41 7.96l-1.37-1.37c-.4-.4-.92-.59-1.43-.59-.52 0-1.04.2-1.43.59L10.3 9.45l-7.72 7.72c-.78.78-.78 2.05 0 2.83L4 21.41c.39.39.9.59 1.41.59.51 0 1.02-.2 1.41-.59l7.78-7.78 2.81-2.81c.8-.78.8-2.07 0-2.86zM5.41 20L4 18.59l7.72-7.72 1.47 1.35L5.41 20z\"/>\n",
              "  </svg>\n",
              "      </button>\n",
              "      \n",
              "  <style>\n",
              "    .colab-df-container {\n",
              "      display:flex;\n",
              "      flex-wrap:wrap;\n",
              "      gap: 12px;\n",
              "    }\n",
              "\n",
              "    .colab-df-convert {\n",
              "      background-color: #E8F0FE;\n",
              "      border: none;\n",
              "      border-radius: 50%;\n",
              "      cursor: pointer;\n",
              "      display: none;\n",
              "      fill: #1967D2;\n",
              "      height: 32px;\n",
              "      padding: 0 0 0 0;\n",
              "      width: 32px;\n",
              "    }\n",
              "\n",
              "    .colab-df-convert:hover {\n",
              "      background-color: #E2EBFA;\n",
              "      box-shadow: 0px 1px 2px rgba(60, 64, 67, 0.3), 0px 1px 3px 1px rgba(60, 64, 67, 0.15);\n",
              "      fill: #174EA6;\n",
              "    }\n",
              "\n",
              "    [theme=dark] .colab-df-convert {\n",
              "      background-color: #3B4455;\n",
              "      fill: #D2E3FC;\n",
              "    }\n",
              "\n",
              "    [theme=dark] .colab-df-convert:hover {\n",
              "      background-color: #434B5C;\n",
              "      box-shadow: 0px 1px 3px 1px rgba(0, 0, 0, 0.15);\n",
              "      filter: drop-shadow(0px 1px 2px rgba(0, 0, 0, 0.3));\n",
              "      fill: #FFFFFF;\n",
              "    }\n",
              "  </style>\n",
              "\n",
              "      <script>\n",
              "        const buttonEl =\n",
              "          document.querySelector('#df-26ec7637-ea6a-4389-b081-e951e9439c73 button.colab-df-convert');\n",
              "        buttonEl.style.display =\n",
              "          google.colab.kernel.accessAllowed ? 'block' : 'none';\n",
              "\n",
              "        async function convertToInteractive(key) {\n",
              "          const element = document.querySelector('#df-26ec7637-ea6a-4389-b081-e951e9439c73');\n",
              "          const dataTable =\n",
              "            await google.colab.kernel.invokeFunction('convertToInteractive',\n",
              "                                                     [key], {});\n",
              "          if (!dataTable) return;\n",
              "\n",
              "          const docLinkHtml = 'Like what you see? Visit the ' +\n",
              "            '<a target=\"_blank\" href=https://colab.research.google.com/notebooks/data_table.ipynb>data table notebook</a>'\n",
              "            + ' to learn more about interactive tables.';\n",
              "          element.innerHTML = '';\n",
              "          dataTable['output_type'] = 'display_data';\n",
              "          await google.colab.output.renderOutput(dataTable, element);\n",
              "          const docLink = document.createElement('div');\n",
              "          docLink.innerHTML = docLinkHtml;\n",
              "          element.appendChild(docLink);\n",
              "        }\n",
              "      </script>\n",
              "    </div>\n",
              "  </div>\n",
              "  "
            ]
          },
          "metadata": {},
          "execution_count": 67
        }
      ],
      "source": [
        "# 숫자 분포 이루어진 컬럼 확인\n",
        "df1.tail()"
      ]
    },
    {
      "cell_type": "code",
      "execution_count": 22,
      "metadata": {
        "id": "g5t2T8wc0YIL"
      },
      "outputs": [],
      "source": [
        "from sklearn.preprocessing import MinMaxScaler"
      ]
    },
    {
      "cell_type": "code",
      "execution_count": 68,
      "metadata": {
        "id": "clXrLKXg0YIL"
      },
      "outputs": [],
      "source": [
        "scaler = MinMaxScaler()\n",
        "X_train = scaler.fit_transform(X_train)\n",
        "X_test = scaler.transform(X_test)"
      ]
    },
    {
      "cell_type": "code",
      "execution_count": 69,
      "metadata": {
        "colab": {
          "base_uri": "https://localhost:8080/"
        },
        "id": "zi-u0wTB0YIL",
        "outputId": "b6e9edbd-027f-4338-916b-a0e25c6e02b2"
      },
      "outputs": [
        {
          "output_type": "execute_result",
          "data": {
            "text/plain": [
              "array([[0.65277778, 0.56851021, 0.40877722, 1.        , 0.        ,\n",
              "        1.        , 0.        , 1.        , 0.        , 1.        ,\n",
              "        0.        , 0.        , 0.        , 1.        , 0.        ,\n",
              "        0.        , 0.        , 1.        , 1.        , 0.        ,\n",
              "        0.        , 1.        , 0.        , 0.        , 1.        ,\n",
              "        0.        , 0.        , 1.        , 0.        , 0.        ,\n",
              "        1.        , 0.        , 0.        , 1.        , 0.        ,\n",
              "        0.        , 1.        , 0.        , 0.        ],\n",
              "       [0.27777778, 0.00498256, 0.04008671, 1.        , 0.        ,\n",
              "        1.        , 0.        , 1.        , 0.        , 1.        ,\n",
              "        0.        , 0.        , 0.        , 0.        , 1.        ,\n",
              "        0.        , 1.        , 0.        , 0.        , 1.        ,\n",
              "        0.        , 0.        , 1.        , 0.        , 0.        ,\n",
              "        1.        , 0.        , 0.        , 1.        , 0.        ,\n",
              "        1.        , 0.        , 0.        , 0.        , 1.        ,\n",
              "        0.        , 1.        , 0.        , 0.        ]])"
            ]
          },
          "metadata": {},
          "execution_count": 69
        }
      ],
      "source": [
        "X_train[:2]"
      ]
    },
    {
      "cell_type": "markdown",
      "metadata": {
        "id": "fUKskwle0YIM"
      },
      "source": [
        "## ⑦ 딥러닝 심층신경망(DNN) 모델 구현"
      ]
    },
    {
      "cell_type": "markdown",
      "metadata": {
        "id": "-qtH1IV_0YIM"
      },
      "source": [
        "####  \n",
        "### 라이브러리 임포트"
      ]
    },
    {
      "cell_type": "code",
      "execution_count": 25,
      "metadata": {
        "id": "xZ-81qT80YIM"
      },
      "outputs": [],
      "source": [
        "import tensorflow as tf\n",
        "from tensorflow.keras.models import Sequential\n",
        "from tensorflow.keras.layers import Dense, Dropout\n",
        "\n",
        "tf.random.set_seed(100)"
      ]
    },
    {
      "cell_type": "markdown",
      "metadata": {
        "id": "VUDoigSc0YIM"
      },
      "source": [
        "####  \n",
        "### 하이퍼파라미터 설정 : batch_size, epochs"
      ]
    },
    {
      "cell_type": "code",
      "execution_count": 70,
      "metadata": {
        "id": "zmEdqNNS0YIM"
      },
      "outputs": [],
      "source": [
        "batch_size = 16\n",
        "epochs = 20"
      ]
    },
    {
      "cell_type": "markdown",
      "metadata": {
        "id": "PqXbXmeD0YIN"
      },
      "source": [
        "####  \n",
        "### 모델 입력(features) 갯수 확인"
      ]
    },
    {
      "cell_type": "code",
      "execution_count": 71,
      "metadata": {
        "colab": {
          "base_uri": "https://localhost:8080/"
        },
        "id": "zCUyUw6J0YIN",
        "outputId": "03a5545d-2ad3-49ff-8f7d-92d45431e6d6"
      },
      "outputs": [
        {
          "output_type": "execute_result",
          "data": {
            "text/plain": [
              "(4918, 39)"
            ]
          },
          "metadata": {},
          "execution_count": 71
        }
      ],
      "source": [
        "X_train.shape"
      ]
    },
    {
      "cell_type": "markdown",
      "metadata": {
        "id": "L1mqWzpz0YIN"
      },
      "source": [
        "####  \n",
        "### 모델 출력(label) 갯수 확인"
      ]
    },
    {
      "cell_type": "code",
      "execution_count": 72,
      "metadata": {
        "colab": {
          "base_uri": "https://localhost:8080/"
        },
        "id": "kzVC8VGO0YIN",
        "outputId": "3bab1d68-c893-4f13-feb6-d991a5afe1bb"
      },
      "outputs": [
        {
          "output_type": "execute_result",
          "data": {
            "text/plain": [
              "(4918,)"
            ]
          },
          "metadata": {},
          "execution_count": 72
        }
      ],
      "source": [
        "y_train.shape"
      ]
    },
    {
      "cell_type": "markdown",
      "metadata": {
        "id": "1zLx5_rB0YIO"
      },
      "source": [
        "####  \n",
        "### A. 이진분류 DNN모델 구성 "
      ]
    },
    {
      "cell_type": "markdown",
      "metadata": {
        "id": "zKKe_aOJ0YIO"
      },
      "source": [
        "![hidden Layer](https://github.com/gzone2000/TEMP_TEST/raw/master/hidden_layer1.PNG)\n",
        "+ [출처] https://subscription.packtpub.com/book/data/9781788995207/1/ch01lvl1sec03/deep-learning-intuition"
      ]
    },
    {
      "cell_type": "markdown",
      "metadata": {
        "id": "2LX2K8Hu0YIO"
      },
      "source": [
        "##### <font color=blue> **[문제] 요구사항대로 Sequential 모델을 만들어 보세요.** </font>"
      ]
    },
    {
      "cell_type": "code",
      "execution_count": 73,
      "metadata": {
        "id": "Fygby0lS0YIO"
      },
      "outputs": [],
      "source": [
        "# Sequential() 모델 정의 하고 model로 저장\n",
        "# input layer는 input_shape=() 옵션을 사용한다.\n",
        "# 39개 input layer\n",
        "# unit 4개 hidden layer\n",
        "# unit 3개 hidden layer \n",
        "# 1개 output layser : 이진분류\n",
        "model = Sequential()\n",
        "model.add(Dense(4, activation='relu', input_shape=(39,)))\n",
        "model.add(Dense(3, activation='relu'))\n",
        "model.add(Dense(1, activation='sigmoid'))"
      ]
    },
    {
      "cell_type": "markdown",
      "metadata": {
        "id": "gRD_erqd0YIO"
      },
      "source": [
        "####  \n",
        "### 모델 확인"
      ]
    },
    {
      "cell_type": "code",
      "execution_count": 74,
      "metadata": {
        "colab": {
          "base_uri": "https://localhost:8080/"
        },
        "id": "_dWPN4Hf0YIP",
        "outputId": "8b23af78-9e04-46c5-e1f8-437e52b471fc"
      },
      "outputs": [
        {
          "output_type": "stream",
          "name": "stdout",
          "text": [
            "Model: \"sequential_4\"\n",
            "_________________________________________________________________\n",
            " Layer (type)                Output Shape              Param #   \n",
            "=================================================================\n",
            " dense_9 (Dense)             (None, 4)                 160       \n",
            "                                                                 \n",
            " dense_10 (Dense)            (None, 3)                 15        \n",
            "                                                                 \n",
            " dense_11 (Dense)            (None, 1)                 4         \n",
            "                                                                 \n",
            "=================================================================\n",
            "Total params: 179\n",
            "Trainable params: 179\n",
            "Non-trainable params: 0\n",
            "_________________________________________________________________\n"
          ]
        }
      ],
      "source": [
        "model.summary()"
      ]
    },
    {
      "cell_type": "markdown",
      "metadata": {
        "id": "hArp-8W00YIP"
      },
      "source": [
        "####  \n",
        "### 모델 구성 -  과적합 방지"
      ]
    },
    {
      "cell_type": "markdown",
      "metadata": {
        "id": "P12SscRX0YIP"
      },
      "source": [
        "![dropout](https://github.com/gzone2000/TEMP_TEST/raw/master/dropout.PNG)\n",
        "+ [출처] https://medium.com/@amarbudhiraja/https-medium-com-amarbudhiraja-learning-less-to-learn-better-dropout-in-deep-machine-learning-74334da4bfc5"
      ]
    },
    {
      "cell_type": "code",
      "execution_count": 32,
      "metadata": {
        "id": "hTZ0lfsB0YIP"
      },
      "outputs": [],
      "source": [
        "model = Sequential()\n",
        "model.add(Dense(4, activation='relu', input_shape=(39,)))\n",
        "model.add(Dropout(0.3))\n",
        "model.add(Dense(3, activation='relu'))\n",
        "model.add(Dropout(0.3))\n",
        "model.add(Dense(1, activation='sigmoid'))"
      ]
    },
    {
      "cell_type": "markdown",
      "metadata": {
        "id": "awF-BLSo0YIQ"
      },
      "source": [
        "####  \n",
        "### 과적합 방지 모델 확인"
      ]
    },
    {
      "cell_type": "code",
      "execution_count": 33,
      "metadata": {
        "colab": {
          "base_uri": "https://localhost:8080/"
        },
        "id": "5EPZjdj80YIQ",
        "outputId": "9adee78f-c722-4504-d6af-711358a9ddda"
      },
      "outputs": [
        {
          "output_type": "stream",
          "name": "stdout",
          "text": [
            "Model: \"sequential_2\"\n",
            "_________________________________________________________________\n",
            " Layer (type)                Output Shape              Param #   \n",
            "=================================================================\n",
            " dense_3 (Dense)             (None, 4)                 160       \n",
            "                                                                 \n",
            " dropout (Dropout)           (None, 4)                 0         \n",
            "                                                                 \n",
            " dense_4 (Dense)             (None, 3)                 15        \n",
            "                                                                 \n",
            " dropout_1 (Dropout)         (None, 3)                 0         \n",
            "                                                                 \n",
            " dense_5 (Dense)             (None, 1)                 4         \n",
            "                                                                 \n",
            "=================================================================\n",
            "Total params: 179\n",
            "Trainable params: 179\n",
            "Non-trainable params: 0\n",
            "_________________________________________________________________\n"
          ]
        }
      ],
      "source": [
        "model.summary()"
      ]
    },
    {
      "cell_type": "markdown",
      "metadata": {
        "id": "1VOruMmv0YIQ"
      },
      "source": [
        "####  \n",
        "### 모델 컴파일 – 이진 분류 모델"
      ]
    },
    {
      "cell_type": "code",
      "execution_count": 75,
      "metadata": {
        "id": "nVZnbiNp0YIQ"
      },
      "outputs": [],
      "source": [
        "model.compile(optimizer='adam', \n",
        "              loss='binary_crossentropy', \n",
        "              metrics=['accuracy']) "
      ]
    },
    {
      "cell_type": "markdown",
      "metadata": {
        "id": "mHEfmI450YIQ"
      },
      "source": [
        "- 모델 컴파일 – 다중 분류 모델 (Y값을 One-Hot-Encoding 한경우) <br>\n",
        "model.compile(optimizer='adam', loss='categorical_crossentropy', metrics=['accuracy'])"
      ]
    },
    {
      "cell_type": "markdown",
      "metadata": {
        "id": "qvjLtvLO0YIR"
      },
      "source": [
        "- 모델 컴파일 – 다중 분류 모델  (Y값을 One-Hot-Encoding 하지 않은 경우) <br>\n",
        "model.compile(optimizer='adam', loss='sparse_categorical_crossentropy', metrics=['accuracy'])"
      ]
    },
    {
      "cell_type": "markdown",
      "metadata": {
        "id": "AK35wHQq0YIR"
      },
      "source": [
        "- 모델 컴파일 – 예측 모델\n",
        "model.compile(optimizer='adam', loss='mse')"
      ]
    },
    {
      "cell_type": "markdown",
      "metadata": {
        "id": "rTX4ExMb0YIR"
      },
      "source": [
        "####  \n",
        "### 모델 학습"
      ]
    },
    {
      "cell_type": "markdown",
      "metadata": {
        "id": "l-H8W9R80YIR"
      },
      "source": [
        "##### <font color=blue> **[문제] 요구사항대로 DNN 모델을 학습시키세요.** </font>\n",
        "+ 모델 이름 : model\n",
        "+ epoch : 10번\n",
        "+ batch_size : 10번"
      ]
    },
    {
      "cell_type": "code",
      "execution_count": 76,
      "metadata": {
        "colab": {
          "base_uri": "https://localhost:8080/"
        },
        "id": "l0VkwonN0YIS",
        "outputId": "64e9a537-813a-4f85-edc0-e8bcb6773624"
      },
      "outputs": [
        {
          "output_type": "stream",
          "name": "stdout",
          "text": [
            "Epoch 1/10\n",
            "492/492 [==============================] - 2s 2ms/step - loss: 0.5236 - accuracy: 0.7387 - val_loss: 0.4599 - val_accuracy: 0.7658\n",
            "Epoch 2/10\n",
            "492/492 [==============================] - 1s 2ms/step - loss: 0.4509 - accuracy: 0.7708 - val_loss: 0.4405 - val_accuracy: 0.7800\n",
            "Epoch 3/10\n",
            "492/492 [==============================] - 1s 2ms/step - loss: 0.4404 - accuracy: 0.7826 - val_loss: 0.4339 - val_accuracy: 0.7838\n",
            "Epoch 4/10\n",
            "492/492 [==============================] - 1s 2ms/step - loss: 0.4341 - accuracy: 0.7895 - val_loss: 0.4294 - val_accuracy: 0.7933\n",
            "Epoch 5/10\n",
            "492/492 [==============================] - 1s 2ms/step - loss: 0.4305 - accuracy: 0.7938 - val_loss: 0.4267 - val_accuracy: 0.7933\n",
            "Epoch 6/10\n",
            "492/492 [==============================] - 1s 2ms/step - loss: 0.4282 - accuracy: 0.7971 - val_loss: 0.4259 - val_accuracy: 0.7975\n",
            "Epoch 7/10\n",
            "492/492 [==============================] - 1s 2ms/step - loss: 0.4262 - accuracy: 0.7963 - val_loss: 0.4248 - val_accuracy: 0.8018\n",
            "Epoch 8/10\n",
            "492/492 [==============================] - 1s 2ms/step - loss: 0.4248 - accuracy: 0.7948 - val_loss: 0.4232 - val_accuracy: 0.8023\n",
            "Epoch 9/10\n",
            "492/492 [==============================] - 1s 2ms/step - loss: 0.4233 - accuracy: 0.7963 - val_loss: 0.4234 - val_accuracy: 0.7952\n",
            "Epoch 10/10\n",
            "492/492 [==============================] - 1s 2ms/step - loss: 0.4231 - accuracy: 0.7991 - val_loss: 0.4214 - val_accuracy: 0.8061\n"
          ]
        },
        {
          "output_type": "execute_result",
          "data": {
            "text/plain": [
              "<keras.callbacks.History at 0x7fe0e7316e90>"
            ]
          },
          "metadata": {},
          "execution_count": 76
        }
      ],
      "source": [
        "# 앞쪽에서 정의된 모델 이름 : model\n",
        "# Sequential 모델의 fit() 함수 사용\n",
        "# @인자\n",
        "### X, y : X_train, y_train\n",
        "### validation_data=(X_test, y_test)\n",
        "### epochs 10번\n",
        "### batch_size 10번\n",
        "model.fit(X_train, y_train, epochs=10, batch_size=10, validation_data=(X_test, y_test))"
      ]
    },
    {
      "cell_type": "markdown",
      "metadata": {
        "id": "WPZYzqib0YIS"
      },
      "source": [
        "####  \n",
        "### B. 다중 분류 DNN 구성\n",
        "+ 13개 input layer\n",
        "+ unit 5개 hidden layer\n",
        "+ dropout\n",
        "+ unit 4개 hidden layer \n",
        "+ dropout\n",
        "+ 2개 output layser : 이진분류"
      ]
    },
    {
      "cell_type": "markdown",
      "metadata": {
        "id": "Opb5-0OI0YIS"
      },
      "source": [
        "![다중분류](https://github.com/gzone2000/TEMP_TEST/raw/master/hidden_layer2.PNG)\n",
        "+ [출처] https://www.educba.com/dnn-neural-network/"
      ]
    },
    {
      "cell_type": "code",
      "execution_count": 77,
      "metadata": {
        "id": "k0Tiq3A40YIS"
      },
      "outputs": [],
      "source": [
        "# 39개 input layer\n",
        "# unit 5개 hidden layer\n",
        "# dropout\n",
        "# unit 4개 hidden layer \n",
        "# dropout\n",
        "# 2개 output layser : 다중분류\n",
        "\n",
        "model = Sequential()\n",
        "model.add(Dense(5, activation='relu', input_shape=(39,)))\n",
        "model.add(Dropout(0.3))\n",
        "model.add(Dense(4, activation='relu'))\n",
        "model.add(Dropout(0.3))\n",
        "model.add(Dense(2, activation='softmax'))"
      ]
    },
    {
      "cell_type": "markdown",
      "metadata": {
        "id": "sheeDtax0YIS"
      },
      "source": [
        "####  \n",
        "### 모델 확인"
      ]
    },
    {
      "cell_type": "code",
      "execution_count": 78,
      "metadata": {
        "colab": {
          "base_uri": "https://localhost:8080/"
        },
        "id": "sLGbErrf0YIT",
        "outputId": "08ac5f94-b542-4428-80d3-524552022da9"
      },
      "outputs": [
        {
          "output_type": "stream",
          "name": "stdout",
          "text": [
            "Model: \"sequential_5\"\n",
            "_________________________________________________________________\n",
            " Layer (type)                Output Shape              Param #   \n",
            "=================================================================\n",
            " dense_12 (Dense)            (None, 5)                 200       \n",
            "                                                                 \n",
            " dropout_4 (Dropout)         (None, 5)                 0         \n",
            "                                                                 \n",
            " dense_13 (Dense)            (None, 4)                 24        \n",
            "                                                                 \n",
            " dropout_5 (Dropout)         (None, 4)                 0         \n",
            "                                                                 \n",
            " dense_14 (Dense)            (None, 2)                 10        \n",
            "                                                                 \n",
            "=================================================================\n",
            "Total params: 234\n",
            "Trainable params: 234\n",
            "Non-trainable params: 0\n",
            "_________________________________________________________________\n"
          ]
        }
      ],
      "source": [
        "model.summary()"
      ]
    },
    {
      "cell_type": "markdown",
      "metadata": {
        "id": "uSa3lsUp0YIT"
      },
      "source": [
        "####  \n",
        "### 모델 컴파일 – 다중 분류 모델"
      ]
    },
    {
      "cell_type": "code",
      "execution_count": 79,
      "metadata": {
        "id": "8uqwCzFC0YIT"
      },
      "outputs": [],
      "source": [
        "model.compile(optimizer='adam', \n",
        "              loss='sparse_categorical_crossentropy', \n",
        "              metrics=['accuracy']) "
      ]
    },
    {
      "cell_type": "markdown",
      "metadata": {
        "id": "RhUlTphR0YIT"
      },
      "source": [
        "####  \n",
        "### 모델 학습"
      ]
    },
    {
      "cell_type": "code",
      "execution_count": 80,
      "metadata": {
        "colab": {
          "base_uri": "https://localhost:8080/"
        },
        "id": "FfooZ2jr0YIT",
        "outputId": "3eeaa715-2cf7-4745-b4e7-297c1e2e909f"
      },
      "outputs": [
        {
          "output_type": "stream",
          "name": "stdout",
          "text": [
            "Epoch 1/20\n",
            "308/308 [==============================] - 1s 3ms/step - loss: 0.5423 - accuracy: 0.7340 - val_loss: 0.4814 - val_accuracy: 0.7345\n",
            "Epoch 2/20\n",
            "308/308 [==============================] - 1s 2ms/step - loss: 0.5129 - accuracy: 0.7344 - val_loss: 0.4632 - val_accuracy: 0.7345\n",
            "Epoch 3/20\n",
            "308/308 [==============================] - 1s 2ms/step - loss: 0.4937 - accuracy: 0.7344 - val_loss: 0.4513 - val_accuracy: 0.7345\n",
            "Epoch 4/20\n",
            "308/308 [==============================] - 1s 2ms/step - loss: 0.4901 - accuracy: 0.7344 - val_loss: 0.4492 - val_accuracy: 0.7345\n",
            "Epoch 5/20\n",
            "308/308 [==============================] - 1s 2ms/step - loss: 0.4816 - accuracy: 0.7344 - val_loss: 0.4449 - val_accuracy: 0.7345\n",
            "Epoch 6/20\n",
            "308/308 [==============================] - 1s 2ms/step - loss: 0.4837 - accuracy: 0.7344 - val_loss: 0.4466 - val_accuracy: 0.7345\n",
            "Epoch 7/20\n",
            "308/308 [==============================] - 1s 2ms/step - loss: 0.4725 - accuracy: 0.7344 - val_loss: 0.4401 - val_accuracy: 0.7345\n",
            "Epoch 8/20\n",
            "308/308 [==============================] - 1s 2ms/step - loss: 0.4767 - accuracy: 0.7344 - val_loss: 0.4426 - val_accuracy: 0.7345\n",
            "Epoch 9/20\n",
            "308/308 [==============================] - 1s 2ms/step - loss: 0.4747 - accuracy: 0.7344 - val_loss: 0.4405 - val_accuracy: 0.7345\n",
            "Epoch 10/20\n",
            "308/308 [==============================] - 1s 2ms/step - loss: 0.4708 - accuracy: 0.7344 - val_loss: 0.4416 - val_accuracy: 0.7345\n",
            "Epoch 11/20\n",
            "308/308 [==============================] - 1s 2ms/step - loss: 0.4726 - accuracy: 0.7344 - val_loss: 0.4392 - val_accuracy: 0.7345\n",
            "Epoch 12/20\n",
            "308/308 [==============================] - 1s 2ms/step - loss: 0.4619 - accuracy: 0.7344 - val_loss: 0.4355 - val_accuracy: 0.7345\n",
            "Epoch 13/20\n",
            "308/308 [==============================] - 1s 2ms/step - loss: 0.4672 - accuracy: 0.7344 - val_loss: 0.4368 - val_accuracy: 0.7345\n",
            "Epoch 14/20\n",
            "308/308 [==============================] - 1s 2ms/step - loss: 0.4725 - accuracy: 0.7344 - val_loss: 0.4408 - val_accuracy: 0.7345\n",
            "Epoch 15/20\n",
            "308/308 [==============================] - 1s 2ms/step - loss: 0.4693 - accuracy: 0.7344 - val_loss: 0.4354 - val_accuracy: 0.7345\n",
            "Epoch 16/20\n",
            "308/308 [==============================] - 1s 2ms/step - loss: 0.4689 - accuracy: 0.7344 - val_loss: 0.4373 - val_accuracy: 0.7345\n",
            "Epoch 17/20\n",
            "308/308 [==============================] - 1s 2ms/step - loss: 0.4701 - accuracy: 0.7344 - val_loss: 0.4358 - val_accuracy: 0.7345\n",
            "Epoch 18/20\n",
            "308/308 [==============================] - 1s 2ms/step - loss: 0.4660 - accuracy: 0.7344 - val_loss: 0.4356 - val_accuracy: 0.7345\n",
            "Epoch 19/20\n",
            "308/308 [==============================] - 1s 2ms/step - loss: 0.4638 - accuracy: 0.7344 - val_loss: 0.4332 - val_accuracy: 0.7345\n",
            "Epoch 20/20\n",
            "308/308 [==============================] - 1s 2ms/step - loss: 0.4739 - accuracy: 0.7340 - val_loss: 0.4344 - val_accuracy: 0.7345\n"
          ]
        }
      ],
      "source": [
        "history = model.fit(X_train, y_train, \n",
        "          validation_data=(X_test, y_test),\n",
        "          epochs=20, \n",
        "          batch_size=16)"
      ]
    },
    {
      "cell_type": "markdown",
      "metadata": {
        "id": "qsohXyXZ0YIT"
      },
      "source": [
        "####  \n",
        "### Callback : 조기종료, 모델 저장"
      ]
    },
    {
      "cell_type": "code",
      "execution_count": 40,
      "metadata": {
        "id": "z7d_nFMf0YIU"
      },
      "outputs": [],
      "source": [
        "from tensorflow.keras.callbacks import EarlyStopping, ModelCheckpoint"
      ]
    },
    {
      "cell_type": "code",
      "execution_count": 41,
      "metadata": {
        "id": "hoOULwhL0YIU"
      },
      "outputs": [],
      "source": [
        "# val_loss 모니터링해서 성능이 5번 지나도록 좋아지지 않으면 조기 종료\n",
        "early_stop = EarlyStopping(monitor='val_loss', mode='min', \n",
        "                           verbose=1, patience=5)"
      ]
    },
    {
      "cell_type": "code",
      "execution_count": 42,
      "metadata": {
        "id": "bKT5doN10YIU"
      },
      "outputs": [],
      "source": [
        "# val_loss 가장 낮은 값을 가질때마다 모델저장\n",
        "check_point = ModelCheckpoint('best_model.h5', verbose=1, \n",
        "                              monitor='val_loss', mode='min', save_best_only=True)"
      ]
    },
    {
      "cell_type": "markdown",
      "metadata": {
        "id": "3IUAfPnJ0YIU"
      },
      "source": [
        "####  \n",
        "### 모델 학습"
      ]
    },
    {
      "cell_type": "code",
      "execution_count": 81,
      "metadata": {
        "colab": {
          "base_uri": "https://localhost:8080/"
        },
        "id": "-TYvrlT90YIU",
        "outputId": "0b31a7e1-4245-4de1-c242-2453fac92079"
      },
      "outputs": [
        {
          "output_type": "stream",
          "name": "stdout",
          "text": [
            "Epoch 1/50\n",
            "227/246 [==========================>...] - ETA: 0s - loss: 0.4627 - accuracy: 0.7361\n",
            "Epoch 1: val_loss did not improve from 0.43201\n",
            "246/246 [==============================] - 1s 2ms/step - loss: 0.4659 - accuracy: 0.7344 - val_loss: 0.4404 - val_accuracy: 0.7345\n",
            "Epoch 2/50\n",
            "232/246 [===========================>..] - ETA: 0s - loss: 0.4686 - accuracy: 0.7328\n",
            "Epoch 2: val_loss did not improve from 0.43201\n",
            "246/246 [==============================] - 1s 2ms/step - loss: 0.4663 - accuracy: 0.7344 - val_loss: 0.4333 - val_accuracy: 0.7345\n",
            "Epoch 3/50\n",
            "243/246 [============================>.] - ETA: 0s - loss: 0.4687 - accuracy: 0.7337\n",
            "Epoch 3: val_loss did not improve from 0.43201\n",
            "246/246 [==============================] - 0s 2ms/step - loss: 0.4675 - accuracy: 0.7344 - val_loss: 0.4340 - val_accuracy: 0.7345\n",
            "Epoch 4/50\n",
            "238/246 [============================>.] - ETA: 0s - loss: 0.4647 - accuracy: 0.7395\n",
            "Epoch 4: val_loss did not improve from 0.43201\n",
            "246/246 [==============================] - 1s 2ms/step - loss: 0.4618 - accuracy: 0.7422 - val_loss: 0.4327 - val_accuracy: 0.7345\n",
            "Epoch 5/50\n",
            "221/246 [=========================>....] - ETA: 0s - loss: 0.4607 - accuracy: 0.7575\n",
            "Epoch 5: val_loss did not improve from 0.43201\n",
            "246/246 [==============================] - 1s 2ms/step - loss: 0.4602 - accuracy: 0.7590 - val_loss: 0.4322 - val_accuracy: 0.7937\n",
            "Epoch 6/50\n",
            "221/246 [=========================>....] - ETA: 0s - loss: 0.4681 - accuracy: 0.7688\n",
            "Epoch 6: val_loss did not improve from 0.43201\n",
            "246/246 [==============================] - 1s 2ms/step - loss: 0.4674 - accuracy: 0.7662 - val_loss: 0.4356 - val_accuracy: 0.7971\n",
            "Epoch 7/50\n",
            "225/246 [==========================>...] - ETA: 0s - loss: 0.4631 - accuracy: 0.7838\n",
            "Epoch 7: val_loss improved from 0.43201 to 0.43040, saving model to best_model.h5\n",
            "246/246 [==============================] - 1s 2ms/step - loss: 0.4614 - accuracy: 0.7828 - val_loss: 0.4304 - val_accuracy: 0.7909\n",
            "Epoch 8/50\n",
            "214/246 [=========================>....] - ETA: 0s - loss: 0.4612 - accuracy: 0.7923\n",
            "Epoch 8: val_loss did not improve from 0.43040\n",
            "246/246 [==============================] - 0s 2ms/step - loss: 0.4634 - accuracy: 0.7914 - val_loss: 0.4341 - val_accuracy: 0.8004\n",
            "Epoch 9/50\n",
            "223/246 [==========================>...] - ETA: 0s - loss: 0.4610 - accuracy: 0.7857\n",
            "Epoch 9: val_loss did not improve from 0.43040\n",
            "246/246 [==============================] - 1s 2ms/step - loss: 0.4620 - accuracy: 0.7834 - val_loss: 0.4323 - val_accuracy: 0.8018\n",
            "Epoch 10/50\n",
            "225/246 [==========================>...] - ETA: 0s - loss: 0.4609 - accuracy: 0.7816\n",
            "Epoch 10: val_loss did not improve from 0.43040\n",
            "246/246 [==============================] - 1s 2ms/step - loss: 0.4640 - accuracy: 0.7788 - val_loss: 0.4328 - val_accuracy: 0.8032\n",
            "Epoch 11/50\n",
            "218/246 [=========================>....] - ETA: 0s - loss: 0.4606 - accuracy: 0.7869\n",
            "Epoch 11: val_loss did not improve from 0.43040\n",
            "246/246 [==============================] - 1s 2ms/step - loss: 0.4616 - accuracy: 0.7847 - val_loss: 0.4338 - val_accuracy: 0.8023\n",
            "Epoch 12/50\n",
            "212/246 [========================>.....] - ETA: 0s - loss: 0.4539 - accuracy: 0.7929\n",
            "Epoch 12: val_loss did not improve from 0.43040\n",
            "246/246 [==============================] - 1s 2ms/step - loss: 0.4564 - accuracy: 0.7900 - val_loss: 0.4305 - val_accuracy: 0.7980\n",
            "Epoch 12: early stopping\n"
          ]
        }
      ],
      "source": [
        "history = model.fit(x=X_train, y=y_train, \n",
        "          epochs=50 , batch_size=20,\n",
        "          validation_data=(X_test, y_test), verbose=1,\n",
        "          callbacks=[early_stop, check_point])"
      ]
    },
    {
      "cell_type": "markdown",
      "metadata": {
        "id": "pWF_TAU-0YIV"
      },
      "source": [
        "####  \n",
        "## ⑧ 모델 성능 평가"
      ]
    },
    {
      "cell_type": "code",
      "execution_count": 44,
      "metadata": {
        "id": "htUz49CR0YIV"
      },
      "outputs": [],
      "source": [
        "losses = pd.DataFrame(model.history.history)"
      ]
    },
    {
      "cell_type": "code",
      "execution_count": 45,
      "metadata": {
        "colab": {
          "base_uri": "https://localhost:8080/",
          "height": 206
        },
        "id": "6GAnPrgb0YIV",
        "outputId": "f8dc0d38-aa54-4702-f404-2fdc3036d97d"
      },
      "outputs": [
        {
          "output_type": "execute_result",
          "data": {
            "text/plain": [
              "       loss  accuracy  val_loss  val_accuracy\n",
              "0  0.472643  0.768605  0.437521      0.795638\n",
              "1  0.472719  0.760268  0.434191      0.796586\n",
              "2  0.473267  0.769825  0.434259      0.792319\n",
              "3  0.468788  0.764742  0.433287      0.797534\n",
              "4  0.463253  0.769418  0.432012      0.798009"
            ],
            "text/html": [
              "\n",
              "  <div id=\"df-df03dcb8-f332-4834-8887-ce1845f7c384\">\n",
              "    <div class=\"colab-df-container\">\n",
              "      <div>\n",
              "<style scoped>\n",
              "    .dataframe tbody tr th:only-of-type {\n",
              "        vertical-align: middle;\n",
              "    }\n",
              "\n",
              "    .dataframe tbody tr th {\n",
              "        vertical-align: top;\n",
              "    }\n",
              "\n",
              "    .dataframe thead th {\n",
              "        text-align: right;\n",
              "    }\n",
              "</style>\n",
              "<table border=\"1\" class=\"dataframe\">\n",
              "  <thead>\n",
              "    <tr style=\"text-align: right;\">\n",
              "      <th></th>\n",
              "      <th>loss</th>\n",
              "      <th>accuracy</th>\n",
              "      <th>val_loss</th>\n",
              "      <th>val_accuracy</th>\n",
              "    </tr>\n",
              "  </thead>\n",
              "  <tbody>\n",
              "    <tr>\n",
              "      <th>0</th>\n",
              "      <td>0.472643</td>\n",
              "      <td>0.768605</td>\n",
              "      <td>0.437521</td>\n",
              "      <td>0.795638</td>\n",
              "    </tr>\n",
              "    <tr>\n",
              "      <th>1</th>\n",
              "      <td>0.472719</td>\n",
              "      <td>0.760268</td>\n",
              "      <td>0.434191</td>\n",
              "      <td>0.796586</td>\n",
              "    </tr>\n",
              "    <tr>\n",
              "      <th>2</th>\n",
              "      <td>0.473267</td>\n",
              "      <td>0.769825</td>\n",
              "      <td>0.434259</td>\n",
              "      <td>0.792319</td>\n",
              "    </tr>\n",
              "    <tr>\n",
              "      <th>3</th>\n",
              "      <td>0.468788</td>\n",
              "      <td>0.764742</td>\n",
              "      <td>0.433287</td>\n",
              "      <td>0.797534</td>\n",
              "    </tr>\n",
              "    <tr>\n",
              "      <th>4</th>\n",
              "      <td>0.463253</td>\n",
              "      <td>0.769418</td>\n",
              "      <td>0.432012</td>\n",
              "      <td>0.798009</td>\n",
              "    </tr>\n",
              "  </tbody>\n",
              "</table>\n",
              "</div>\n",
              "      <button class=\"colab-df-convert\" onclick=\"convertToInteractive('df-df03dcb8-f332-4834-8887-ce1845f7c384')\"\n",
              "              title=\"Convert this dataframe to an interactive table.\"\n",
              "              style=\"display:none;\">\n",
              "        \n",
              "  <svg xmlns=\"http://www.w3.org/2000/svg\" height=\"24px\"viewBox=\"0 0 24 24\"\n",
              "       width=\"24px\">\n",
              "    <path d=\"M0 0h24v24H0V0z\" fill=\"none\"/>\n",
              "    <path d=\"M18.56 5.44l.94 2.06.94-2.06 2.06-.94-2.06-.94-.94-2.06-.94 2.06-2.06.94zm-11 1L8.5 8.5l.94-2.06 2.06-.94-2.06-.94L8.5 2.5l-.94 2.06-2.06.94zm10 10l.94 2.06.94-2.06 2.06-.94-2.06-.94-.94-2.06-.94 2.06-2.06.94z\"/><path d=\"M17.41 7.96l-1.37-1.37c-.4-.4-.92-.59-1.43-.59-.52 0-1.04.2-1.43.59L10.3 9.45l-7.72 7.72c-.78.78-.78 2.05 0 2.83L4 21.41c.39.39.9.59 1.41.59.51 0 1.02-.2 1.41-.59l7.78-7.78 2.81-2.81c.8-.78.8-2.07 0-2.86zM5.41 20L4 18.59l7.72-7.72 1.47 1.35L5.41 20z\"/>\n",
              "  </svg>\n",
              "      </button>\n",
              "      \n",
              "  <style>\n",
              "    .colab-df-container {\n",
              "      display:flex;\n",
              "      flex-wrap:wrap;\n",
              "      gap: 12px;\n",
              "    }\n",
              "\n",
              "    .colab-df-convert {\n",
              "      background-color: #E8F0FE;\n",
              "      border: none;\n",
              "      border-radius: 50%;\n",
              "      cursor: pointer;\n",
              "      display: none;\n",
              "      fill: #1967D2;\n",
              "      height: 32px;\n",
              "      padding: 0 0 0 0;\n",
              "      width: 32px;\n",
              "    }\n",
              "\n",
              "    .colab-df-convert:hover {\n",
              "      background-color: #E2EBFA;\n",
              "      box-shadow: 0px 1px 2px rgba(60, 64, 67, 0.3), 0px 1px 3px 1px rgba(60, 64, 67, 0.15);\n",
              "      fill: #174EA6;\n",
              "    }\n",
              "\n",
              "    [theme=dark] .colab-df-convert {\n",
              "      background-color: #3B4455;\n",
              "      fill: #D2E3FC;\n",
              "    }\n",
              "\n",
              "    [theme=dark] .colab-df-convert:hover {\n",
              "      background-color: #434B5C;\n",
              "      box-shadow: 0px 1px 3px 1px rgba(0, 0, 0, 0.15);\n",
              "      filter: drop-shadow(0px 1px 2px rgba(0, 0, 0, 0.3));\n",
              "      fill: #FFFFFF;\n",
              "    }\n",
              "  </style>\n",
              "\n",
              "      <script>\n",
              "        const buttonEl =\n",
              "          document.querySelector('#df-df03dcb8-f332-4834-8887-ce1845f7c384 button.colab-df-convert');\n",
              "        buttonEl.style.display =\n",
              "          google.colab.kernel.accessAllowed ? 'block' : 'none';\n",
              "\n",
              "        async function convertToInteractive(key) {\n",
              "          const element = document.querySelector('#df-df03dcb8-f332-4834-8887-ce1845f7c384');\n",
              "          const dataTable =\n",
              "            await google.colab.kernel.invokeFunction('convertToInteractive',\n",
              "                                                     [key], {});\n",
              "          if (!dataTable) return;\n",
              "\n",
              "          const docLinkHtml = 'Like what you see? Visit the ' +\n",
              "            '<a target=\"_blank\" href=https://colab.research.google.com/notebooks/data_table.ipynb>data table notebook</a>'\n",
              "            + ' to learn more about interactive tables.';\n",
              "          element.innerHTML = '';\n",
              "          dataTable['output_type'] = 'display_data';\n",
              "          await google.colab.output.renderOutput(dataTable, element);\n",
              "          const docLink = document.createElement('div');\n",
              "          docLink.innerHTML = docLinkHtml;\n",
              "          element.appendChild(docLink);\n",
              "        }\n",
              "      </script>\n",
              "    </div>\n",
              "  </div>\n",
              "  "
            ]
          },
          "metadata": {},
          "execution_count": 45
        }
      ],
      "source": [
        "losses.head()"
      ]
    },
    {
      "cell_type": "markdown",
      "metadata": {
        "id": "LwkmcZV90YIV"
      },
      "source": [
        "### 성능 시각화"
      ]
    },
    {
      "cell_type": "code",
      "execution_count": 46,
      "metadata": {
        "colab": {
          "base_uri": "https://localhost:8080/",
          "height": 284
        },
        "id": "dQH2Ylx50YIV",
        "outputId": "555af013-f3da-437f-c349-ad73f65a6bf2"
      },
      "outputs": [
        {
          "output_type": "execute_result",
          "data": {
            "text/plain": [
              "<matplotlib.axes._subplots.AxesSubplot at 0x7fe0e74b2150>"
            ]
          },
          "metadata": {},
          "execution_count": 46
        },
        {
          "output_type": "display_data",
          "data": {
            "text/plain": [
              "<Figure size 432x288 with 1 Axes>"
            ],
            "image/png": "[encoded data removed]"
          },
          "metadata": {
            "needs_background": "light"
          }
        }
      ],
      "source": [
        "losses[['loss','val_loss']].plot()"
      ]
    },
    {
      "cell_type": "code",
      "execution_count": 47,
      "metadata": {
        "colab": {
          "base_uri": "https://localhost:8080/",
          "height": 282
        },
        "id": "aOVaAShI0YIV",
        "outputId": "cfd51748-8ba8-4586-d581-ba794cf020fa"
      },
      "outputs": [
        {
          "output_type": "execute_result",
          "data": {
            "text/plain": [
              "<matplotlib.axes._subplots.AxesSubplot at 0x7fe0e757b650>"
            ]
          },
          "metadata": {},
          "execution_count": 47
        },
        {
          "output_type": "display_data",
          "data": {
            "text/plain": [
              "<Figure size 432x288 with 1 Axes>"
            ],
            "image/png": "[encoded data removed]"
          },
          "metadata": {
            "needs_background": "light"
          }
        }
      ],
      "source": [
        "losses[['loss','val_loss', 'accuracy','val_accuracy']].plot()"
      ]
    },
    {
      "cell_type": "code",
      "execution_count": 48,
      "metadata": {
        "scrolled": true,
        "colab": {
          "base_uri": "https://localhost:8080/",
          "height": 295
        },
        "id": "p3Z4OGG40YIW",
        "outputId": "d62c93c0-ad35-4c37-cb3b-4b9aff928d27"
      },
      "outputs": [
        {
          "output_type": "display_data",
          "data": {
            "text/plain": [
              "<Figure size 432x288 with 1 Axes>"
            ],
            "image/png": "[encoded data removed]"
          },
          "metadata": {
            "needs_background": "light"
          }
        }
      ],
      "source": [
        "plt.plot(history.history['accuracy'])\n",
        "plt.plot(history.history['val_accuracy'])\n",
        "plt.title('Accuracy')\n",
        "plt.xlabel('Epochs')\n",
        "plt.ylabel('Acc')\n",
        "plt.legend(['acc', 'val_acc'])\n",
        "plt.show()"
      ]
    },
    {
      "cell_type": "markdown",
      "metadata": {
        "id": "1u_eyBJL0YIW"
      },
      "source": [
        "### 성능 평가"
      ]
    },
    {
      "cell_type": "code",
      "execution_count": 49,
      "metadata": {
        "id": "7tztF7yi0YIW"
      },
      "outputs": [],
      "source": [
        "from sklearn.metrics import accuracy_score, precision_score, recall_score, f1_score\n",
        "from sklearn.metrics import classification_report"
      ]
    },
    {
      "cell_type": "code",
      "execution_count": 50,
      "metadata": {
        "id": "3IWrThr20YIW"
      },
      "outputs": [],
      "source": [
        "pred = model.predict(X_test)"
      ]
    },
    {
      "cell_type": "code",
      "execution_count": 51,
      "metadata": {
        "colab": {
          "base_uri": "https://localhost:8080/"
        },
        "id": "y_q7Pz-j0YIW",
        "outputId": "56fb23c5-c0ba-497a-ed13-e2f4d3c87724"
      },
      "outputs": [
        {
          "output_type": "execute_result",
          "data": {
            "text/plain": [
              "(2109, 2)"
            ]
          },
          "metadata": {},
          "execution_count": 51
        }
      ],
      "source": [
        "pred.shape"
      ]
    },
    {
      "cell_type": "code",
      "execution_count": 52,
      "metadata": {
        "id": "ogC2i7810YIa"
      },
      "outputs": [],
      "source": [
        "y_pred = np.argmax(pred, axis=1)"
      ]
    },
    {
      "cell_type": "code",
      "execution_count": 53,
      "metadata": {
        "colab": {
          "base_uri": "https://localhost:8080/"
        },
        "id": "nEI_Exmv0YIa",
        "outputId": "da2f201d-1a63-4dc7-ea4e-0b0dbf08767e"
      },
      "outputs": [
        {
          "output_type": "execute_result",
          "data": {
            "text/plain": [
              "0.7999051683262209"
            ]
          },
          "metadata": {},
          "execution_count": 53
        }
      ],
      "source": [
        "# 정확도 80%\n",
        "accuracy_score(y_test, y_pred)"
      ]
    },
    {
      "cell_type": "code",
      "execution_count": 54,
      "metadata": {
        "colab": {
          "base_uri": "https://localhost:8080/"
        },
        "id": "Ftb7Y6K_0YIa",
        "outputId": "446d7889-0d31-4a54-d445-7b4e48395409"
      },
      "outputs": [
        {
          "output_type": "execute_result",
          "data": {
            "text/plain": [
              "0.49107142857142855"
            ]
          },
          "metadata": {},
          "execution_count": 54
        }
      ],
      "source": [
        "# 재현율 성능이 좋지 않다\n",
        "recall_score(y_test, y_pred)"
      ]
    },
    {
      "cell_type": "markdown",
      "source": [
        "##### <font color=blue>**[문제] accuracy, recall, precision 성능 한번에 출력해보세요 </font>"
      ],
      "metadata": {
        "id": "qD_7fGGmPw43"
      }
    },
    {
      "cell_type": "code",
      "execution_count": 58,
      "metadata": {
        "colab": {
          "base_uri": "https://localhost:8080/"
        },
        "id": "zEdx0ESm0YIb",
        "outputId": "3afd6767-f055-4d0f-8430-b8c44da84203"
      },
      "outputs": [
        {
          "output_type": "stream",
          "name": "stdout",
          "text": [
            "              precision    recall  f1-score   support\n",
            "\n",
            "           0       0.83      0.91      0.87      1549\n",
            "           1       0.67      0.49      0.57       560\n",
            "\n",
            "    accuracy                           0.80      2109\n",
            "   macro avg       0.75      0.70      0.72      2109\n",
            "weighted avg       0.79      0.80      0.79      2109\n",
            "\n"
          ]
        }
      ],
      "source": [
        "# accuracy, recall, precision 성능 한번에 보기\n",
        "print(classification_report(y_test, y_pred))"
      ]
    },
    {
      "cell_type": "code",
      "execution_count": null,
      "metadata": {
        "id": "cphLsim20YIi"
      },
      "outputs": [],
      "source": [
        "'''\n",
        "# 재현율을 높이려면?\n",
        "1. 하이퍼파라미터 바꾸면서 성능 향상이 되는지 확인\n",
        "2. 데이터 수를 늘리거나 줄이거나, Feature를 늘리거나 줄이거나\n",
        "  - oversampling, undersampling\n",
        "    (SMOTE)\n",
        "'''"
      ]
    }
  ],
  "metadata": {
    "kernelspec": {
      "display_name": "Python 3 (ipykernel)",
      "language": "python",
      "name": "python3"
    },
    "language_info": {
      "codemirror_mode": {
        "name": "ipython",
        "version": 3
      },
      "file_extension": ".py",
      "mimetype": "text/x-python",
      "name": "python",
      "nbconvert_exporter": "python",
      "pygments_lexer": "ipython3",
      "version": "3.9.7"
    },
    "colab": {
      "name": "03_딥러닝_퀴즈.ipynb",
      "provenance": [],
      "collapsed_sections": [],
      "include_colab_link": true
    }
  },
  "nbformat": 4,
  "nbformat_minor": 0
}