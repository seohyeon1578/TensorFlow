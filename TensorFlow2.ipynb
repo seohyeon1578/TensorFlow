{
  "nbformat": 4,
  "nbformat_minor": 0,
  "metadata": {
    "colab": {
      "name": "TensorFlow2.ipynb",
      "provenance": [],
      "toc_visible": true,
      "authorship_tag": "ABX9TyPhBlTin3RDVCPgvr/SjsTY",
      "include_colab_link": true
    },
    "kernelspec": {
      "name": "python3",
      "display_name": "Python 3"
    },
    "language_info": {
      "name": "python"
    },
    "accelerator": "GPU"
  },
  "cells": [
    {
      "cell_type": "markdown",
      "metadata": {
        "id": "view-in-github",
        "colab_type": "text"
      },
      "source": [
        "<a href=\"https://colab.research.google.com/github/seohyeon1578/TensorFlow/blob/main/TensorFlow2.ipynb\" target=\"_parent\"><img src=\"https://colab.research.google.com/assets/colab-badge.svg\" alt=\"Open In Colab\"/></a>"
      ]
    },
    {
      "cell_type": "markdown",
      "source": [
        "#Hello World\n",
        "\n"
      ],
      "metadata": {
        "id": "8o12f4dxIX0z"
      }
    },
    {
      "cell_type": "code",
      "source": [
        "print(\"Hello World!\")"
      ],
      "metadata": {
        "colab": {
          "base_uri": "https://localhost:8080/"
        },
        "id": "PpMtZWT2gQuH",
        "outputId": "9008caea-21bb-46c3-a8f9-ca257470e8de"
      },
      "execution_count": null,
      "outputs": [
        {
          "output_type": "stream",
          "name": "stdout",
          "text": [
            "Hello World!\n"
          ]
        }
      ]
    },
    {
      "cell_type": "markdown",
      "source": [
        "#Hello 텐서플로 \n"
      ],
      "metadata": {
        "id": "XnwQOAoQhM55"
      }
    },
    {
      "cell_type": "code",
      "source": [
        "try:\n",
        "  # %tensorflow_version only exists in Colab.\n",
        "  %tensorflow_version 2.x\n",
        "except Exception:\n",
        "  pass\n",
        "import tensorflow as tf"
      ],
      "metadata": {
        "id": "BqqvlxVBhbmF"
      },
      "execution_count": null,
      "outputs": []
    },
    {
      "cell_type": "code",
      "source": [
        "import tensorflow as tf\n",
        "print(tf.__version__)"
      ],
      "metadata": {
        "colab": {
          "base_uri": "https://localhost:8080/"
        },
        "id": "lV5V7csDihVW",
        "outputId": "0d0fae0f-f800-49e9-d59b-49eba37d19be"
      },
      "execution_count": null,
      "outputs": [
        {
          "output_type": "stream",
          "name": "stdout",
          "text": [
            "2.8.0\n"
          ]
        }
      ]
    },
    {
      "cell_type": "markdown",
      "source": [
        "# Tensolflow 기초\n",
        "\n",
        "\n",
        "\n",
        "\n",
        "\n"
      ],
      "metadata": {
        "id": "1DKYk80afil3"
      }
    },
    {
      "cell_type": "markdown",
      "source": [
        "## 난수 생성\n"
      ],
      "metadata": {
        "id": "zDm3zttRHomV"
      }
    },
    {
      "cell_type": "code",
      "source": [
        "#난수 얻기(균일 분포)\n",
        "rand = tf.random.uniform([1],0,1)\n",
        "print(rand)"
      ],
      "metadata": {
        "colab": {
          "base_uri": "https://localhost:8080/"
        },
        "id": "j4E3M1wYxbPk",
        "outputId": "0ed9f780-bf59-4b1a-cd7f-4a7072506290"
      },
      "execution_count": null,
      "outputs": [
        {
          "output_type": "stream",
          "name": "stdout",
          "text": [
            "tf.Tensor([0.69696283], shape=(1,), dtype=float32)\n"
          ]
        }
      ]
    },
    {
      "cell_type": "code",
      "source": [
        "#난수 여러개(균일 분포)\n",
        "rand = tf.random.uniform([4],0,1)\n",
        "print(rand)"
      ],
      "metadata": {
        "colab": {
          "base_uri": "https://localhost:8080/"
        },
        "id": "WqvS06l_Im7w",
        "outputId": "242676aa-adc8-443e-d371-07592d0ca192"
      },
      "execution_count": null,
      "outputs": [
        {
          "output_type": "stream",
          "name": "stdout",
          "text": [
            "tf.Tensor([0.29850507 0.20665205 0.4142586  0.7239971 ], shape=(4,), dtype=float32)\n"
          ]
        }
      ]
    },
    {
      "cell_type": "code",
      "source": [
        "#난수 여러개(정규 분포)\n",
        "rand = tf.random.normal([4],0,1)\n",
        "print(rand)"
      ],
      "metadata": {
        "colab": {
          "base_uri": "https://localhost:8080/"
        },
        "id": "G5Hafq6uI58v",
        "outputId": "af7b0ffe-1c52-4c4a-a065-b9de9bf16197"
      },
      "execution_count": null,
      "outputs": [
        {
          "output_type": "stream",
          "name": "stdout",
          "text": [
            "tf.Tensor([ 1.4507028 -0.7078389  0.681816   1.2418281], shape=(4,), dtype=float32)\n"
          ]
        }
      ]
    },
    {
      "cell_type": "markdown",
      "source": [
        "## 뉴런 만들기"
      ],
      "metadata": {
        "id": "UPt77jI0J-4m"
      }
    },
    {
      "cell_type": "code",
      "source": [
        "#활성화 함수(sigmoid)\n",
        "import math\n",
        "def sigmoid(x):\n",
        "  return 1/(1 + math.exp(-x))"
      ],
      "metadata": {
        "id": "9YygYnKiKSui"
      },
      "execution_count": null,
      "outputs": []
    },
    {
      "cell_type": "code",
      "source": [
        "# 뉴련의 정의\n",
        "x = 1\n",
        "y = 0\n",
        "w = tf.random.normal([1],0,1)\n",
        "output = sigmoid(x*w)\n",
        "print(output)"
      ],
      "metadata": {
        "colab": {
          "base_uri": "https://localhost:8080/"
        },
        "id": "UvQiz7fueTVL",
        "outputId": "072f5481-d592-4ff1-eb2c-2a6c9d54cdd7"
      },
      "execution_count": null,
      "outputs": [
        {
          "output_type": "stream",
          "name": "stdout",
          "text": [
            "0.20754830292745333\n"
          ]
        }
      ]
    },
    {
      "cell_type": "code",
      "source": [
        "#경사 하강법 이용 \n",
        "for i in range(1000):\n",
        "  output = sigmoid(x*w)\n",
        "  error = y - output\n",
        "  w = w + x * 0.1 * error\n",
        "\n",
        "  if i % 100 == 99:\n",
        "    print(i, error, output)"
      ],
      "metadata": {
        "colab": {
          "base_uri": "https://localhost:8080/"
        },
        "id": "gC5tZeh6evCC",
        "outputId": "7f1d5518-94d4-4953-a205-bafaf7588aa6"
      },
      "execution_count": null,
      "outputs": [
        {
          "output_type": "stream",
          "name": "stdout",
          "text": [
            "99 -0.07364882390103387 0.07364882390103387\n",
            "199 -0.04339641134530484 0.04339641134530484\n",
            "299 -0.030583194756261072 0.030583194756261072\n",
            "399 -0.023561225339432352 0.023561225339432352\n",
            "499 -0.019142135714371025 0.019142135714371025\n",
            "599 -0.016109848944756002 0.016109848944756002\n",
            "699 -0.013902071698787634 0.013902071698787634\n",
            "799 -0.012223765886456548 0.012223765886456548\n",
            "899 -0.01090537191079757 0.01090537191079757\n",
            "999 -0.009842580931341716 0.009842580931341716\n"
          ]
        }
      ]
    },
    {
      "cell_type": "code",
      "source": [
        "#입력값 0 일떄 출력 1 을 얻는 뉴런의 학습\n",
        "x=0\n",
        "y=1\n",
        "w=tf.random.normal([1],0,1)\n",
        "\n",
        "for i in range(1000):\n",
        "  output = sigmoid(x*w)\n",
        "  error = y - output\n",
        "  w= w+x*0.1*error  \n",
        "\n",
        "  if i % 100 ==99:\n",
        "    print(i, error, output)"
      ],
      "metadata": {
        "colab": {
          "base_uri": "https://localhost:8080/"
        },
        "id": "FJFTUjYWhBXX",
        "outputId": "7ca66ec9-2a9b-426e-a9a9-2d847cc58114"
      },
      "execution_count": null,
      "outputs": [
        {
          "output_type": "stream",
          "name": "stdout",
          "text": [
            "99 0.5 0.5\n",
            "199 0.5 0.5\n",
            "299 0.5 0.5\n",
            "399 0.5 0.5\n",
            "499 0.5 0.5\n",
            "599 0.5 0.5\n",
            "699 0.5 0.5\n",
            "799 0.5 0.5\n",
            "899 0.5 0.5\n",
            "999 0.5 0.5\n"
          ]
        }
      ]
    },
    {
      "cell_type": "markdown",
      "source": [
        "**경사하강법의 업데이트 식이 w = w + X x α x error 이라 x=0이 되므로 w에 더해져 w값이 변하지 않음**"
      ],
      "metadata": {
        "id": "baJzVlfzh6ii"
      }
    },
    {
      "cell_type": "code",
      "source": [
        "#편향을 더한 뉴런의 출력 계산\n",
        "x=0\n",
        "y=1\n",
        "w=tf.random.normal([1],0,1)\n",
        "b=tf.random.normal([1],0,1)\n",
        "\n",
        "for i in range(1000):\n",
        "  output = sigmoid(x * w + 1 * b)\n",
        "  error = y - output\n",
        "  w = w + x * 0.1 * error\n",
        "  b = b + 1 * 0.1 * error \n",
        "\n",
        "  if i % 100 == 99:\n",
        "    print(i, error , output)"
      ],
      "metadata": {
        "colab": {
          "base_uri": "https://localhost:8080/"
        },
        "id": "bcMlLC3gid2-",
        "outputId": "21ffffee-38ff-436b-8215-1d373e34a7df"
      },
      "execution_count": null,
      "outputs": [
        {
          "output_type": "stream",
          "name": "stdout",
          "text": [
            "99 0.08854915949497266 0.9114508405050273\n",
            "199 0.04836629403031201 0.951633705969688\n",
            "299 0.03300701237722403 0.966992987622776\n",
            "399 0.024985122733461984 0.975014877266538\n",
            "499 0.020075892166417808 0.9799241078335822\n",
            "599 0.01676820127733636 0.9832317987226636\n",
            "699 0.014390753672400836 0.9856092463275992\n",
            "799 0.012600631579057331 0.9873993684209427\n",
            "899 0.01120473128614119 0.9887952687138588\n",
            "999 0.010086039052984441 0.9899139609470156\n"
          ]
        }
      ]
    },
    {
      "cell_type": "markdown",
      "source": [
        "## AND\n"
      ],
      "metadata": {
        "id": "_kxCdlIjj5_W"
      }
    },
    {
      "cell_type": "code",
      "source": [
        "import numpy as np\n",
        "x = np.array([[1,1],[1,0],[0,1],[0,0]])\n",
        "y = np.array([[1],[0],[0],[0]])\n",
        "w = tf.random.normal([2],0,1)\n",
        "b = tf.random.normal([1],0,1)\n",
        "b_x = 1\n",
        "\n",
        "for i in range(2000):\n",
        "  error_sum=0\n",
        "  for j in range(4):\n",
        "    output = sigmoid(np.sum(x[j]*w)+b_x*b)\n",
        "    error = y[j][0] - output\n",
        "    w = w + x[j]* 0.1 *error\n",
        "    b = b + b_x * 0.1 *error\n",
        "    error_sum += error\n",
        "\n",
        "  if i % 200 ==199:\n",
        "    print(i, error_sum)"
      ],
      "metadata": {
        "colab": {
          "base_uri": "https://localhost:8080/"
        },
        "id": "94gpVz-nj9mI",
        "outputId": "8da529c6-a8b8-46ae-edac-50de97a18562"
      },
      "execution_count": null,
      "outputs": [
        {
          "output_type": "stream",
          "name": "stdout",
          "text": [
            "199 -0.11256299231932654\n",
            "399 -0.066491461729691\n",
            "599 -0.0470766982559757\n",
            "799 -0.036330990730987736\n",
            "999 -0.029524283030724335\n",
            "1199 -0.024836650203542043\n",
            "1399 -0.021416320317462056\n",
            "1599 -0.018815766621584136\n",
            "1799 -0.01676989173532143\n",
            "1999 -0.015121727277798326\n"
          ]
        }
      ]
    },
    {
      "cell_type": "code",
      "source": [
        "#AND 네트워크 평가\n",
        "for i in range(4):\n",
        "    print('X:', x[i], 'Y:', y[i], 'Output:', sigmoid(np.sum(x[i]*w)+b))"
      ],
      "metadata": {
        "colab": {
          "base_uri": "https://localhost:8080/"
        },
        "id": "YPXS_q565CaN",
        "outputId": "223b3571-8fad-46af-b263-f8a72a7a31ee"
      },
      "execution_count": null,
      "outputs": [
        {
          "output_type": "stream",
          "name": "stdout",
          "text": [
            "X: [1 1] Y: [1] Output: 0.9646955692989921\n",
            "X: [1 0] Y: [0] Output: 0.02501673817940126\n",
            "X: [0 1] Y: [0] Output: 0.02509374257169635\n",
            "X: [0 0] Y: [0] Output: 2.4169337323066545e-05\n"
          ]
        }
      ]
    },
    {
      "cell_type": "markdown",
      "source": [
        "## OR\n"
      ],
      "metadata": {
        "id": "F6dWn1K6m93X"
      }
    },
    {
      "cell_type": "code",
      "source": [
        "import numpy as np\n",
        "x = np.array([[1,1],[1,0],[0,1],[0,0]])\n",
        "y = np.array([[1],[1],[1],[0]])\n",
        "w = tf.random.normal([2],0,1)\n",
        "b = tf.random.normal([1],0,1)\n",
        "b_x = 1\n",
        "\n",
        "for i in range(2000):\n",
        "  error_sum=0\n",
        "  for j in range(4):\n",
        "    output = sigmoid(np.sum(x[j]*w)+b_x*b)\n",
        "    error = y[j][0] - output\n",
        "    w = w + x[j]* 0.1 *error\n",
        "    b = b + b_x * 0.1 *error\n",
        "    error_sum += error\n",
        "\n",
        "  if i % 200 ==199:\n",
        "    print(i, error_sum)"
      ],
      "metadata": {
        "colab": {
          "base_uri": "https://localhost:8080/"
        },
        "id": "WbLQr1ctnA3G",
        "outputId": "b3e8a10c-3005-4cd7-c4be-9fc897400124"
      },
      "execution_count": null,
      "outputs": [
        {
          "output_type": "stream",
          "name": "stdout",
          "text": [
            "199 -0.05039956882177099\n",
            "399 -0.026137292482680874\n",
            "599 -0.017519428282776542\n",
            "799 -0.013127508491199175\n",
            "999 -0.010476720957733825\n",
            "1199 -0.008707372516234893\n",
            "1399 -0.007444521900682691\n",
            "1599 -0.006498668187085936\n",
            "1799 -0.005764579454729409\n",
            "1999 -0.0051773594854850995\n"
          ]
        }
      ]
    },
    {
      "cell_type": "code",
      "source": [
        "#OR 네트워크 평가\n",
        "for i in range(4):\n",
        "    print('X:', x[i], 'Y:', y[i], 'Output:', sigmoid(np.sum(x[i]*w)+b))"
      ],
      "metadata": {
        "colab": {
          "base_uri": "https://localhost:8080/"
        },
        "id": "vaeNIYD8458P",
        "outputId": "a11e9e2c-0474-4827-d9d4-dd8ab5cc8c6d"
      },
      "execution_count": null,
      "outputs": [
        {
          "output_type": "stream",
          "name": "stdout",
          "text": [
            "X: [1 1] Y: [1] Output: 0.9999971599595275\n",
            "X: [1 0] Y: [1] Output: 0.9897318776031043\n",
            "X: [0 1] Y: [1] Output: 0.9897156698015956\n",
            "X: [0 0] Y: [0] Output: 0.025668125060702617\n"
          ]
        }
      ]
    },
    {
      "cell_type": "markdown",
      "source": [
        "## XOR"
      ],
      "metadata": {
        "id": "kqgwNl6zo3Mt"
      }
    },
    {
      "cell_type": "code",
      "source": [
        "#tf.keras를 이용한 XOR\n",
        "import numpy as np\n",
        "x = np.array([[1,1],[1,0],[0,1],[0,0]])\n",
        "y = np.array([[0],[1],[1],[0]])\n",
        "\n",
        "model = tf.keras.Sequential([      #시퀀셜(sequential) 모델           #딥러닝 계산을 위한 여러 함수와 변수의 묶음, model은 keras에서 딥러닝 계산의 가장 핵심적 단위\n",
        "  tf.keras.layers.Dense(units=2, activation='sigmoid', input_shape=(2,)),\n",
        "  tf.keras.layers.Dense(units=1, activation='sigmoid')\n",
        "])\n",
        "\n",
        "model.compile(optimizer=tf.keras.optimizers.SGD(lr=0.1), loss='mse')\n",
        "\n",
        "model.summary()"
      ],
      "metadata": {
        "colab": {
          "base_uri": "https://localhost:8080/"
        },
        "id": "YY31ekhro7To",
        "outputId": "ef17e04c-75ef-48cf-d42b-772a159487c6"
      },
      "execution_count": null,
      "outputs": [
        {
          "output_type": "stream",
          "name": "stdout",
          "text": [
            "Model: \"sequential_2\"\n",
            "_________________________________________________________________\n",
            " Layer (type)                Output Shape              Param #   \n",
            "=================================================================\n",
            " dense_4 (Dense)             (None, 2)                 6         \n",
            "                                                                 \n",
            " dense_5 (Dense)             (None, 1)                 3         \n",
            "                                                                 \n",
            "=================================================================\n",
            "Total params: 9\n",
            "Trainable params: 9\n",
            "Non-trainable params: 0\n",
            "_________________________________________________________________\n"
          ]
        },
        {
          "output_type": "stream",
          "name": "stderr",
          "text": [
            "/usr/local/lib/python3.7/dist-packages/keras/optimizer_v2/gradient_descent.py:102: UserWarning: The `lr` argument is deprecated, use `learning_rate` instead.\n",
            "  super(SGD, self).__init__(name, **kwargs)\n"
          ]
        }
      ]
    },
    {
      "cell_type": "code",
      "source": [
        "#XOR 학습\n",
        "history = model.fit(x, y, epochs=2000, batch_size=1)"
      ],
      "metadata": {
        "id": "k2T8wWparlvu"
      },
      "execution_count": null,
      "outputs": []
    },
    {
      "cell_type": "code",
      "source": [
        "#XOR 네트워크 평가\n",
        "model.predict(x)"
      ],
      "metadata": {
        "id": "Wo4Xzk3b2YGV",
        "outputId": "df8c3ba0-496e-4200-df0b-d1b13fd83b80",
        "colab": {
          "base_uri": "https://localhost:8080/"
        }
      },
      "execution_count": null,
      "outputs": [
        {
          "output_type": "execute_result",
          "data": {
            "text/plain": [
              "array([[0.19448702],\n",
              "       [0.8150845 ],\n",
              "       [0.73360854],\n",
              "       [0.22307162]], dtype=float32)"
            ]
          },
          "metadata": {},
          "execution_count": 20
        }
      ]
    },
    {
      "cell_type": "markdown",
      "source": [
        "# 시각화 기초"
      ],
      "metadata": {
        "id": "MH0dkC0w5wer"
      }
    },
    {
      "cell_type": "markdown",
      "source": [
        "## matplotlib.pyplot을 이용한 그래프 그리기"
      ],
      "metadata": {
        "id": "ytw0kicd54EY"
      }
    },
    {
      "cell_type": "code",
      "source": [
        "#간단한 꺽은선 그래프\n",
        "import matplotlib.pyplot as plt\n",
        "x = range(20)\n",
        "y = tf.random.normal([20],0,1)\n",
        "plt.plot(x,y)\n",
        "plt.show()"
      ],
      "metadata": {
        "colab": {
          "base_uri": "https://localhost:8080/",
          "height": 265
        },
        "id": "mk5VAkZp6J98",
        "outputId": "5e256647-ddaa-4438-8c2b-47a4c79bd371"
      },
      "execution_count": null,
      "outputs": [
        {
          "output_type": "display_data",
          "data": {
            "image/png": "[encoded data removed]",
            "text/plain": [
              "<Figure size 432x288 with 1 Axes>"
            ]
          },
          "metadata": {
            "needs_background": "light"
          }
        }
      ]
    },
    {
      "cell_type": "code",
      "source": [
        "#간단한 점 그래프 그래프\n",
        "import matplotlib.pyplot as plt\n",
        "x = range(20)\n",
        "y = tf.random.normal([20],0,1)\n",
        "plt.plot(x,y,'bo')\n",
        "plt.show()"
      ],
      "metadata": {
        "colab": {
          "base_uri": "https://localhost:8080/",
          "height": 265
        },
        "id": "dFg4wj-v7D11",
        "outputId": "238e639c-65a2-43c9-fbe1-9d4d8496ce1e"
      },
      "execution_count": null,
      "outputs": [
        {
          "output_type": "display_data",
          "data": {
            "image/png": "[encoded data removed]",
            "text/plain": [
              "<Figure size 432x288 with 1 Axes>"
            ]
          },
          "metadata": {
            "needs_background": "light"
          }
        }
      ]
    },
    {
      "cell_type": "markdown",
      "source": [
        "추가된 '**bo**'부분은 파란색(blue) 점(o)을 나타낸다. 선을 나타내고 싶으면 '**b-**, 점선을 나타내고 싶으면 '**b--**', 색깔을 바꾸고 싶으면 b를 다른 색을 나타내는 값(빨간색(r), 노란색(y), 초록색(g), 검정색(k))등으로 바꾸면 된다."
      ],
      "metadata": {
        "id": "fc3Jek9d7dCT"
      }
    },
    {
      "cell_type": "code",
      "source": [
        "#정규 분포 그래프를 히스토그램으로 나타내기\n",
        "import matplotlib.pyplot as plt\n",
        "random_normal = tf.random.normal([100000],0,1)\n",
        "plt.hist(random_normal, bins=100)\n",
        "plt.show()"
      ],
      "metadata": {
        "colab": {
          "base_uri": "https://localhost:8080/",
          "height": 265
        },
        "id": "sAaILjY08NKD",
        "outputId": "d7549572-c600-4d8e-ee7c-827e9c6024b6"
      },
      "execution_count": null,
      "outputs": [
        {
          "output_type": "display_data",
          "data": {
            "image/png": "[encoded data removed]",
            "text/plain": [
              "<Figure size 432x288 with 1 Axes>"
            ]
          },
          "metadata": {
            "needs_background": "light"
          }
        }
      ]
    },
    {
      "cell_type": "markdown",
      "source": [
        "## 레이어 XOR 네트워크의 정보 시각화"
      ],
      "metadata": {
        "id": "6sA1i7el84X2"
      }
    },
    {
      "cell_type": "code",
      "source": [
        "import matplotlib.pyplot as plt\n",
        "plt.plot(history.history['loss'])"
      ],
      "metadata": {
        "colab": {
          "base_uri": "https://localhost:8080/",
          "height": 284
        },
        "id": "bJrV90R4892W",
        "outputId": "b9f897c2-2862-4dd3-b872-d5593bfb55ec"
      },
      "execution_count": null,
      "outputs": [
        {
          "output_type": "execute_result",
          "data": {
            "text/plain": [
              "[<matplotlib.lines.Line2D at 0x7f077e853650>]"
            ]
          },
          "metadata": {},
          "execution_count": 22
        },
        {
          "output_type": "display_data",
          "data": {
            "image/png": "[encoded data removed]",
            "text/plain": [
              "<Figure size 432x288 with 1 Axes>"
            ]
          },
          "metadata": {
            "needs_background": "light"
          }
        }
      ]
    }
  ]
}