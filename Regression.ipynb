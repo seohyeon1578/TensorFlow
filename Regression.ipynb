{
  "nbformat": 4,
  "nbformat_minor": 0,
  "metadata": {
    "colab": {
      "name": "Regression",
      "provenance": [],
      "toc_visible": true,
      "authorship_tag": "ABX9TyOEceNQPhxXzpR0oWUouTv5",
      "include_colab_link": true
    },
    "kernelspec": {
      "name": "python3",
      "display_name": "Python 3"
    },
    "language_info": {
      "name": "python"
    },
    "accelerator": "GPU"
  },
  "cells": [
    {
      "cell_type": "markdown",
      "metadata": {
        "id": "view-in-github",
        "colab_type": "text"
      },
      "source": [
        "<a href=\"https://colab.research.google.com/github/seohyeon1578/TensorFlow/blob/main/Regression.ipynb\" target=\"_parent\"><img src=\"https://colab.research.google.com/assets/colab-badge.svg\" alt=\"Open In Colab\"/></a>"
      ]
    },
    {
      "cell_type": "code",
      "source": [
        "# 텐서플로 2 버전 선택\n",
        "try:\n",
        "    # %tensorflow_version only exists in Colab.\n",
        "    %tensorflow_version 2.x\n",
        "except Exception:\n",
        "    pass"
      ],
      "metadata": {
        "id": "6Cq2ncwiQA2A"
      },
      "execution_count": 107,
      "outputs": []
    },
    {
      "cell_type": "markdown",
      "source": [
        "# 회귀"
      ],
      "metadata": {
        "id": "cxM63DpoPPLp"
      }
    },
    {
      "cell_type": "markdown",
      "source": [
        "## 선형 회귀(Linear Regression)\n"
      ],
      "metadata": {
        "id": "udvlkbVuPTZN"
      }
    },
    {
      "cell_type": "code",
      "source": [
        "#지역별 인구증가율과 고령인구비율 시각화\n",
        "import matplotlib.pyplot as plt\n",
        "population_inc = [0.3, -0.78, 1.26, 0.03, 1.11, 15.17, 0.24, -0.24, -0.47, -0.77, -0.37, -0.85, -0.41, -0.27, 0.02, -0.76, 2.66]\n",
        "population_old = [12.27, 14.44, 11.87, 18.75, 17.52, 9.29, 16.37, 19.78, 19.51, 12.65, 14.74, 10.72, 21.94, 12.83, 15.51, 17.14, 14.42]\n",
        "plt.plot(population_inc, population_old, 'bo')\n",
        "plt.xlabel('Population Growth Rate')\n",
        "plt.ylabel('Elderly Population Rate')\n",
        "plt.show()"
      ],
      "metadata": {
        "colab": {
          "base_uri": "https://localhost:8080/",
          "height": 279
        },
        "id": "DKST9bbNPaFG",
        "outputId": "e15e3fdb-7d9a-4542-9564-04f1f2e97bcd"
      },
      "execution_count": 108,
      "outputs": [
        {
          "output_type": "display_data",
          "data": {
            "image/png": "[encoded data removed]",
            "text/plain": [
              "<Figure size 432x288 with 1 Axes>"
            ]
          },
          "metadata": {
            "needs_background": "light"
          }
        }
      ]
    },
    {
      "cell_type": "code",
      "source": [
        "#극단치(outlier) 제거\n",
        "import matplotlib.pyplot as plt\n",
        "population_inc = [0.3, -0.78, 1.26, 0.03, 1.11, 15.17, 0.24, -0.24, -0.47, -0.77, -0.37, -0.85, -0.41, -0.27, 0.02, -0.76, 2.66]\n",
        "population_inc = population_inc[:5] + population_inc[6:]\n",
        "population_old = [12.27, 14.44, 11.87, 18.75, 17.52, 9.29, 16.37, 19.78, 19.51, 12.65, 14.74, 10.72, 21.94, 12.83, 15.51, 17.14, 14.42]\n",
        "population_old = population_old[:5] + population_old[6:]\n",
        "plt.plot(population_inc, population_old, 'bo')\n",
        "plt.xlabel('Population Growth Rate')\n",
        "plt.ylabel('Elderly Population Rate')\n",
        "plt.show()"
      ],
      "metadata": {
        "colab": {
          "base_uri": "https://localhost:8080/",
          "height": 279
        },
        "id": "C2Ynob8IQ0S4",
        "outputId": "e3d31098-c101-41f1-b103-fb178e4e2cf1"
      },
      "execution_count": 109,
      "outputs": [
        {
          "output_type": "display_data",
          "data": {
            "image/png": "[encoded data removed]",
            "text/plain": [
              "<Figure size 432x288 with 1 Axes>"
            ]
          },
          "metadata": {
            "needs_background": "light"
          }
        }
      ]
    },
    {
      "cell_type": "code",
      "source": [
        "#최소제곱법으로 회귀선 구하기\n",
        "import numpy as np\n",
        "import matplotlib.pyplot as plt\n",
        "X = [0.3, -0.78, 1.26, 0.03, 1.11, 0.24, -0.24, -0.47, -0.77, -0.37, -0.85, -0.41, -0.27, 0.02, -0.76, 2.66]\n",
        "Y = [12.27, 14.44, 11.87, 18.75, 17.52, 16.37, 19.78, 19.51, 12.65, 14.74, 10.72, 21.94, 12.83, 15.51, 17.14, 14.42]\n",
        "\n",
        "#x, y의 평균 구하기\n",
        "x_bar = sum(X) / len(Y)\n",
        "y_bar = sum(Y) / len(X)\n",
        "\n",
        "#최소제곱법\n",
        "a = sum([(y - y_bar) * (x - x_bar) for y,x in list(zip(Y, X))])\n",
        "a /= sum([(x - x_bar) ** 2 for x in X])\n",
        "b = y_bar - a * x_bar\n",
        "print('a:', a, 'b:', b)\n",
        "\n",
        "#그래프를 그리기 위한 회귀선의 x, y 데이터 구하기\n",
        "line_x = np.arange(min(X), max(X), 0.01)\n",
        "line_y = a * line_x + b\n",
        "\n",
        "plt.plot(line_x, line_y, 'r-')\n",
        "\n",
        "plt.plot(X,Y,'bo')\n",
        "plt.xlabel('Population Growth Rate')\n",
        "plt.ylabel('Elderly Population Rate')\n",
        "plt.show"
      ],
      "metadata": {
        "colab": {
          "base_uri": "https://localhost:8080/",
          "height": 316
        },
        "id": "XgBRKcO9R1Ib",
        "outputId": "2a8482db-b38f-44d5-cc75-50f6a360b6d5"
      },
      "execution_count": 110,
      "outputs": [
        {
          "output_type": "stream",
          "name": "stdout",
          "text": [
            "a: -0.355834147915461 b: 15.669317743971302\n"
          ]
        },
        {
          "output_type": "execute_result",
          "data": {
            "text/plain": [
              "<function matplotlib.pyplot.show>"
            ]
          },
          "metadata": {},
          "execution_count": 110
        },
        {
          "output_type": "display_data",
          "data": {
            "image/png": "[encoded data removed]",
            "text/plain": [
              "<Figure size 432x288 with 1 Axes>"
            ]
          },
          "metadata": {
            "needs_background": "light"
          }
        }
      ]
    },
    {
      "cell_type": "code",
      "source": [
        "# 텐서플로를 이용한 회귀선 구하기\n",
        "import tensorflow as tf\n",
        "import numpy as np\n",
        "import matplotlib.pyplot as plt\n",
        "import random\n",
        "X = [0.3, -0.78, 1.26, 0.03, 1.11, 0.24, -0.24, -0.47, -0.77, -0.37, -0.85, -0.41, -0.27, 0.02, -0.76, 2.66]\n",
        "Y = [12.27, 14.44, 11.87, 18.75, 17.52, 16.37, 19.78, 19.51, 12.65, 14.74, 10.72, 21.94, 12.83, 15.51, 17.14, 14.42]\n",
        "\n",
        "#a,b 랜덤 값 초기화\n",
        "a = tf.Variable(random.random())\n",
        "b = tf.Variable(random.random())\n",
        "\n",
        "def compute_loss():\n",
        "  y_pred = a * X + b\n",
        "  loss = tf.reduce_mean((Y - y_pred) ** 2)\n",
        "  return loss\n",
        "\n",
        "optimizer = tf.optimizers.Adam(lr=0.07)\n",
        "for i in range(1000):\n",
        "  optimizer.minimize(compute_loss, var_list=[a,b])\n",
        "\n",
        "  if i % 100 == 99:\n",
        "    print(i, 'a:', a.numpy(), 'b:', b.numpy(), 'loss:', compute_loss().numpy())\n",
        "\n",
        "line_x = np.arange(min(X), max(X), 0.01)\n",
        "line_y = a * line_x + b\n",
        "  \n",
        "plt.plot(line_x,line_y,'r-')\n",
        "plt.plot(X,Y,'bo')\n",
        "plt.xlabel('Population Growth Rate (%)')\n",
        "plt.ylabel('Elderly Population Rate (%)')\n",
        "plt.show()"
      ],
      "metadata": {
        "colab": {
          "base_uri": "https://localhost:8080/",
          "height": 499
        },
        "id": "UpACcLgjUxmU",
        "outputId": "96ca6b13-026e-4f85-96ba-3da92942d9c3"
      },
      "execution_count": 111,
      "outputs": [
        {
          "output_type": "stream",
          "name": "stderr",
          "text": [
            "/usr/local/lib/python3.7/dist-packages/keras/optimizer_v2/adam.py:105: UserWarning: The `lr` argument is deprecated, use `learning_rate` instead.\n",
            "  super(Adam, self).__init__(name, **kwargs)\n"
          ]
        },
        {
          "output_type": "stream",
          "name": "stdout",
          "text": [
            "99 a: 0.13366045 b: 6.4452586 loss: 94.6667\n",
            "199 a: -0.10690604 b: 10.983691 loss: 31.68497\n",
            "299 a: -0.24966346 b: 13.670763 loss: 13.765759\n",
            "399 a: -0.31834126 b: 14.963541 loss: 10.277769\n",
            "499 a: -0.34492669 b: 15.463992 loss: 9.822865\n",
            "599 a: -0.3532298 b: 15.6203 loss: 9.783202\n",
            "699 a: -0.35532716 b: 15.659782 loss: 9.780894\n",
            "799 a: -0.3557542 b: 15.667824 loss: 9.780807\n",
            "899 a: -0.3558244 b: 15.66913 loss: 9.780803\n",
            "999 a: -0.35583317 b: 15.669302 loss: 9.780804\n"
          ]
        },
        {
          "output_type": "display_data",
          "data": {
            "image/png": "[encoded data removed]",
            "text/plain": [
              "<Figure size 432x288 with 1 Axes>"
            ]
          },
          "metadata": {
            "needs_background": "light"
          }
        }
      ]
    },
    {
      "cell_type": "markdown",
      "source": [
        "## 다항 회귀(Polynomial Regression)"
      ],
      "metadata": {
        "id": "YoRptIIrYW58"
      }
    },
    {
      "cell_type": "code",
      "source": [
        "# 텐서플로우를 이용해 2차 함수 회귀선 구하기\n",
        "import tensorflow as tf\n",
        "import numpy as np\n",
        "import matplotlib.pyplot as plt\n",
        "import random\n",
        "X = [0.3, -0.78, 1.26, 0.03, 1.11, 0.24, -0.24, -0.47, -0.77, -0.37, -0.85, -0.41, -0.27, 0.02, -0.76, 2.66]\n",
        "Y = [12.27, 14.44, 11.87, 18.75, 17.52, 16.37, 19.78, 19.51, 12.65, 14.74, 10.72, 21.94, 12.83, 15.51, 17.14, 14.42]\n",
        "\n",
        "#a, b, c 랜덤 값 초기화\n",
        "a = tf.Variable(random.random())\n",
        "b = tf.Variable(random.random())\n",
        "c = tf.Variable(random.random())\n",
        "\n",
        "def compute_loss():\n",
        "  y_pred = a * X * X + b * X + c                         #ax**2+bx+c\n",
        "  loss = tf.reduce_mean((Y - y_pred) ** 2)\n",
        "  return loss\n",
        "\n",
        "optimizer = tf.optimizers.Adam(lr=0.07)\n",
        "for i in range(1000):\n",
        "  optimizer.minimize(compute_loss, var_list=[a,b,c])\n",
        "\n",
        "  if i % 100 == 99:\n",
        "    print(i, 'a:', a.numpy(), 'b:', b.numpy(), 'c:', c.numpy(), 'loss:', compute_loss().numpy())\n",
        "\n",
        "line_x = np.arange(min(X), max(X), 0.01)\n",
        "line_y = a * line_x * line_x + b * line_x + c\n",
        "\n",
        "plt.plot(line_x,line_y,'r-')\n",
        "plt.plot(X,Y,'bo')\n",
        "plt.xlabel('Population Growth Rate (%)')\n",
        "plt.ylabel('Elderly Population Rate (%)')\n",
        "plt.show()"
      ],
      "metadata": {
        "colab": {
          "base_uri": "https://localhost:8080/",
          "height": 499
        },
        "id": "duA-cTEM3R4j",
        "outputId": "6da4fd46-1a33-4f14-82fb-d59243f42bea"
      },
      "execution_count": 112,
      "outputs": [
        {
          "output_type": "stream",
          "name": "stderr",
          "text": [
            "/usr/local/lib/python3.7/dist-packages/keras/optimizer_v2/adam.py:105: UserWarning: The `lr` argument is deprecated, use `learning_rate` instead.\n",
            "  super(Adam, self).__init__(name, **kwargs)\n"
          ]
        },
        {
          "output_type": "stream",
          "name": "stdout",
          "text": [
            "99 a: 3.881025 b: -5.5586996 c: 6.4262133 loss: 69.09729\n",
            "199 a: 2.8709188 b: -4.6610427 c: 10.203123 loss: 32.27711\n",
            "299 a: 1.3644913 b: -2.4179711 c: 12.814369 loss: 16.558271\n",
            "399 a: 0.3856147 b: -0.9489723 c: 14.478846 loss: 11.183087\n",
            "499 a: -0.15049106 b: -0.1448376 c: 15.392583 loss: 9.784296\n",
            "599 a: -0.40517646 b: 0.23714228 c: 15.826875 loss: 9.504767\n",
            "699 a: -0.5105065 b: 0.39511445 c: 16.006498 loss: 9.461718\n",
            "799 a: -0.5484909 b: 0.45208302 c: 16.071276 loss: 9.456609\n",
            "899 a: -0.5604252 b: 0.46998212 c: 16.091629 loss: 9.456144\n",
            "999 a: -0.5636794 b: 0.47486275 c: 16.097178 loss: 9.456112\n"
          ]
        },
        {
          "output_type": "display_data",
          "data": {
            "image/png": "[encoded data removed]",
            "text/plain": [
              "<Figure size 432x288 with 1 Axes>"
            ]
          },
          "metadata": {
            "needs_background": "light"
          }
        }
      ]
    },
    {
      "cell_type": "code",
      "source": [
        "# 3차함수\n",
        "import tensorflow as tf\n",
        "import numpy as np\n",
        "import matplotlib.pyplot as plt\n",
        "import random\n",
        "X = [0.3, -0.78, 1.26, 0.03, 1.11, 0.24, -0.24, -0.47, -0.77, -0.37, -0.85, -0.41, -0.27, 0.02, -0.76, 2.66]\n",
        "Y = [12.27, 14.44, 11.87, 18.75, 17.52, 16.37, 19.78, 19.51, 12.65, 14.74, 10.72, 21.94, 12.83, 15.51, 17.14, 14.42]\n",
        "\n",
        "#a, b, c 랜덤 값 초기화\n",
        "a = tf.Variable(random.random())\n",
        "b = tf.Variable(random.random())\n",
        "c = tf.Variable(random.random())\n",
        "d = tf.Variable(random.random())\n",
        "\n",
        "def compute_loss():\n",
        "  y_pred = a * X * X * X + b * X * X + c * X + d                        #ax**3+bx**2+cx+d\n",
        "  loss = tf.reduce_mean((Y - y_pred) ** 2)\n",
        "  return loss\n",
        "\n",
        "optimizer = tf.optimizers.Adam(lr=0.07)\n",
        "for i in range(1000):\n",
        "  optimizer.minimize(compute_loss, var_list=[a,b,c,d])\n",
        "\n",
        "  if i % 100 == 99:\n",
        "    print(i, 'a:', a.numpy(), 'b:', b.numpy(), 'c:', c.numpy(), 'd:', d.numpy(), 'loss:', compute_loss().numpy())\n",
        "\n",
        "line_x = np.arange(min(X), max(X), 0.01)\n",
        "line_y = a * line_x * line_x * line_x + b * line_x * line_x + c * line_x + d\n",
        "\n",
        "plt.plot(line_x,line_y,'r-')\n",
        "plt.plot(X,Y,'bo')\n",
        "plt.xlabel('Population Growth Rate (%)')\n",
        "plt.ylabel('Elderly Population Rate (%)')\n",
        "plt.show()"
      ],
      "metadata": {
        "colab": {
          "base_uri": "https://localhost:8080/",
          "height": 499
        },
        "id": "UIorsLNJ61Yh",
        "outputId": "3ed2c0f5-aeca-4842-fa64-838506befb56"
      },
      "execution_count": 113,
      "outputs": [
        {
          "output_type": "stream",
          "name": "stderr",
          "text": [
            "/usr/local/lib/python3.7/dist-packages/keras/optimizer_v2/adam.py:105: UserWarning: The `lr` argument is deprecated, use `learning_rate` instead.\n",
            "  super(Adam, self).__init__(name, **kwargs)\n"
          ]
        },
        {
          "output_type": "stream",
          "name": "stdout",
          "text": [
            "99 a: -1.0000303 b: 5.417454 c: -3.7609723 d: 6.1754737 loss: 66.71013\n",
            "199 a: -1.8455098 b: 6.6087174 c: -2.5863845 d: 9.795365 loss: 31.550196\n",
            "299 a: -1.683722 b: 5.2346735 c: -1.0797652 d: 11.973764 loss: 20.577456\n",
            "399 a: -1.0437117 b: 3.1181464 c: -0.57238144 d: 13.4664345 loss: 14.783464\n",
            "499 a: -0.36329684 b: 1.1099132 c: -0.44847542 d: 14.581964 loss: 11.3738575\n",
            "599 a: 0.19915871 b: -0.511298 c: -0.41247785 d: 15.427206 loss: 9.529604\n",
            "699 a: 0.61831576 b: -1.7138633 c: -0.39510638 d: 16.045593 loss: 8.63202\n",
            "799 a: 0.9105936 b: -2.551685 c: -0.38418463 d: 16.475185 loss: 8.238587\n",
            "899 a: 1.1029537 b: -3.1029859 c: -0.37716287 d: 16.757666 loss: 8.083181\n",
            "999 a: 1.2226624 b: -3.4460487 c: -0.37282243 d: 16.933405 loss: 8.027896\n"
          ]
        },
        {
          "output_type": "display_data",
          "data": {
            "image/png": "[encoded data removed]",
            "text/plain": [
              "<Figure size 432x288 with 1 Axes>"
            ]
          },
          "metadata": {
            "needs_background": "light"
          }
        }
      ]
    },
    {
      "cell_type": "markdown",
      "source": [
        "## 딥러닝 네트워크를 이용한 회귀"
      ],
      "metadata": {
        "id": "HbDgS8RW9IDe"
      }
    },
    {
      "cell_type": "code",
      "source": [
        "# 딥러닝 네크워크를 이용한 회귀\n",
        "import tensorflow as tf\n",
        "import numpy as np\n",
        "\n",
        "X = [0.3, -0.78, 1.26, 0.03, 1.11, 0.24, -0.24, -0.47, -0.77, -0.37, -0.85, -0.41, -0.27, 0.02, -0.76, 2.66]\n",
        "Y = [12.27, 14.44, 11.87, 18.75, 17.52, 16.37, 19.78, 19.51, 12.65, 14.74, 10.72, 21.94, 12.83, 15.51, 17.14, 14.42]\n",
        "\n",
        "model = tf.keras.Sequential([\n",
        "  tf.keras.layers.Dense(units=6, activation='tanh', input_shape=(1,)),     #활성화함수 tanh를 사용, tanh: 하이퍼볼릭 탄젠트 함수로 삼각함수 중 탄젠트 함수와 연관 입력을 받아 -1과 1 사이의 출력을 반환\n",
        "  tf.keras.layers.Dense(units=1)\n",
        "])\n",
        "\n",
        "model.compile(optimizer=tf.keras.optimizers.SGD(lr=0.1), loss='mse')\n",
        "\n",
        "model.summary()"
      ],
      "metadata": {
        "colab": {
          "base_uri": "https://localhost:8080/"
        },
        "id": "OWz_GMjg9f1h",
        "outputId": "5c978356-8c7a-446e-a8e4-ff788e2c2ca5"
      },
      "execution_count": 114,
      "outputs": [
        {
          "output_type": "stream",
          "name": "stdout",
          "text": [
            "Model: \"sequential_16\"\n",
            "_________________________________________________________________\n",
            " Layer (type)                Output Shape              Param #   \n",
            "=================================================================\n",
            " dense_58 (Dense)            (None, 6)                 12        \n",
            "                                                                 \n",
            " dense_59 (Dense)            (None, 1)                 7         \n",
            "                                                                 \n",
            "=================================================================\n",
            "Total params: 19\n",
            "Trainable params: 19\n",
            "Non-trainable params: 0\n",
            "_________________________________________________________________\n"
          ]
        },
        {
          "output_type": "stream",
          "name": "stderr",
          "text": [
            "/usr/local/lib/python3.7/dist-packages/keras/optimizer_v2/gradient_descent.py:102: UserWarning: The `lr` argument is deprecated, use `learning_rate` instead.\n",
            "  super(SGD, self).__init__(name, **kwargs)\n"
          ]
        }
      ]
    },
    {
      "cell_type": "code",
      "source": [
        "# 딥러닝 네트워크 학습\n",
        "model.fit(X, Y, epochs=10)"
      ],
      "metadata": {
        "colab": {
          "base_uri": "https://localhost:8080/"
        },
        "id": "Ya7TwW42-fJx",
        "outputId": "abd183dc-6a77-4c6d-9c9b-34c156c32427"
      },
      "execution_count": 115,
      "outputs": [
        {
          "output_type": "stream",
          "name": "stdout",
          "text": [
            "Epoch 1/10\n",
            "1/1 [==============================] - 0s 312ms/step - loss: 254.9744\n",
            "Epoch 2/10\n",
            "1/1 [==============================] - 0s 14ms/step - loss: 103.5412\n",
            "Epoch 3/10\n",
            "1/1 [==============================] - 0s 14ms/step - loss: 10.5368\n",
            "Epoch 4/10\n",
            "1/1 [==============================] - 0s 11ms/step - loss: 9.6131\n",
            "Epoch 5/10\n",
            "1/1 [==============================] - 0s 13ms/step - loss: 9.4850\n",
            "Epoch 6/10\n",
            "1/1 [==============================] - 0s 10ms/step - loss: 9.4357\n",
            "Epoch 7/10\n",
            "1/1 [==============================] - 0s 10ms/step - loss: 9.3948\n",
            "Epoch 8/10\n",
            "1/1 [==============================] - 0s 11ms/step - loss: 9.3522\n",
            "Epoch 9/10\n",
            "1/1 [==============================] - 0s 15ms/step - loss: 9.3054\n",
            "Epoch 10/10\n",
            "1/1 [==============================] - 0s 13ms/step - loss: 9.2533\n"
          ]
        },
        {
          "output_type": "execute_result",
          "data": {
            "text/plain": [
              "<keras.callbacks.History at 0x7f5475d53fd0>"
            ]
          },
          "metadata": {},
          "execution_count": 115
        }
      ]
    },
    {
      "cell_type": "code",
      "source": [
        "# Y값 예측\n",
        "model.predict(X)"
      ],
      "metadata": {
        "colab": {
          "base_uri": "https://localhost:8080/"
        },
        "id": "1rW802VoENZu",
        "outputId": "9ee8a0b8-6b56-4859-9b1d-57013337225a"
      },
      "execution_count": 116,
      "outputs": [
        {
          "output_type": "execute_result",
          "data": {
            "text/plain": [
              "array([[16.05029 ],\n",
              "       [15.447154],\n",
              "       [15.240758],\n",
              "       [16.07182 ],\n",
              "       [15.422412],\n",
              "       [16.06406 ],\n",
              "       [15.985471],\n",
              "       [15.819894],\n",
              "       [15.462062],\n",
              "       [15.902825],\n",
              "       [15.337164],\n",
              "       [15.871724],\n",
              "       [15.968855],\n",
              "       [16.070587],\n",
              "       [15.476771],\n",
              "       [13.74922 ]], dtype=float32)"
            ]
          },
          "metadata": {},
          "execution_count": 116
        }
      ]
    },
    {
      "cell_type": "code",
      "source": [
        "import matplotlib.pyplot as plt\n",
        "\n",
        "line_x = np.arange(min(X), max(X), 0.01)\n",
        "line_y = model.predict(line_x)\n",
        "\n",
        "plt.plot(line_x,line_y,'r-')\n",
        "plt.plot(X,Y,'bo')\n",
        "plt.xlabel('Population Growth Rate (%)')\n",
        "plt.ylabel('Elderly Population Rate (%)')\n",
        "plt.show()"
      ],
      "metadata": {
        "colab": {
          "base_uri": "https://localhost:8080/",
          "height": 279
        },
        "id": "wCd4o-WhFByV",
        "outputId": "7345d7b5-0f91-4b9d-a79d-68c10321269f"
      },
      "execution_count": 117,
      "outputs": [
        {
          "output_type": "display_data",
          "data": {
            "image/png": "[encoded data removed]",
            "text/plain": [
              "<Figure size 432x288 with 1 Axes>"
            ]
          },
          "metadata": {
            "needs_background": "light"
          }
        }
      ]
    },
    {
      "cell_type": "code",
      "source": [
        "import math\n",
        "def sigmoid(x):\n",
        "    return 1 / (1 + math.exp(-x))\n",
        "\n",
        "x = np.arange(-5, 5, 0.01)\n",
        "sigmoid_x = [sigmoid(z) for z in x]\n",
        "tanh_x = [math.tanh(z) for z in x]\n",
        "\n",
        "plt.axhline(0, color='gray')\n",
        "plt.axvline(0, color='gray')\n",
        "plt.plot(x, sigmoid_x, 'b-', label='sigmoid')\n",
        "plt.plot(x, tanh_x, 'r--', label='tanh')\n",
        "plt.legend()\n",
        "plt.show()"
      ],
      "metadata": {
        "colab": {
          "base_uri": "https://localhost:8080/",
          "height": 265
        },
        "id": "zzegrSOMHfk4",
        "outputId": "54260365-d152-4b3c-d70b-60710e23f1c8"
      },
      "execution_count": 118,
      "outputs": [
        {
          "output_type": "display_data",
          "data": {
            "image/png": "[encoded data removed]",
            "text/plain": [
              "<Figure size 432x288 with 1 Axes>"
            ]
          },
          "metadata": {
            "needs_background": "light"
          }
        }
      ]
    },
    {
      "cell_type": "markdown",
      "source": [
        "## 보스턴 주택 가격 데이터세트(Boston Housing Dataset)"
      ],
      "metadata": {
        "id": "MoQ2ZIyyHhmo"
      }
    },
    {
      "cell_type": "code",
      "source": [
        "# 데이터 불러오기\n",
        "from tensorflow.keras.datasets import boston_housing\n",
        "(train_X, train_Y), (test_X, test_Y) = boston_housing.load_data()\n",
        "\n",
        "print(len(train_X), len(test_X))\n",
        "print(train_X[0])\n",
        "print(train_Y[0])"
      ],
      "metadata": {
        "colab": {
          "base_uri": "https://localhost:8080/"
        },
        "id": "L9BzDzBIHzol",
        "outputId": "8b61cedc-4d98-4ac3-84fc-f37306b3de04"
      },
      "execution_count": 119,
      "outputs": [
        {
          "output_type": "stream",
          "name": "stdout",
          "text": [
            "404 102\n",
            "[  1.23247   0.        8.14      0.        0.538     6.142    91.7\n",
            "   3.9769    4.      307.       21.      396.9      18.72   ]\n",
            "15.2\n"
          ]
        }
      ]
    },
    {
      "cell_type": "code",
      "source": [
        "# 데이터 정규화(전처리)\n",
        "x_mean = train_X.mean()\n",
        "x_std = train_X.std()\n",
        "train_X -= x_mean\n",
        "train_X /= x_std\n",
        "test_X -= x_mean\n",
        "test_X /= x_std\n",
        "\n",
        "y_mean = train_Y.mean()\n",
        "y_std = train_Y.std()\n",
        "train_Y -= y_mean \n",
        "train_Y /= y_std\n",
        "test_Y -= y_mean\n",
        "test_Y /= y_std\n",
        "\n",
        "print(train_X[0])\n",
        "print(train_Y[0])"
      ],
      "metadata": {
        "colab": {
          "base_uri": "https://localhost:8080/"
        },
        "id": "w2JiN3cTdvEW",
        "outputId": "15c71877-258e-4c1b-8446-7d82506fcf90"
      },
      "execution_count": 120,
      "outputs": [
        {
          "output_type": "stream",
          "name": "stdout",
          "text": [
            "[-0.47482083 -0.48335641 -0.42698208 -0.48335641 -0.47963044 -0.44081941\n",
            "  0.15172056 -0.45581402 -0.45565404  1.64280094 -0.33791894  2.26541184\n",
            " -0.35370929]\n",
            "-0.7821526033779157\n"
          ]
        }
      ]
    },
    {
      "cell_type": "code",
      "source": [
        "import tensorflow as tf\n",
        "model = tf.keras.Sequential([\n",
        "  tf.keras.layers.Dense(units=52, activation='relu', input_shape=(13,)),     #활성화 함수 relu : y=x 함수의 음수 부분을 정류해서 0으로 만든 것, 여러개의 레이어를 겹쳐 사용할때 시그모이드나 tanh보다 좋은 결과를 얻을 수 있음\n",
        "  tf.keras.layers.Dense(units=39, activation='relu'),\n",
        "  tf.keras.layers.Dense(units=26, activation='relu'),\n",
        "  tf.keras.layers.Dense(units=1)\n",
        "])\n",
        "\n",
        "model.compile(optimizer=tf.keras.optimizers.Adam(lr=0.07), loss='mse')\n",
        "\n",
        "model.summary()"
      ],
      "metadata": {
        "colab": {
          "base_uri": "https://localhost:8080/"
        },
        "id": "pK3psFkui82T",
        "outputId": "f333653d-341a-4be6-a3c4-944ad7388678"
      },
      "execution_count": 121,
      "outputs": [
        {
          "output_type": "stream",
          "name": "stdout",
          "text": [
            "Model: \"sequential_17\"\n",
            "_________________________________________________________________\n",
            " Layer (type)                Output Shape              Param #   \n",
            "=================================================================\n",
            " dense_60 (Dense)            (None, 52)                728       \n",
            "                                                                 \n",
            " dense_61 (Dense)            (None, 39)                2067      \n",
            "                                                                 \n",
            " dense_62 (Dense)            (None, 26)                1040      \n",
            "                                                                 \n",
            " dense_63 (Dense)            (None, 1)                 27        \n",
            "                                                                 \n",
            "=================================================================\n",
            "Total params: 3,862\n",
            "Trainable params: 3,862\n",
            "Non-trainable params: 0\n",
            "_________________________________________________________________\n"
          ]
        },
        {
          "output_type": "stream",
          "name": "stderr",
          "text": [
            "/usr/local/lib/python3.7/dist-packages/keras/optimizer_v2/adam.py:105: UserWarning: The `lr` argument is deprecated, use `learning_rate` instead.\n",
            "  super(Adam, self).__init__(name, **kwargs)\n"
          ]
        }
      ]
    },
    {
      "cell_type": "code",
      "source": [
        "import matplotlib.pyplot as plt\n",
        "import numpy as np\n",
        "import math\n",
        "\n",
        "def sigmoid(x):\n",
        "    return 1 / (1 + math.exp(-x))\n",
        "\n",
        "x = np.arange(-5, 5, 0.01)\n",
        "sigmoid_x = [sigmoid(z) for z in x]\n",
        "tanh_x = [math.tanh(z) for z in x]\n",
        "relu = [0 if z < 0 else z for z in x]\n",
        "\n",
        "plt.axhline(0, color='gray')\n",
        "plt.axvline(0, color='gray')\n",
        "plt.plot(x, sigmoid_x, 'b-', label='sigmoid')\n",
        "plt.plot(x, tanh_x, 'r--', label='tanh')\n",
        "plt.plot(x, relu, 'g.', label='relu')\n",
        "plt.legend()\n",
        "plt.show()"
      ],
      "metadata": {
        "colab": {
          "base_uri": "https://localhost:8080/",
          "height": 265
        },
        "id": "6NR5LOVwkyM3",
        "outputId": "d816e04f-2019-4e22-d148-848dbec45c60"
      },
      "execution_count": 122,
      "outputs": [
        {
          "output_type": "display_data",
          "data": {
            "image/png": "[encoded data removed]",
            "text/plain": [
              "<Figure size 432x288 with 1 Axes>"
            ]
          },
          "metadata": {
            "needs_background": "light"
          }
        }
      ]
    },
    {
      "cell_type": "code",
      "source": [
        "#회귀 모델 학습\n",
        "history = model.fit(train_X, train_Y, epochs=25, batch_size=32, validation_split=0.25)"
      ],
      "metadata": {
        "colab": {
          "base_uri": "https://localhost:8080/"
        },
        "id": "z8SpKolslFwO",
        "outputId": "c8ee9814-cd77-43a0-9013-9e4db8b65de0"
      },
      "execution_count": 123,
      "outputs": [
        {
          "output_type": "stream",
          "name": "stdout",
          "text": [
            "Epoch 1/25\n",
            "10/10 [==============================] - 1s 21ms/step - loss: 1.6899 - val_loss: 1.2579\n",
            "Epoch 2/25\n",
            "10/10 [==============================] - 0s 8ms/step - loss: 0.8977 - val_loss: 1.1304\n",
            "Epoch 3/25\n",
            "10/10 [==============================] - 0s 8ms/step - loss: 0.7435 - val_loss: 1.1160\n",
            "Epoch 4/25\n",
            "10/10 [==============================] - 0s 7ms/step - loss: 0.6590 - val_loss: 1.1746\n",
            "Epoch 5/25\n",
            "10/10 [==============================] - 0s 6ms/step - loss: 0.6490 - val_loss: 1.0704\n",
            "Epoch 6/25\n",
            "10/10 [==============================] - 0s 7ms/step - loss: 0.6632 - val_loss: 1.1144\n",
            "Epoch 7/25\n",
            "10/10 [==============================] - 0s 7ms/step - loss: 0.6370 - val_loss: 1.0472\n",
            "Epoch 8/25\n",
            "10/10 [==============================] - 0s 6ms/step - loss: 0.6120 - val_loss: 1.0801\n",
            "Epoch 9/25\n",
            "10/10 [==============================] - 0s 7ms/step - loss: 0.5864 - val_loss: 1.0142\n",
            "Epoch 10/25\n",
            "10/10 [==============================] - 0s 8ms/step - loss: 0.6200 - val_loss: 0.9522\n",
            "Epoch 11/25\n",
            "10/10 [==============================] - 0s 7ms/step - loss: 0.6887 - val_loss: 1.2552\n",
            "Epoch 12/25\n",
            "10/10 [==============================] - 0s 8ms/step - loss: 0.6518 - val_loss: 1.0266\n",
            "Epoch 13/25\n",
            "10/10 [==============================] - 0s 7ms/step - loss: 0.6132 - val_loss: 1.0279\n",
            "Epoch 14/25\n",
            "10/10 [==============================] - 0s 9ms/step - loss: 0.5885 - val_loss: 1.0379\n",
            "Epoch 15/25\n",
            "10/10 [==============================] - 0s 6ms/step - loss: 0.5685 - val_loss: 0.9268\n",
            "Epoch 16/25\n",
            "10/10 [==============================] - 0s 7ms/step - loss: 0.5986 - val_loss: 0.9024\n",
            "Epoch 17/25\n",
            "10/10 [==============================] - 0s 6ms/step - loss: 0.5949 - val_loss: 0.9217\n",
            "Epoch 18/25\n",
            "10/10 [==============================] - 0s 7ms/step - loss: 0.5482 - val_loss: 0.9516\n",
            "Epoch 19/25\n",
            "10/10 [==============================] - 0s 7ms/step - loss: 0.5668 - val_loss: 1.1281\n",
            "Epoch 20/25\n",
            "10/10 [==============================] - 0s 8ms/step - loss: 0.6149 - val_loss: 1.1081\n",
            "Epoch 21/25\n",
            "10/10 [==============================] - 0s 7ms/step - loss: 0.5438 - val_loss: 1.0142\n",
            "Epoch 22/25\n",
            "10/10 [==============================] - 0s 6ms/step - loss: 0.5459 - val_loss: 0.8475\n",
            "Epoch 23/25\n",
            "10/10 [==============================] - 0s 6ms/step - loss: 0.5629 - val_loss: 1.0391\n",
            "Epoch 24/25\n",
            "10/10 [==============================] - 0s 8ms/step - loss: 0.5708 - val_loss: 0.9892\n",
            "Epoch 25/25\n",
            "10/10 [==============================] - 0s 6ms/step - loss: 0.5143 - val_loss: 1.0933\n"
          ]
        }
      ]
    },
    {
      "cell_type": "code",
      "source": [
        "import matplotlib.pyplot as plt\n",
        "plt.plot(history.history['loss'], 'b-', label='loss')\n",
        "plt.plot(history.history['val_loss'], 'r--', label='val_loss')\n",
        "plt.xlabel('Epoch')\n",
        "plt.legend()\n",
        "plt.show()"
      ],
      "metadata": {
        "colab": {
          "base_uri": "https://localhost:8080/",
          "height": 279
        },
        "id": "erjm1VpLtXH_",
        "outputId": "74850778-a58e-4d5f-a525-ac16c484fddf"
      },
      "execution_count": 124,
      "outputs": [
        {
          "output_type": "display_data",
          "data": {
            "image/png": "[encoded data removed]",
            "text/plain": [
              "<Figure size 432x288 with 1 Axes>"
            ]
          },
          "metadata": {
            "needs_background": "light"
          }
        }
      ]
    },
    {
      "cell_type": "code",
      "source": [
        "# 모델 평가\n",
        "model.evaluate(test_X, test_Y)"
      ],
      "metadata": {
        "colab": {
          "base_uri": "https://localhost:8080/"
        },
        "id": "yUuRUvsQv94P",
        "outputId": "449433e7-1b2f-4440-b3ae-ffac5c237a93"
      },
      "execution_count": 125,
      "outputs": [
        {
          "output_type": "stream",
          "name": "stdout",
          "text": [
            "4/4 [==============================] - 0s 5ms/step - loss: 0.7523\n"
          ]
        },
        {
          "output_type": "execute_result",
          "data": {
            "text/plain": [
              "0.7522958517074585"
            ]
          },
          "metadata": {},
          "execution_count": 125
        }
      ]
    },
    {
      "cell_type": "code",
      "source": [
        "# 실제 주택 가격과 예측 주택 가격 시각화\n",
        "import matplotlib.pyplot as plt\n",
        "\n",
        "pred_Y = model.predict(test_X)\n",
        "\n",
        "plt.figure(figsize=(5,5))\n",
        "plt.plot(test_Y, pred_Y, 'b.')\n",
        "plt.axis([min(test_Y),max(test_Y), min(test_Y), max(test_Y)])\n",
        "\n",
        "plt.plot([min(test_Y), max(test_Y)], [min(test_Y), max(test_Y)], ls=\"--\", c=\".3\")\n",
        "plt.xlabel('test_Y')\n",
        "plt.ylabel('pred_Y')\n",
        "plt.show()"
      ],
      "metadata": {
        "colab": {
          "base_uri": "https://localhost:8080/",
          "height": 339
        },
        "id": "Cclb5asMwTWX",
        "outputId": "2f8676da-020a-4c35-d6e6-67b4e118eb13"
      },
      "execution_count": 126,
      "outputs": [
        {
          "output_type": "display_data",
          "data": {
            "image/png": "[encoded data removed]",
            "text/plain": [
              "<Figure size 360x360 with 1 Axes>"
            ]
          },
          "metadata": {
            "needs_background": "light"
          }
        }
      ]
    },
    {
      "cell_type": "code",
      "source": [
        "# 모델 재정의 및 학습\n",
        "model = tf.keras.Sequential([\n",
        "    tf.keras.layers.Dense(units=52, activation='relu', input_shape=(13,)),\n",
        "    tf.keras.layers.Dense(units=39, activation='relu'),\n",
        "    tf.keras.layers.Dense(units=26, activation='relu'),\n",
        "    tf.keras.layers.Dense(units=1)\n",
        "])\n",
        "\n",
        "model.compile(optimizer=tf.keras.optimizers.Adam(lr=0.07), loss='mse')\n",
        "\n",
        "history = model.fit(train_X, train_Y, epochs=25, batch_size=32, validation_split=0.25, callbacks=[tf.keras.callbacks.EarlyStopping(patience=3, monitor='val_loss')]) #학습을 일찍 멈추는 기능 3회의 에포크 수행 val_loss를 지켜봄 "
      ],
      "metadata": {
        "colab": {
          "base_uri": "https://localhost:8080/"
        },
        "id": "Cn3eViKWxH5K",
        "outputId": "4e44f93d-d5de-4798-9499-68a8b6224b40"
      },
      "execution_count": 139,
      "outputs": [
        {
          "output_type": "stream",
          "name": "stdout",
          "text": [
            "Epoch 1/25\n"
          ]
        },
        {
          "output_type": "stream",
          "name": "stderr",
          "text": [
            "/usr/local/lib/python3.7/dist-packages/keras/optimizer_v2/adam.py:105: UserWarning: The `lr` argument is deprecated, use `learning_rate` instead.\n",
            "  super(Adam, self).__init__(name, **kwargs)\n"
          ]
        },
        {
          "output_type": "stream",
          "name": "stdout",
          "text": [
            "10/10 [==============================] - 1s 19ms/step - loss: 3.4890 - val_loss: 1.3221\n",
            "Epoch 2/25\n",
            "10/10 [==============================] - 0s 6ms/step - loss: 0.9120 - val_loss: 1.1234\n",
            "Epoch 3/25\n",
            "10/10 [==============================] - 0s 6ms/step - loss: 0.8306 - val_loss: 1.2010\n",
            "Epoch 4/25\n",
            "10/10 [==============================] - 0s 6ms/step - loss: 0.8574 - val_loss: 1.2933\n",
            "Epoch 5/25\n",
            "10/10 [==============================] - 0s 8ms/step - loss: 0.7276 - val_loss: 1.1095\n",
            "Epoch 6/25\n",
            "10/10 [==============================] - 0s 7ms/step - loss: 0.7085 - val_loss: 1.2460\n",
            "Epoch 7/25\n",
            "10/10 [==============================] - 0s 8ms/step - loss: 0.7101 - val_loss: 1.1831\n",
            "Epoch 8/25\n",
            "10/10 [==============================] - 0s 6ms/step - loss: 0.6770 - val_loss: 1.1084\n",
            "Epoch 9/25\n",
            "10/10 [==============================] - 0s 8ms/step - loss: 0.6430 - val_loss: 1.1643\n",
            "Epoch 10/25\n",
            "10/10 [==============================] - 0s 6ms/step - loss: 0.6615 - val_loss: 1.2130\n",
            "Epoch 11/25\n",
            "10/10 [==============================] - 0s 6ms/step - loss: 0.6669 - val_loss: 1.0410\n",
            "Epoch 12/25\n",
            "10/10 [==============================] - 0s 6ms/step - loss: 0.6556 - val_loss: 1.0223\n",
            "Epoch 13/25\n",
            "10/10 [==============================] - 0s 7ms/step - loss: 0.6823 - val_loss: 1.0278\n",
            "Epoch 14/25\n",
            "10/10 [==============================] - 0s 8ms/step - loss: 0.6533 - val_loss: 1.0544\n",
            "Epoch 15/25\n",
            "10/10 [==============================] - 0s 6ms/step - loss: 0.6316 - val_loss: 1.1959\n"
          ]
        }
      ]
    },
    {
      "cell_type": "code",
      "source": [
        "# 회귀 모델 학습 결과 시각화\n",
        "import matplotlib.pyplot as plt\n",
        "plt.plot(history.history['loss'], 'b-', label='loss')\n",
        "plt.plot(history.history['val_loss'], 'r--', label='val_loss')\n",
        "plt.xlabel('Epoch')\n",
        "plt.legend()\n",
        "plt.show()"
      ],
      "metadata": {
        "colab": {
          "base_uri": "https://localhost:8080/",
          "height": 279
        },
        "id": "MZC5A6VSyCcf",
        "outputId": "68d59a39-db5e-4b90-8e85-18d81d442f57"
      },
      "execution_count": 140,
      "outputs": [
        {
          "output_type": "display_data",
          "data": {
            "image/png": "[encoded data removed]",
            "text/plain": [
              "<Figure size 432x288 with 1 Axes>"
            ]
          },
          "metadata": {
            "needs_background": "light"
          }
        }
      ]
    },
    {
      "cell_type": "code",
      "source": [
        "# 모델 평가\n",
        "model.evaluate(test_X, test_Y)"
      ],
      "metadata": {
        "colab": {
          "base_uri": "https://localhost:8080/"
        },
        "id": "5cm1Gca_ysvZ",
        "outputId": "d6555d2a-8342-499b-94f9-442690670b16"
      },
      "execution_count": 141,
      "outputs": [
        {
          "output_type": "stream",
          "name": "stdout",
          "text": [
            "4/4 [==============================] - 0s 3ms/step - loss: 0.7317\n"
          ]
        },
        {
          "output_type": "execute_result",
          "data": {
            "text/plain": [
              "0.731731116771698"
            ]
          },
          "metadata": {},
          "execution_count": 141
        }
      ]
    },
    {
      "cell_type": "code",
      "source": [
        "import matplotlib.pyplot as plt\n",
        "\n",
        "pred_Y = model.predict(test_X)\n",
        "\n",
        "plt.figure(figsize=(5,5))\n",
        "plt.plot(test_Y, pred_Y, 'b.')\n",
        "plt.axis([min(test_Y), max(test_Y), min(test_Y), max(test_Y)])\n",
        "\n",
        "plt.plot([min(test_Y), max(test_Y)], [min(test_Y), max(test_Y)], ls=\"--\", c=\".3\")\n",
        "plt.xlabel('test_Y')\n",
        "plt.ylabel('pred_Y')\n",
        "\n",
        "plt.show()"
      ],
      "metadata": {
        "colab": {
          "base_uri": "https://localhost:8080/",
          "height": 339
        },
        "id": "9s1nBr9ny5FC",
        "outputId": "5467c9df-5667-469b-9254-d8ddc016d7ff"
      },
      "execution_count": 142,
      "outputs": [
        {
          "output_type": "display_data",
          "data": {
            "image/png": "[encoded data removed]",
            "text/plain": [
              "<Figure size 360x360 with 1 Axes>"
            ]
          },
          "metadata": {
            "needs_background": "light"
          }
        }
      ]
    }
  ]
}