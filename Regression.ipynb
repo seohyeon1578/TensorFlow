{
  "nbformat": 4,
  "nbformat_minor": 0,
  "metadata": {
    "colab": {
      "name": "Regression",
      "provenance": [],
      "toc_visible": true,
      "authorship_tag": "ABX9TyMX8owxlb1fAMkYcQw+/uY2",
      "include_colab_link": true
    },
    "kernelspec": {
      "name": "python3",
      "display_name": "Python 3"
    },
    "language_info": {
      "name": "python"
    }
  },
  "cells": [
    {
      "cell_type": "markdown",
      "metadata": {
        "id": "view-in-github",
        "colab_type": "text"
      },
      "source": [
        "<a href=\"https://colab.research.google.com/github/seohyeon1578/TensorFlow/blob/main/Regression.ipynb\" target=\"_parent\"><img src=\"https://colab.research.google.com/assets/colab-badge.svg\" alt=\"Open In Colab\"/></a>"
      ]
    },
    {
      "cell_type": "code",
      "source": [
        "# 텐서플로 2 버전 선택\n",
        "try:\n",
        "    # %tensorflow_version only exists in Colab.\n",
        "    %tensorflow_version 2.x\n",
        "except Exception:\n",
        "    pass"
      ],
      "metadata": {
        "id": "6Cq2ncwiQA2A"
      },
      "execution_count": 1,
      "outputs": []
    },
    {
      "cell_type": "markdown",
      "source": [
        "# 회귀"
      ],
      "metadata": {
        "id": "cxM63DpoPPLp"
      }
    },
    {
      "cell_type": "markdown",
      "source": [
        "## 선형 회귀(Linear Regression)\n"
      ],
      "metadata": {
        "id": "udvlkbVuPTZN"
      }
    },
    {
      "cell_type": "code",
      "source": [
        "#지역별 인구증가율과 고령인구비율 시각화\n",
        "import matplotlib.pyplot as plt\n",
        "population_inc = [0.3, -0.78, 1.26, 0.03, 1.11, 15.17, 0.24, -0.24, -0.47, -0.77, -0.37, -0.85, -0.41, -0.27, 0.02, -0.76, 2.66]\n",
        "population_old = [12.27, 14.44, 11.87, 18.75, 17.52, 9.29, 16.37, 19.78, 19.51, 12.65, 14.74, 10.72, 21.94, 12.83, 15.51, 17.14, 14.42]\n",
        "plt.plot(population_inc, population_old, 'bo')\n",
        "plt.xlabel('Population Growth Rate')\n",
        "plt.ylabel('Elderly Population Rate')\n",
        "plt.show()"
      ],
      "metadata": {
        "colab": {
          "base_uri": "https://localhost:8080/",
          "height": 279
        },
        "id": "DKST9bbNPaFG",
        "outputId": "a2491b16-bdc7-4f4f-e0f8-0946ef3da8f0"
      },
      "execution_count": 2,
      "outputs": [
        {
          "output_type": "display_data",
          "data": {
            "image/png": "[encoded data removed]",
            "text/plain": [
              "<Figure size 432x288 with 1 Axes>"
            ]
          },
          "metadata": {
            "needs_background": "light"
          }
        }
      ]
    },
    {
      "cell_type": "code",
      "source": [
        "#극단치(outlier) 제거\n",
        "import matplotlib.pyplot as plt\n",
        "population_inc = [0.3, -0.78, 1.26, 0.03, 1.11, 15.17, 0.24, -0.24, -0.47, -0.77, -0.37, -0.85, -0.41, -0.27, 0.02, -0.76, 2.66]\n",
        "population_inc = population_inc[:5] + population_inc[6:]\n",
        "population_old = [12.27, 14.44, 11.87, 18.75, 17.52, 9.29, 16.37, 19.78, 19.51, 12.65, 14.74, 10.72, 21.94, 12.83, 15.51, 17.14, 14.42]\n",
        "population_old = population_old[:5] + population_old[6:]\n",
        "plt.plot(population_inc, population_old, 'bo')\n",
        "plt.xlabel('Population Growth Rate')\n",
        "plt.ylabel('Elderly Population Rate')\n",
        "plt.show()"
      ],
      "metadata": {
        "colab": {
          "base_uri": "https://localhost:8080/",
          "height": 279
        },
        "id": "C2Ynob8IQ0S4",
        "outputId": "fdfa8214-66d6-4913-9af3-6df01062b3fd"
      },
      "execution_count": 3,
      "outputs": [
        {
          "output_type": "display_data",
          "data": {
            "image/png": "[encoded data removed]",
            "text/plain": [
              "<Figure size 432x288 with 1 Axes>"
            ]
          },
          "metadata": {
            "needs_background": "light"
          }
        }
      ]
    },
    {
      "cell_type": "code",
      "source": [
        "#최소제곱법으로 회귀선 구하기\n",
        "import numpy as np\n",
        "import matplotlib.pyplot as plt\n",
        "X = [0.3, -0.78, 1.26, 0.03, 1.11, 0.24, -0.24, -0.47, -0.77, -0.37, -0.85, -0.41, -0.27, 0.02, -0.76, 2.66]\n",
        "Y = [12.27, 14.44, 11.87, 18.75, 17.52, 16.37, 19.78, 19.51, 12.65, 14.74, 10.72, 21.94, 12.83, 15.51, 17.14, 14.42]\n",
        "\n",
        "#x, y의 평균 구하기\n",
        "x_bar = sum(X) / len(Y)\n",
        "y_bar = sum(Y) / len(X)\n",
        "\n",
        "#최소제곱법\n",
        "a = sum([(y - y_bar) * (x - x_bar) for y,x in list(zip(Y, X))])\n",
        "a /= sum([(x - x_bar) ** 2 for x in X])\n",
        "b = y_bar - a * x_bar\n",
        "print('a:', a, 'b:', b)\n",
        "\n",
        "#그래프를 그리기 위한 회귀선의 x, y 데이터 구하기\n",
        "line_x = np.arange(min(X), max(X), 0.01)\n",
        "line_y = a * line_x + b\n",
        "\n",
        "plt.plot(line_x, line_y, 'r-')\n",
        "\n",
        "plt.plot(X,Y,'bo')\n",
        "plt.xlabel('Population Growth Rate')\n",
        "plt.ylabel('Elderly Population Rate')\n",
        "plt.show"
      ],
      "metadata": {
        "colab": {
          "base_uri": "https://localhost:8080/",
          "height": 316
        },
        "id": "XgBRKcO9R1Ib",
        "outputId": "82449167-0991-461c-b23b-4277393cd587"
      },
      "execution_count": 6,
      "outputs": [
        {
          "output_type": "stream",
          "name": "stdout",
          "text": [
            "a: -0.355834147915461 b: 15.669317743971302\n"
          ]
        },
        {
          "output_type": "execute_result",
          "data": {
            "text/plain": [
              "<function matplotlib.pyplot.show>"
            ]
          },
          "metadata": {},
          "execution_count": 6
        },
        {
          "output_type": "display_data",
          "data": {
            "image/png": "[encoded data removed]",
            "text/plain": [
              "<Figure size 432x288 with 1 Axes>"
            ]
          },
          "metadata": {
            "needs_background": "light"
          }
        }
      ]
    },
    {
      "cell_type": "code",
      "source": [
        "# 텐서플로를 이용한 회귀선 구하기\n",
        "import tensorflow as tf\n",
        "import numpy as np\n",
        "import matplotlib.pyplot as plt\n",
        "import random\n",
        "X = [0.3, -0.78, 1.26, 0.03, 1.11, 0.24, -0.24, -0.47, -0.77, -0.37, -0.85, -0.41, -0.27, 0.02, -0.76, 2.66]\n",
        "Y = [12.27, 14.44, 11.87, 18.75, 17.52, 16.37, 19.78, 19.51, 12.65, 14.74, 10.72, 21.94, 12.83, 15.51, 17.14, 14.42]\n",
        "\n",
        "#a,b 랜덤 값 초기화\n",
        "a = tf.Variable(random.random())\n",
        "b = tf.Variable(random.random())\n",
        "\n",
        "def compute_loss():\n",
        "  y_pred = a * X + b\n",
        "  loss = tf.reduce_mean((Y - y_pred) ** 2)\n",
        "  return loss\n",
        "\n",
        "optimizer = tf.optimizers.Adam(lr=0.07)\n",
        "for i in range(1000):\n",
        "  optimizer.minimize(compute_loss, var_list=[a,b])\n",
        "\n",
        "  if i % 100 == 99:\n",
        "    print(i, 'a:', a.numpy(), 'b:', b.numpy(), 'loss:', compute_loss().numpy())\n",
        "\n",
        "line_x = np.arange(min(X), max(X), 0.01)\n",
        "line_y = a * line_x + b\n",
        "  \n",
        "plt.plot(line_x,line_y,'r-')\n",
        "plt.plot(X,Y,'bo')\n",
        "plt.xlabel('Population Growth Rate (%)')\n",
        "plt.ylabel('Elderly Population Rate (%)')\n",
        "plt.show()"
      ],
      "metadata": {
        "colab": {
          "base_uri": "https://localhost:8080/",
          "height": 499
        },
        "id": "UpACcLgjUxmU",
        "outputId": "15bc1980-a2a0-4164-cf3a-0b2d7e0251bb"
      },
      "execution_count": 9,
      "outputs": [
        {
          "output_type": "stream",
          "name": "stderr",
          "text": [
            "/usr/local/lib/python3.7/dist-packages/keras/optimizer_v2/adam.py:105: UserWarning: The `lr` argument is deprecated, use `learning_rate` instead.\n",
            "  super(Adam, self).__init__(name, **kwargs)\n"
          ]
        },
        {
          "output_type": "stream",
          "name": "stdout",
          "text": [
            "99 a: 0.13645945 b: 6.4241276 loss: 95.056076\n",
            "199 a: -0.10497056 b: 10.966488 loss: 31.846107\n",
            "299 a: -0.24863634 b: 13.659508 loss: 13.81077\n",
            "399 a: -0.31788242 b: 14.957759 loss: 10.285945\n",
            "499 a: -0.3447583 b: 15.46166 loss: 9.823826\n",
            "599 a: -0.35317984 b: 15.619556 loss: 9.783274\n",
            "699 a: -0.3553157 b: 15.659596 loss: 9.780897\n",
            "799 a: -0.35575223 b: 15.667788 loss: 9.780806\n",
            "899 a: -0.3558237 b: 15.6691265 loss: 9.780804\n",
            "999 a: -0.35583317 b: 15.669302 loss: 9.780804\n"
          ]
        },
        {
          "output_type": "display_data",
          "data": {
            "image/png": "[encoded data removed]",
            "text/plain": [
              "<Figure size 432x288 with 1 Axes>"
            ]
          },
          "metadata": {
            "needs_background": "light"
          }
        }
      ]
    },
    {
      "cell_type": "markdown",
      "source": [
        "## 다항 회귀(Polynomial Regression)"
      ],
      "metadata": {
        "id": "YoRptIIrYW58"
      }
    }
  ]
}