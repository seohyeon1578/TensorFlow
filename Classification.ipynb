{
  "nbformat": 4,
  "nbformat_minor": 0,
  "metadata": {
    "colab": {
      "name": "Classification",
      "provenance": [],
      "authorship_tag": "ABX9TyMlybgRxp7ntKShLC7GiY5N",
      "include_colab_link": true
    },
    "kernelspec": {
      "name": "python3",
      "display_name": "Python 3"
    },
    "language_info": {
      "name": "python"
    },
    "accelerator": "GPU"
  },
  "cells": [
    {
      "cell_type": "markdown",
      "metadata": {
        "id": "view-in-github",
        "colab_type": "text"
      },
      "source": [
        "<a href=\"https://colab.research.google.com/github/seohyeon1578/TensorFlow/blob/main/Classification.ipynb\" target=\"_parent\"><img src=\"https://colab.research.google.com/assets/colab-badge.svg\" alt=\"Open In Colab\"/></a>"
      ]
    },
    {
      "cell_type": "code",
      "source": [
        "try:\n",
        "    # %tensorflow_version only exists in Colab.\n",
        "    %tensorflow_version 2.x\n",
        "except Exception:\n",
        "    pass"
      ],
      "metadata": {
        "id": "vE8PywBp6DoZ"
      },
      "execution_count": 29,
      "outputs": []
    },
    {
      "cell_type": "markdown",
      "source": [
        "# 분류(Classification)"
      ],
      "metadata": {
        "id": "Q5gavuz81HRy"
      }
    },
    {
      "cell_type": "markdown",
      "source": [
        "잔차의 제곱의 합(SSE), 잔차의 제곱의 평균(MSE)"
      ],
      "metadata": {
        "id": "Ir3l-oPM2axK"
      }
    },
    {
      "cell_type": "markdown",
      "source": [
        "## 이항 분류(Binary Classification)"
      ],
      "metadata": {
        "id": "b_ehJ-4N3URU"
      }
    },
    {
      "cell_type": "code",
      "execution_count": 30,
      "metadata": {
        "colab": {
          "base_uri": "https://localhost:8080/"
        },
        "id": "ZDWXyva71FrB",
        "outputId": "ee4e993e-52b0-4676-8ed7-c0b46f11a2cd"
      },
      "outputs": [
        {
          "output_type": "stream",
          "name": "stdout",
          "text": [
            "   fixed acidity  volatile acidity  citric acid  residual sugar  chlorides  \\\n",
            "0            7.4              0.70         0.00             1.9      0.076   \n",
            "1            7.8              0.88         0.00             2.6      0.098   \n",
            "2            7.8              0.76         0.04             2.3      0.092   \n",
            "3           11.2              0.28         0.56             1.9      0.075   \n",
            "4            7.4              0.70         0.00             1.9      0.076   \n",
            "\n",
            "   free sulfur dioxide  total sulfur dioxide  density    pH  sulphates  \\\n",
            "0                 11.0                  34.0   0.9978  3.51       0.56   \n",
            "1                 25.0                  67.0   0.9968  3.20       0.68   \n",
            "2                 15.0                  54.0   0.9970  3.26       0.65   \n",
            "3                 17.0                  60.0   0.9980  3.16       0.58   \n",
            "4                 11.0                  34.0   0.9978  3.51       0.56   \n",
            "\n",
            "   alcohol  quality  \n",
            "0      9.4        5  \n",
            "1      9.8        5  \n",
            "2      9.8        5  \n",
            "3      9.8        6  \n",
            "4      9.4        5  \n",
            "   fixed acidity  volatile acidity  citric acid  residual sugar  chlorides  \\\n",
            "0            7.0              0.27         0.36            20.7      0.045   \n",
            "1            6.3              0.30         0.34             1.6      0.049   \n",
            "2            8.1              0.28         0.40             6.9      0.050   \n",
            "3            7.2              0.23         0.32             8.5      0.058   \n",
            "4            7.2              0.23         0.32             8.5      0.058   \n",
            "\n",
            "   free sulfur dioxide  total sulfur dioxide  density    pH  sulphates  \\\n",
            "0                 45.0                 170.0   1.0010  3.00       0.45   \n",
            "1                 14.0                 132.0   0.9940  3.30       0.49   \n",
            "2                 30.0                  97.0   0.9951  3.26       0.44   \n",
            "3                 47.0                 186.0   0.9956  3.19       0.40   \n",
            "4                 47.0                 186.0   0.9956  3.19       0.40   \n",
            "\n",
            "   alcohol  quality  \n",
            "0      8.8        6  \n",
            "1      9.5        6  \n",
            "2     10.1        6  \n",
            "3      9.9        6  \n",
            "4      9.9        6  \n"
          ]
        }
      ],
      "source": [
        "# 와인 데이터셋 불러오기\n",
        "import pandas as pd                                    #pandas: 데이터 정제 및 분석을 위한 라이브러리\n",
        "red = pd.read_csv('http://archive.ics.uci.edu/ml/machine-learning-databases/wine-quality/winequality-red.csv', sep=';')       #레드 와인\n",
        "white = pd.read_csv('http://archive.ics.uci.edu/ml/machine-learning-databases/wine-quality/winequality-white.csv', sep=';')   #화이트 와인\n",
        "print(red.head())\n",
        "print(white.head())"
      ]
    },
    {
      "cell_type": "code",
      "source": [
        "# 와인 데이터셋 합치기\n",
        "red['type'] = 0\n",
        "white['type'] = 1\n",
        "print(red.head(2))\n",
        "print(white.head(2))\n",
        "\n",
        "wine = pd.concat([red, white]) #레드와인 화이트 와인 데이터셋 합치기\n",
        "print(wine.describe())"
      ],
      "metadata": {
        "colab": {
          "base_uri": "https://localhost:8080/"
        },
        "id": "W4PTdqLz5v4N",
        "outputId": "c754d457-a9bb-4f1b-daac-062c9f24d0f0"
      },
      "execution_count": 31,
      "outputs": [
        {
          "output_type": "stream",
          "name": "stdout",
          "text": [
            "   fixed acidity  volatile acidity  citric acid  residual sugar  chlorides  \\\n",
            "0            7.4              0.70          0.0             1.9      0.076   \n",
            "1            7.8              0.88          0.0             2.6      0.098   \n",
            "\n",
            "   free sulfur dioxide  total sulfur dioxide  density    pH  sulphates  \\\n",
            "0                 11.0                  34.0   0.9978  3.51       0.56   \n",
            "1                 25.0                  67.0   0.9968  3.20       0.68   \n",
            "\n",
            "   alcohol  quality  type  \n",
            "0      9.4        5     0  \n",
            "1      9.8        5     0  \n",
            "   fixed acidity  volatile acidity  citric acid  residual sugar  chlorides  \\\n",
            "0            7.0              0.27         0.36            20.7      0.045   \n",
            "1            6.3              0.30         0.34             1.6      0.049   \n",
            "\n",
            "   free sulfur dioxide  total sulfur dioxide  density   pH  sulphates  \\\n",
            "0                 45.0                 170.0    1.001  3.0       0.45   \n",
            "1                 14.0                 132.0    0.994  3.3       0.49   \n",
            "\n",
            "   alcohol  quality  type  \n",
            "0      8.8        6     1  \n",
            "1      9.5        6     1  \n",
            "       fixed acidity  volatile acidity  citric acid  residual sugar  \\\n",
            "count    6497.000000       6497.000000  6497.000000     6497.000000   \n",
            "mean        7.215307          0.339666     0.318633        5.443235   \n",
            "std         1.296434          0.164636     0.145318        4.757804   \n",
            "min         3.800000          0.080000     0.000000        0.600000   \n",
            "25%         6.400000          0.230000     0.250000        1.800000   \n",
            "50%         7.000000          0.290000     0.310000        3.000000   \n",
            "75%         7.700000          0.400000     0.390000        8.100000   \n",
            "max        15.900000          1.580000     1.660000       65.800000   \n",
            "\n",
            "         chlorides  free sulfur dioxide  total sulfur dioxide      density  \\\n",
            "count  6497.000000          6497.000000           6497.000000  6497.000000   \n",
            "mean      0.056034            30.525319            115.744574     0.994697   \n",
            "std       0.035034            17.749400             56.521855     0.002999   \n",
            "min       0.009000             1.000000              6.000000     0.987110   \n",
            "25%       0.038000            17.000000             77.000000     0.992340   \n",
            "50%       0.047000            29.000000            118.000000     0.994890   \n",
            "75%       0.065000            41.000000            156.000000     0.996990   \n",
            "max       0.611000           289.000000            440.000000     1.038980   \n",
            "\n",
            "                pH    sulphates      alcohol      quality         type  \n",
            "count  6497.000000  6497.000000  6497.000000  6497.000000  6497.000000  \n",
            "mean      3.218501     0.531268    10.491801     5.818378     0.753886  \n",
            "std       0.160787     0.148806     1.192712     0.873255     0.430779  \n",
            "min       2.720000     0.220000     8.000000     3.000000     0.000000  \n",
            "25%       3.110000     0.430000     9.500000     5.000000     1.000000  \n",
            "50%       3.210000     0.510000    10.300000     6.000000     1.000000  \n",
            "75%       3.320000     0.600000    11.300000     6.000000     1.000000  \n",
            "max       4.010000     2.000000    14.900000     9.000000     1.000000  \n"
          ]
        }
      ]
    },
    {
      "cell_type": "code",
      "source": [
        "# 레드 와인과 화이트 와인 type 히스토그램\n",
        "import matplotlib.pyplot as plt\n",
        "plt.hist(wine['type'])\n",
        "plt.xticks([0, 1])\n",
        "plt.show()\n",
        "\n",
        "print(wine['type'].value_counts())"
      ],
      "metadata": {
        "colab": {
          "base_uri": "https://localhost:8080/",
          "height": 320
        },
        "id": "jYGBN7Rq68_p",
        "outputId": "3018530e-a12b-4bed-ee11-73af02784f90"
      },
      "execution_count": null,
      "outputs": [
        {
          "output_type": "display_data",
          "data": {
            "image/png": "[encoded data removed]",
            "text/plain": [
              "<Figure size 432x288 with 1 Axes>"
            ]
          },
          "metadata": {
            "needs_background": "light"
          }
        },
        {
          "output_type": "stream",
          "name": "stdout",
          "text": [
            "1    4898\n",
            "0    1599\n",
            "Name: type, dtype: int64\n"
          ]
        }
      ]
    },
    {
      "cell_type": "code",
      "source": [
        "# 데이터 요약 정보 확인\n",
        "print(wine.info())       # 데이터의 파악을 도와주는 함수"
      ],
      "metadata": {
        "colab": {
          "base_uri": "https://localhost:8080/"
        },
        "id": "_ZYt9Pyu8Bal",
        "outputId": "386d90b0-52c8-4c98-bb0c-403c52685bf0"
      },
      "execution_count": 32,
      "outputs": [
        {
          "output_type": "stream",
          "name": "stdout",
          "text": [
            "<class 'pandas.core.frame.DataFrame'>\n",
            "Int64Index: 6497 entries, 0 to 4897\n",
            "Data columns (total 13 columns):\n",
            " #   Column                Non-Null Count  Dtype  \n",
            "---  ------                --------------  -----  \n",
            " 0   fixed acidity         6497 non-null   float64\n",
            " 1   volatile acidity      6497 non-null   float64\n",
            " 2   citric acid           6497 non-null   float64\n",
            " 3   residual sugar        6497 non-null   float64\n",
            " 4   chlorides             6497 non-null   float64\n",
            " 5   free sulfur dioxide   6497 non-null   float64\n",
            " 6   total sulfur dioxide  6497 non-null   float64\n",
            " 7   density               6497 non-null   float64\n",
            " 8   pH                    6497 non-null   float64\n",
            " 9   sulphates             6497 non-null   float64\n",
            " 10  alcohol               6497 non-null   float64\n",
            " 11  quality               6497 non-null   int64  \n",
            " 12  type                  6497 non-null   int64  \n",
            "dtypes: float64(11), int64(2)\n",
            "memory usage: 710.6 KB\n",
            "None\n"
          ]
        }
      ]
    },
    {
      "cell_type": "markdown",
      "source": [
        "출력된 13개의 속성 모두 non-null로 표시되어 null인 값은 하나도 들어있지 않다. 또한 11개는 float64, 2개는 int64로 모두 숫자 값이기 떄문에 안전하게 정규화 가능"
      ],
      "metadata": {
        "id": "U6RYl6zR8m-Z"
      }
    },
    {
      "cell_type": "code",
      "source": [
        "# 데이터 정규화\n",
        "wine_norm = (wine - wine.min()) / (wine.max() - wine.min())\n",
        "print(wine_norm.head())\n",
        "print(wine_norm.describe())"
      ],
      "metadata": {
        "colab": {
          "base_uri": "https://localhost:8080/"
        },
        "id": "VPjMnmv_8mZ3",
        "outputId": "4db5afdc-46bb-4bb2-ff6f-a468f7064175"
      },
      "execution_count": 5,
      "outputs": [
        {
          "output_type": "stream",
          "name": "stdout",
          "text": [
            "   fixed acidity  volatile acidity  citric acid  residual sugar  chlorides  \\\n",
            "0       0.297521          0.413333     0.000000        0.019939   0.111296   \n",
            "1       0.330579          0.533333     0.000000        0.030675   0.147841   \n",
            "2       0.330579          0.453333     0.024096        0.026074   0.137874   \n",
            "3       0.611570          0.133333     0.337349        0.019939   0.109635   \n",
            "4       0.297521          0.413333     0.000000        0.019939   0.111296   \n",
            "\n",
            "   free sulfur dioxide  total sulfur dioxide   density        pH  sulphates  \\\n",
            "0             0.034722              0.064516  0.206092  0.612403   0.191011   \n",
            "1             0.083333              0.140553  0.186813  0.372093   0.258427   \n",
            "2             0.048611              0.110599  0.190669  0.418605   0.241573   \n",
            "3             0.055556              0.124424  0.209948  0.341085   0.202247   \n",
            "4             0.034722              0.064516  0.206092  0.612403   0.191011   \n",
            "\n",
            "    alcohol   quality  type  \n",
            "0  0.202899  0.333333   0.0  \n",
            "1  0.260870  0.333333   0.0  \n",
            "2  0.260870  0.333333   0.0  \n",
            "3  0.260870  0.500000   0.0  \n",
            "4  0.202899  0.333333   0.0  \n",
            "       fixed acidity  volatile acidity  citric acid  residual sugar  \\\n",
            "count    6497.000000       6497.000000  6497.000000     6497.000000   \n",
            "mean        0.282257          0.173111     0.191948        0.074283   \n",
            "std         0.107143          0.109758     0.087541        0.072972   \n",
            "min         0.000000          0.000000     0.000000        0.000000   \n",
            "25%         0.214876          0.100000     0.150602        0.018405   \n",
            "50%         0.264463          0.140000     0.186747        0.036810   \n",
            "75%         0.322314          0.213333     0.234940        0.115031   \n",
            "max         1.000000          1.000000     1.000000        1.000000   \n",
            "\n",
            "         chlorides  free sulfur dioxide  total sulfur dioxide      density  \\\n",
            "count  6497.000000          6497.000000           6497.000000  6497.000000   \n",
            "mean      0.078129             0.102518              0.252868     0.146262   \n",
            "std       0.058195             0.061630              0.130235     0.057811   \n",
            "min       0.000000             0.000000              0.000000     0.000000   \n",
            "25%       0.048173             0.055556              0.163594     0.100829   \n",
            "50%       0.063123             0.097222              0.258065     0.149990   \n",
            "75%       0.093023             0.138889              0.345622     0.190476   \n",
            "max       1.000000             1.000000              1.000000     1.000000   \n",
            "\n",
            "                pH    sulphates      alcohol      quality         type  \n",
            "count  6497.000000  6497.000000  6497.000000  6497.000000  6497.000000  \n",
            "mean      0.386435     0.174870     0.361131     0.469730     0.753886  \n",
            "std       0.124641     0.083599     0.172857     0.145543     0.430779  \n",
            "min       0.000000     0.000000     0.000000     0.000000     0.000000  \n",
            "25%       0.302326     0.117978     0.217391     0.333333     1.000000  \n",
            "50%       0.379845     0.162921     0.333333     0.500000     1.000000  \n",
            "75%       0.465116     0.213483     0.478261     0.500000     1.000000  \n",
            "max       1.000000     1.000000     1.000000     1.000000     1.000000  \n"
          ]
        }
      ]
    },
    {
      "cell_type": "code",
      "source": [
        "# 데이터 섞은 후 numpy array로 변환\n",
        "import numpy as np\n",
        "wine_shuffle = wine_norm.sample(frac=1)               #frac=1 은 100%로 모든 데이터를 뽑아서 섞는 것과 동일한 효과\n",
        "print(wine_shuffle.head())\n",
        "wine_np = wine_shuffle.to_numpy()                     #to_numpy(): 데이터프레임을 넘파이 array로 변환\n",
        "print(wine_np[:5])"
      ],
      "metadata": {
        "colab": {
          "base_uri": "https://localhost:8080/"
        },
        "id": "JfWW6l4r9hn0",
        "outputId": "b67ea5b9-3467-447c-9bee-9b17fd2b5f0c"
      },
      "execution_count": 6,
      "outputs": [
        {
          "output_type": "stream",
          "name": "stdout",
          "text": [
            "      fixed acidity  volatile acidity  citric acid  residual sugar  chlorides  \\\n",
            "1143       0.264463          0.093333     0.180723        0.018405   0.093023   \n",
            "2849       0.322314          0.233333     0.222892        0.144172   0.265781   \n",
            "1250       0.123967          0.120000     0.138554        0.069785   0.041528   \n",
            "1423       0.495868          0.113333     0.445783        0.144172   0.078073   \n",
            "1756       0.239669          0.126667     0.150602        0.113497   0.073090   \n",
            "\n",
            "      free sulfur dioxide  total sulfur dioxide   density        pH  \\\n",
            "1143             0.052083              0.032258  0.185271  0.689922   \n",
            "2849             0.072917              0.470046  0.205321  0.232558   \n",
            "1250             0.163194              0.354839  0.155967  0.852713   \n",
            "1423             0.121528              0.504608  0.204164  0.263566   \n",
            "1756             0.184028              0.451613  0.173318  0.387597   \n",
            "\n",
            "      sulphates   alcohol   quality  type  \n",
            "1143   0.337079  0.289855  0.500000   0.0  \n",
            "2849   0.235955  0.217391  0.333333   1.0  \n",
            "1250   0.162921  0.362319  0.666667   1.0  \n",
            "1423   0.117978  0.289855  0.166667   1.0  \n",
            "1756   0.117978  0.188406  0.333333   1.0  \n",
            "[[0.26446281 0.09333333 0.18072289 0.01840491 0.09302326 0.05208333\n",
            "  0.03225806 0.18527087 0.68992248 0.33707865 0.28985507 0.5\n",
            "  0.        ]\n",
            " [0.32231405 0.23333333 0.22289157 0.14417178 0.26578073 0.07291667\n",
            "  0.47004608 0.20532099 0.23255814 0.23595506 0.2173913  0.33333333\n",
            "  1.        ]\n",
            " [0.12396694 0.12       0.13855422 0.06978528 0.04152824 0.16319444\n",
            "  0.35483871 0.15596684 0.85271318 0.16292135 0.36231884 0.66666667\n",
            "  1.        ]\n",
            " [0.49586777 0.11333333 0.44578313 0.14417178 0.07807309 0.12152778\n",
            "  0.50460829 0.20416426 0.26356589 0.11797753 0.28985507 0.16666667\n",
            "  1.        ]\n",
            " [0.23966942 0.12666667 0.15060241 0.11349693 0.0730897  0.18402778\n",
            "  0.4516129  0.17331791 0.3875969  0.11797753 0.1884058  0.33333333\n",
            "  1.        ]]\n"
          ]
        }
      ]
    },
    {
      "cell_type": "code",
      "source": [
        "# train 데이터와 test 데이터로 분리\n",
        "import tensorflow as tf\n",
        "train_idx = int(len(wine_np) * 0.8)                                        # wine_np의 수의 80%에 해당하는 인덱스를 int값으로 저장\n",
        "train_X, train_Y = wine_np[:train_idx, :-1], wine_np[:train_idx, -1]\n",
        "test_X, test_Y = wine_np[train_idx:, :-1], wine_np[train_idx:, -1]\n",
        "print(train_X[0])\n",
        "print(train_Y[0])\n",
        "print(test_X[0])\n",
        "print(test_Y[0])\n",
        "train_Y = tf.keras.utils.to_categorical(train_Y, num_classes=2)                 #원-핫인코딩(One-Hot Encoding)방식으로 바꿈\n",
        "test_Y = tf.keras.utils.to_categorical(test_Y, num_classes=2)\n",
        "print(train_Y[0])\n",
        "print(test_Y[0])"
      ],
      "metadata": {
        "colab": {
          "base_uri": "https://localhost:8080/"
        },
        "id": "aTAZbsGW_YQO",
        "outputId": "5e3da411-6ca4-43b3-e0c4-52eae87bac21"
      },
      "execution_count": null,
      "outputs": [
        {
          "output_type": "stream",
          "name": "stdout",
          "text": [
            "[0.2231405  0.11333333 0.27108434 0.11042945 0.06478405 0.17708333\n",
            " 0.41935484 0.16676306 0.37209302 0.1741573  0.15942029 0.33333333]\n",
            "1.0\n",
            "[0.39669421 0.37666667 0.15060241 0.02147239 0.12292359 0.02430556\n",
            " 0.05069124 0.21283979 0.43410853 0.21348315 0.28985507 0.5       ]\n",
            "0.0\n",
            "[0. 1.]\n",
            "[1. 0.]\n"
          ]
        }
      ]
    },
    {
      "cell_type": "code",
      "source": [
        "#와인 데이터셋 분류 모델 생성\n",
        "import tensorflow as tf\n",
        "model = tf.keras.Sequential([\n",
        "    tf.keras.layers.Dense(units=48, activation='relu', input_shape=(12,)),\n",
        "    tf.keras.layers.Dense(units=24, activation='relu'),\n",
        "    tf.keras.layers.Dense(units=12, activation='relu'),\n",
        "    tf.keras.layers.Dense(units=2, activation='softmax')\n",
        "])\n",
        "\n",
        "model.compile(optimizer=tf.keras.optimizers.Adam(lr=0.07), loss='categorical_crossentropy', metrics=['accuracy'])\n",
        "\n",
        "model.summary()"
      ],
      "metadata": {
        "colab": {
          "base_uri": "https://localhost:8080/"
        },
        "id": "KiS9H7ZPk6K6",
        "outputId": "e67ce905-69cb-4a42-dc66-352dbbf79a2b"
      },
      "execution_count": null,
      "outputs": [
        {
          "output_type": "stream",
          "name": "stdout",
          "text": [
            "Model: \"sequential_4\"\n",
            "_________________________________________________________________\n",
            " Layer (type)                Output Shape              Param #   \n",
            "=================================================================\n",
            " dense_16 (Dense)            (None, 48)                624       \n",
            "                                                                 \n",
            " dense_17 (Dense)            (None, 24)                1176      \n",
            "                                                                 \n",
            " dense_18 (Dense)            (None, 12)                300       \n",
            "                                                                 \n",
            " dense_19 (Dense)            (None, 2)                 26        \n",
            "                                                                 \n",
            "=================================================================\n",
            "Total params: 2,126\n",
            "Trainable params: 2,126\n",
            "Non-trainable params: 0\n",
            "_________________________________________________________________\n"
          ]
        },
        {
          "output_type": "stream",
          "name": "stderr",
          "text": [
            "/usr/local/lib/python3.7/dist-packages/keras/optimizer_v2/adam.py:105: UserWarning: The `lr` argument is deprecated, use `learning_rate` instead.\n",
            "  super(Adam, self).__init__(name, **kwargs)\n"
          ]
        }
      ]
    },
    {
      "cell_type": "markdown",
      "source": [
        "softmax는 분류 문제나 언어 RNN에서의 다음 토큰 예측, 강화학습에서 에이전트의 행동 확률을 구하는 등 결괏값으로 확률이 필요한 다양한 분야에서 쓰임"
      ],
      "metadata": {
        "id": "044-liTZuxqj"
      }
    },
    {
      "cell_type": "code",
      "source": [
        "import matplotlib.pyplot as plt\n",
        "import math\n",
        "import numpy as np\n",
        "x = np.arange(-2, 2, 0.01)\n",
        "e_x = math.e ** x\n",
        "\n",
        "plt.axhline(0, color='gray')\n",
        "plt.axvline(0, color='gray')\n",
        "plt.plot(x, x, 'b-', label='y=x')\n",
        "plt.plot(x, e_x, 'g.', label='y=e^x')\n",
        "plt.xlabel('X')\n",
        "plt.ylabel('Y')\n",
        "plt.legend()\n",
        "plt.show()"
      ],
      "metadata": {
        "colab": {
          "base_uri": "https://localhost:8080/",
          "height": 279
        },
        "id": "0wTzKjqSuWxB",
        "outputId": "df42d5d7-718b-4f32-aa37-6cd651175183"
      },
      "execution_count": null,
      "outputs": [
        {
          "output_type": "display_data",
          "data": {
            "image/png": "[encoded data removed]",
            "text/plain": [
              "<Figure size 432x288 with 1 Axes>"
            ]
          },
          "metadata": {
            "needs_background": "light"
          }
        }
      ]
    },
    {
      "cell_type": "code",
      "source": [
        "# 모델 학습\n",
        "history = model.fit(train_X, train_Y, epochs=25, batch_size=32, validation_split=0.25)"
      ],
      "metadata": {
        "colab": {
          "base_uri": "https://localhost:8080/"
        },
        "id": "Hqh_rf-AvuOs",
        "outputId": "552cd26d-eca8-466a-d941-6a625378d903"
      },
      "execution_count": null,
      "outputs": [
        {
          "output_type": "stream",
          "name": "stdout",
          "text": [
            "Epoch 1/25\n",
            "122/122 [==============================] - 1s 5ms/step - loss: 0.0315 - accuracy: 0.9928 - val_loss: 0.0396 - val_accuracy: 0.9931\n",
            "Epoch 2/25\n",
            "122/122 [==============================] - 1s 5ms/step - loss: 0.0301 - accuracy: 0.9918 - val_loss: 0.0310 - val_accuracy: 0.9931\n",
            "Epoch 3/25\n",
            "122/122 [==============================] - 1s 6ms/step - loss: 0.0307 - accuracy: 0.9920 - val_loss: 0.0329 - val_accuracy: 0.9900\n",
            "Epoch 4/25\n",
            "122/122 [==============================] - 1s 5ms/step - loss: 0.0342 - accuracy: 0.9920 - val_loss: 0.0292 - val_accuracy: 0.9908\n",
            "Epoch 5/25\n",
            "122/122 [==============================] - 1s 5ms/step - loss: 0.0280 - accuracy: 0.9923 - val_loss: 0.0609 - val_accuracy: 0.9877\n",
            "Epoch 6/25\n",
            "122/122 [==============================] - 1s 5ms/step - loss: 0.0299 - accuracy: 0.9920 - val_loss: 0.0466 - val_accuracy: 0.9923\n",
            "Epoch 7/25\n",
            "122/122 [==============================] - 1s 5ms/step - loss: 0.0379 - accuracy: 0.9908 - val_loss: 0.0242 - val_accuracy: 0.9908\n",
            "Epoch 8/25\n",
            "122/122 [==============================] - 1s 5ms/step - loss: 0.0320 - accuracy: 0.9920 - val_loss: 0.0355 - val_accuracy: 0.9938\n",
            "Epoch 9/25\n",
            "122/122 [==============================] - 1s 5ms/step - loss: 0.0288 - accuracy: 0.9923 - val_loss: 0.0351 - val_accuracy: 0.9938\n",
            "Epoch 10/25\n",
            "122/122 [==============================] - 1s 5ms/step - loss: 0.0300 - accuracy: 0.9926 - val_loss: 0.0380 - val_accuracy: 0.9938\n",
            "Epoch 11/25\n",
            "122/122 [==============================] - 1s 5ms/step - loss: 0.0260 - accuracy: 0.9941 - val_loss: 0.0369 - val_accuracy: 0.9931\n",
            "Epoch 12/25\n",
            "122/122 [==============================] - 1s 5ms/step - loss: 0.0257 - accuracy: 0.9941 - val_loss: 0.0363 - val_accuracy: 0.9938\n",
            "Epoch 13/25\n",
            "122/122 [==============================] - 1s 5ms/step - loss: 0.0325 - accuracy: 0.9913 - val_loss: 0.0628 - val_accuracy: 0.9900\n",
            "Epoch 14/25\n",
            "122/122 [==============================] - 1s 5ms/step - loss: 0.0297 - accuracy: 0.9931 - val_loss: 0.0234 - val_accuracy: 0.9923\n",
            "Epoch 15/25\n",
            "122/122 [==============================] - 1s 5ms/step - loss: 0.0276 - accuracy: 0.9933 - val_loss: 0.0254 - val_accuracy: 0.9915\n",
            "Epoch 16/25\n",
            "122/122 [==============================] - 1s 5ms/step - loss: 0.0303 - accuracy: 0.9928 - val_loss: 0.0361 - val_accuracy: 0.9931\n",
            "Epoch 17/25\n",
            "122/122 [==============================] - 1s 5ms/step - loss: 0.0284 - accuracy: 0.9928 - val_loss: 0.0366 - val_accuracy: 0.9938\n",
            "Epoch 18/25\n",
            "122/122 [==============================] - 1s 5ms/step - loss: 0.0273 - accuracy: 0.9933 - val_loss: 0.0289 - val_accuracy: 0.9938\n",
            "Epoch 19/25\n",
            "122/122 [==============================] - 1s 5ms/step - loss: 0.0268 - accuracy: 0.9931 - val_loss: 0.0312 - val_accuracy: 0.9915\n",
            "Epoch 20/25\n",
            "122/122 [==============================] - 1s 5ms/step - loss: 0.0246 - accuracy: 0.9936 - val_loss: 0.0485 - val_accuracy: 0.9938\n",
            "Epoch 21/25\n",
            "122/122 [==============================] - 1s 5ms/step - loss: 0.0294 - accuracy: 0.9944 - val_loss: 0.0206 - val_accuracy: 0.9946\n",
            "Epoch 22/25\n",
            "122/122 [==============================] - 1s 5ms/step - loss: 0.0266 - accuracy: 0.9946 - val_loss: 0.0270 - val_accuracy: 0.9931\n",
            "Epoch 23/25\n",
            "122/122 [==============================] - 1s 5ms/step - loss: 0.0264 - accuracy: 0.9926 - val_loss: 0.0242 - val_accuracy: 0.9915\n",
            "Epoch 24/25\n",
            "122/122 [==============================] - 1s 5ms/step - loss: 0.0335 - accuracy: 0.9923 - val_loss: 0.0263 - val_accuracy: 0.9931\n",
            "Epoch 25/25\n",
            "122/122 [==============================] - 1s 5ms/step - loss: 0.0219 - accuracy: 0.9954 - val_loss: 0.0350 - val_accuracy: 0.9946\n"
          ]
        }
      ]
    },
    {
      "cell_type": "code",
      "source": [
        "# 분류 모델 학습 결과 시각화\n",
        "import matplotlib.pyplot as plt\n",
        "plt.figure(figsize=(12, 4))\n",
        "\n",
        "plt.subplot(1, 2, 1)\n",
        "plt.plot(history.history['loss'], 'b-', label='loss')\n",
        "plt.plot(history.history['val_loss'], 'r--', label='val_loss')\n",
        "plt.xlabel('Epoch')\n",
        "plt.legend()\n",
        "\n",
        "plt.subplot(1, 2, 2)\n",
        "plt.plot(history.history['accuracy'], 'g-', label='accuracy')\n",
        "plt.plot(history.history['val_accuracy'], 'k--', label='val_accuracy')\n",
        "plt.xlabel('Epoch')\n",
        "plt.ylim(0.7, 1)\n",
        "plt.legend()\n",
        "\n",
        "plt.show()"
      ],
      "metadata": {
        "colab": {
          "base_uri": "https://localhost:8080/",
          "height": 283
        },
        "id": "4mPMoZO4z_wI",
        "outputId": "bdd02778-1451-469d-b8a9-b412031ac663"
      },
      "execution_count": null,
      "outputs": [
        {
          "output_type": "display_data",
          "data": {
            "image/png": "[encoded data removed]",
            "text/plain": [
              "<Figure size 864x288 with 2 Axes>"
            ]
          },
          "metadata": {
            "needs_background": "light"
          }
        }
      ]
    },
    {
      "cell_type": "code",
      "source": [
        "# 분류 모델 평가\n",
        "model.evaluate(test_X, test_Y)"
      ],
      "metadata": {
        "colab": {
          "base_uri": "https://localhost:8080/"
        },
        "id": "l6CFlvOI1JeE",
        "outputId": "19b2d230-9a88-43bd-acba-9bb400e1851b"
      },
      "execution_count": null,
      "outputs": [
        {
          "output_type": "stream",
          "name": "stdout",
          "text": [
            "41/41 [==============================] - 0s 3ms/step - loss: 0.0451 - accuracy: 0.9892\n"
          ]
        },
        {
          "output_type": "execute_result",
          "data": {
            "text/plain": [
              "[0.045128703117370605, 0.989230751991272]"
            ]
          },
          "metadata": {},
          "execution_count": 88
        }
      ]
    },
    {
      "cell_type": "markdown",
      "source": [
        "## 다항 분류"
      ],
      "metadata": {
        "id": "7t7jcaNl1SW6"
      }
    },
    {
      "cell_type": "code",
      "source": [
        "# 와인 품질 데이터 확인\n",
        "print(wine['quality'].describe())\n",
        "print(wine['quality'].value_counts())"
      ],
      "metadata": {
        "colab": {
          "base_uri": "https://localhost:8080/"
        },
        "id": "m9iTqjOH1QIh",
        "outputId": "5116de20-ff5c-4b22-cce3-81610467171a"
      },
      "execution_count": 33,
      "outputs": [
        {
          "output_type": "stream",
          "name": "stdout",
          "text": [
            "count    6497.000000\n",
            "mean        5.818378\n",
            "std         0.873255\n",
            "min         3.000000\n",
            "25%         5.000000\n",
            "50%         6.000000\n",
            "75%         6.000000\n",
            "max         9.000000\n",
            "Name: quality, dtype: float64\n",
            "6    2836\n",
            "5    2138\n",
            "7    1079\n",
            "4     216\n",
            "8     193\n",
            "3      30\n",
            "9       5\n",
            "Name: quality, dtype: int64\n"
          ]
        }
      ]
    },
    {
      "cell_type": "code",
      "source": [
        "import matplotlib.pyplot as plt\n",
        "plt.hist(wine['quality'], bins=7, rwidth=0.8)\n",
        "plt.show()"
      ],
      "metadata": {
        "colab": {
          "base_uri": "https://localhost:8080/",
          "height": 265
        },
        "id": "j7O7WBQu8SGT",
        "outputId": "f8e71dbd-9c1d-4856-ed32-9129441b8b2a"
      },
      "execution_count": 34,
      "outputs": [
        {
          "output_type": "display_data",
          "data": {
            "image/png": "[encoded data removed]",
            "text/plain": [
              "<Figure size 432x288 with 1 Axes>"
            ]
          },
          "metadata": {
            "needs_background": "light"
          }
        }
      ]
    },
    {
      "cell_type": "markdown",
      "source": [
        "데이터의 양이 작고 범주의 수가 많은데다 히스토그램에서 볼 수 있듯이 각 데이터의 숫자가 차이가 나기 때문에 몬든 범주에 대한 세세한 분류는 어려움"
      ],
      "metadata": {
        "id": "Qh77ofql9Pnu"
      }
    },
    {
      "cell_type": "code",
      "source": [
        "# 품질을 3개의 범주(좋음, 보통, 나쁨)로 재분류\n",
        "wine.loc[wine['quality'] <= 5, 'new_quality'] = 0\n",
        "wine.loc[wine['quality'] == 6, 'new_quality'] = 1\n",
        "wine.loc[wine['quality'] >= 7, 'new_quality'] = 2\n",
        "print(wine['new_quality'].describe())\n",
        "print(wine['new_quality'].value_counts())"
      ],
      "metadata": {
        "colab": {
          "base_uri": "https://localhost:8080/"
        },
        "id": "ypwY3f2U8rst",
        "outputId": "ff3debd0-6882-4164-c5d5-d4e0b21daeb2"
      },
      "execution_count": 35,
      "outputs": [
        {
          "output_type": "stream",
          "name": "stdout",
          "text": [
            "count    6497.000000\n",
            "mean        0.829614\n",
            "std         0.731124\n",
            "min         0.000000\n",
            "25%         0.000000\n",
            "50%         1.000000\n",
            "75%         1.000000\n",
            "max         2.000000\n",
            "Name: new_quality, dtype: float64\n",
            "1.0    2836\n",
            "0.0    2384\n",
            "2.0    1277\n",
            "Name: new_quality, dtype: int64\n"
          ]
        }
      ]
    },
    {
      "cell_type": "code",
      "source": [
        "data = [['Apple', 11], ['Banana', 23], ['Coconut', 35]]\n",
        "df = pd.DataFrame(data, columns=['Fruit', 'Count'])\n",
        "print(df)\n",
        "print()\n",
        "print(df.loc[0])\n",
        "print()\n",
        "print(df.loc[0, 'Fruit'])"
      ],
      "metadata": {
        "colab": {
          "base_uri": "https://localhost:8080/"
        },
        "id": "cxkJ-bqC9KP-",
        "outputId": "a96f5f63-200a-4a8a-bbb6-501ae6d0cbb8"
      },
      "execution_count": 36,
      "outputs": [
        {
          "output_type": "stream",
          "name": "stdout",
          "text": [
            "     Fruit  Count\n",
            "0    Apple     11\n",
            "1   Banana     23\n",
            "2  Coconut     35\n",
            "\n",
            "Fruit    Apple\n",
            "Count       11\n",
            "Name: 0, dtype: object\n",
            "\n",
            "Apple\n"
          ]
        }
      ]
    },
    {
      "cell_type": "code",
      "source": [
        "# 데이터 정규화 및 train, test 데이터 분리\n",
        "import tensorflow as tf\n",
        "del wine['quality']\n",
        "wine_backup = wine.copy()\n",
        "wine_norm = (wine - wine.min()) / (wine.max() - wine.min())\n",
        "wine_norm['new_quality'] = wine_backup['new_quality']\n",
        "wine_shuffle = wine_norm.sample(frac=1)\n",
        "wine_np = wine_shuffle.to_numpy()\n",
        "\n",
        "train_idx = int(len(wine_np) * 0.8)\n",
        "train_X, train_Y = wine_np[:train_idx, :-1], wine_np[:train_idx, -1]\n",
        "test_X, test_Y = wine_np[train_idx:, :-1], wine_np[train_idx:, -1]\n",
        "train_Y = tf.keras.utils.to_categorical(train_Y, num_classes=3)\n",
        "test_Y = tf.keras.utils.to_categorical(test_Y, num_classes=3)"
      ],
      "metadata": {
        "id": "YJfWv_QJ-Q7v"
      },
      "execution_count": 37,
      "outputs": []
    },
    {
      "cell_type": "code",
      "source": [
        "# 모델 학습\n",
        "model = tf.keras.Sequential([\n",
        "  tf.keras.layers.Dense(units=48, activation='relu', input_shape=(12, )),\n",
        "  tf.keras.layers.Dense(units=24, activation='relu'),\n",
        "  tf.keras.layers.Dense(units=12, activation='relu'),\n",
        "  tf.keras.layers.Dense(units=3, activation='softmax')\n",
        "])\n",
        "\n",
        "model.compile(optimizer=tf.keras.optimizers.Adam(lr=0.003), loss='categorical_crossentropy', metrics=['accuracy'])\n",
        "\n",
        "history = model.fit(train_X, train_Y, epochs=25, batch_size=32, validation_split=0.25)"
      ],
      "metadata": {
        "colab": {
          "base_uri": "https://localhost:8080/"
        },
        "id": "Jo05BELK_7tX",
        "outputId": "000ddc37-d05c-4862-a780-3d352d1205cd"
      },
      "execution_count": 39,
      "outputs": [
        {
          "output_type": "stream",
          "name": "stdout",
          "text": [
            "Epoch 1/25\n"
          ]
        },
        {
          "output_type": "stream",
          "name": "stderr",
          "text": [
            "/usr/local/lib/python3.7/dist-packages/keras/optimizer_v2/adam.py:105: UserWarning: The `lr` argument is deprecated, use `learning_rate` instead.\n",
            "  super(Adam, self).__init__(name, **kwargs)\n"
          ]
        },
        {
          "output_type": "stream",
          "name": "stdout",
          "text": [
            "122/122 [==============================] - 3s 5ms/step - loss: 0.9519 - accuracy: 0.5140 - val_loss: 0.9059 - val_accuracy: 0.5331\n",
            "Epoch 2/25\n",
            "122/122 [==============================] - 0s 3ms/step - loss: 0.8755 - accuracy: 0.5625 - val_loss: 0.8969 - val_accuracy: 0.5585\n",
            "Epoch 3/25\n",
            "122/122 [==============================] - 0s 4ms/step - loss: 0.8718 - accuracy: 0.5635 - val_loss: 0.8893 - val_accuracy: 0.5354\n",
            "Epoch 4/25\n",
            "122/122 [==============================] - 0s 4ms/step - loss: 0.8564 - accuracy: 0.5745 - val_loss: 0.8861 - val_accuracy: 0.5700\n",
            "Epoch 5/25\n",
            "122/122 [==============================] - 0s 3ms/step - loss: 0.8548 - accuracy: 0.5751 - val_loss: 0.9147 - val_accuracy: 0.5438\n",
            "Epoch 6/25\n",
            "122/122 [==============================] - 0s 3ms/step - loss: 0.8499 - accuracy: 0.5902 - val_loss: 0.8660 - val_accuracy: 0.5554\n",
            "Epoch 7/25\n",
            "122/122 [==============================] - 0s 4ms/step - loss: 0.8440 - accuracy: 0.5781 - val_loss: 0.8690 - val_accuracy: 0.5646\n",
            "Epoch 8/25\n",
            "122/122 [==============================] - 0s 4ms/step - loss: 0.8408 - accuracy: 0.5804 - val_loss: 0.8516 - val_accuracy: 0.5746\n",
            "Epoch 9/25\n",
            "122/122 [==============================] - 0s 4ms/step - loss: 0.8302 - accuracy: 0.5940 - val_loss: 0.8461 - val_accuracy: 0.5754\n",
            "Epoch 10/25\n",
            "122/122 [==============================] - 0s 4ms/step - loss: 0.8364 - accuracy: 0.5881 - val_loss: 0.8561 - val_accuracy: 0.5792\n",
            "Epoch 11/25\n",
            "122/122 [==============================] - 0s 3ms/step - loss: 0.8268 - accuracy: 0.5938 - val_loss: 0.8549 - val_accuracy: 0.5831\n",
            "Epoch 12/25\n",
            "122/122 [==============================] - 0s 4ms/step - loss: 0.8267 - accuracy: 0.5889 - val_loss: 0.8491 - val_accuracy: 0.5877\n",
            "Epoch 13/25\n",
            "122/122 [==============================] - 0s 4ms/step - loss: 0.8284 - accuracy: 0.5925 - val_loss: 0.8532 - val_accuracy: 0.5885\n",
            "Epoch 14/25\n",
            "122/122 [==============================] - 0s 4ms/step - loss: 0.8259 - accuracy: 0.5925 - val_loss: 0.8503 - val_accuracy: 0.5838\n",
            "Epoch 15/25\n",
            "122/122 [==============================] - 0s 4ms/step - loss: 0.8238 - accuracy: 0.5984 - val_loss: 0.8561 - val_accuracy: 0.5715\n",
            "Epoch 16/25\n",
            "122/122 [==============================] - 0s 3ms/step - loss: 0.8218 - accuracy: 0.5933 - val_loss: 0.8365 - val_accuracy: 0.5923\n",
            "Epoch 17/25\n",
            "122/122 [==============================] - 0s 3ms/step - loss: 0.8174 - accuracy: 0.6012 - val_loss: 0.8417 - val_accuracy: 0.5862\n",
            "Epoch 18/25\n",
            "122/122 [==============================] - 0s 3ms/step - loss: 0.8113 - accuracy: 0.6053 - val_loss: 0.8329 - val_accuracy: 0.6015\n",
            "Epoch 19/25\n",
            "122/122 [==============================] - 0s 3ms/step - loss: 0.8115 - accuracy: 0.6007 - val_loss: 0.8509 - val_accuracy: 0.5838\n",
            "Epoch 20/25\n",
            "122/122 [==============================] - 0s 3ms/step - loss: 0.8086 - accuracy: 0.6038 - val_loss: 0.8397 - val_accuracy: 0.5938\n",
            "Epoch 21/25\n",
            "122/122 [==============================] - 0s 4ms/step - loss: 0.8097 - accuracy: 0.6046 - val_loss: 0.8369 - val_accuracy: 0.5923\n",
            "Epoch 22/25\n",
            "122/122 [==============================] - 1s 4ms/step - loss: 0.8061 - accuracy: 0.6059 - val_loss: 0.8286 - val_accuracy: 0.6000\n",
            "Epoch 23/25\n",
            "122/122 [==============================] - 0s 3ms/step - loss: 0.8034 - accuracy: 0.6082 - val_loss: 0.8300 - val_accuracy: 0.6062\n",
            "Epoch 24/25\n",
            "122/122 [==============================] - 0s 4ms/step - loss: 0.8082 - accuracy: 0.6033 - val_loss: 0.8312 - val_accuracy: 0.5938\n",
            "Epoch 25/25\n",
            "122/122 [==============================] - 0s 4ms/step - loss: 0.8034 - accuracy: 0.6079 - val_loss: 0.8347 - val_accuracy: 0.5908\n"
          ]
        }
      ]
    },
    {
      "cell_type": "code",
      "source": [
        "import matplotlib.pyplot as plt\n",
        "plt.figure(figsize=(12, 4))\n",
        "\n",
        "plt.subplot(1, 2, 1)\n",
        "plt.plot(history.history['loss'], 'b-', label='loss')\n",
        "plt.plot(history.history['val_loss'], 'r--', label='val_loss')\n",
        "plt.xlabel('Epoch')\n",
        "plt.legend()\n",
        "\n",
        "plt.subplot(1, 2, 2)\n",
        "plt.plot(history.history['accuracy'], 'g-', label='accuracy')\n",
        "plt.plot(history.history['val_accuracy'], 'k--', label='val_accuracy')\n",
        "plt.xlabel('Epoch')\n",
        "plt.ylim(0.5, 0.7)\n",
        "plt.legend()\n",
        "\n",
        "plt.show()"
      ],
      "metadata": {
        "colab": {
          "base_uri": "https://localhost:8080/",
          "height": 283
        },
        "id": "oRA-O71rBzAO",
        "outputId": "3e5da51d-6c56-45e1-8fea-fff04d5c48fe"
      },
      "execution_count": 42,
      "outputs": [
        {
          "output_type": "display_data",
          "data": {
            "image/png": "[encoded data removed]",
            "text/plain": [
              "<Figure size 864x288 with 2 Axes>"
            ]
          },
          "metadata": {
            "needs_background": "light"
          }
        }
      ]
    },
    {
      "cell_type": "code",
      "source": [
        "model.evaluate(test_X, test_Y)"
      ],
      "metadata": {
        "colab": {
          "base_uri": "https://localhost:8080/"
        },
        "id": "brpzL8FGCz8K",
        "outputId": "0c319077-14cc-4558-cc19-a9abb4651f86"
      },
      "execution_count": 43,
      "outputs": [
        {
          "output_type": "stream",
          "name": "stdout",
          "text": [
            "41/41 [==============================] - 0s 4ms/step - loss: 0.8189 - accuracy: 0.6054\n"
          ]
        },
        {
          "output_type": "execute_result",
          "data": {
            "text/plain": [
              "[0.8188809752464294, 0.6053845882415771]"
            ]
          },
          "metadata": {},
          "execution_count": 43
        }
      ]
    },
    {
      "cell_type": "markdown",
      "source": [
        "## Fashion MNIST"
      ],
      "metadata": {
        "id": "_TgEZOluDA8U"
      }
    },
    {
      "cell_type": "code",
      "source": [
        "# Fashion MNIST 데이터셋 불러오기\n",
        "fashion_mnist = tf.keras.datasets.fashion_mnist\n",
        "(train_X, train_Y), (test_X, test_Y) = fashion_mnist.load_data()\n",
        "\n",
        "print(len(train_X), len(test_X))"
      ],
      "metadata": {
        "colab": {
          "base_uri": "https://localhost:8080/"
        },
        "id": "1yB-dbxuDQD5",
        "outputId": "c4960ad7-8049-4292-eda9-1aff877b54e2"
      },
      "execution_count": 46,
      "outputs": [
        {
          "output_type": "stream",
          "name": "stdout",
          "text": [
            "60000 10000\n"
          ]
        }
      ]
    },
    {
      "cell_type": "code",
      "source": [
        "# 데이터 확인\n",
        "import matplotlib.pyplot as plt\n",
        "plt.imshow(train_X[0], cmap='gray')     #imshow(): 이미지를 그래프의 형태로 표시\n",
        "plt.colorbar()\n",
        "plt.show()\n",
        "\n",
        "print(train_Y[0])"
      ],
      "metadata": {
        "colab": {
          "base_uri": "https://localhost:8080/",
          "height": 283
        },
        "id": "iutO90OaEDVe",
        "outputId": "897e40ef-c89f-4928-f510-23ca6228ecac"
      },
      "execution_count": 49,
      "outputs": [
        {
          "output_type": "display_data",
          "data": {
            "image/png": "[encoded data removed]",
            "text/plain": [
              "<Figure size 432x288 with 2 Axes>"
            ]
          },
          "metadata": {
            "needs_background": "light"
          }
        },
        {
          "output_type": "stream",
          "name": "stdout",
          "text": [
            "9\n"
          ]
        }
      ]
    },
    {
      "cell_type": "code",
      "source": [
        "# 데이터 정규화\n",
        "train_X = train_X / 255.0\n",
        "test_X = test_X / 255.0\n",
        "\n",
        "print(train_X[0])"
      ],
      "metadata": {
        "colab": {
          "base_uri": "https://localhost:8080/"
        },
        "id": "i1i8-6HWEdDP",
        "outputId": "7d4d7286-4432-4a38-a207-c6492766e16c"
      },
      "execution_count": 50,
      "outputs": [
        {
          "output_type": "stream",
          "name": "stdout",
          "text": [
            "[[0.         0.         0.         0.         0.         0.\n",
            "  0.         0.         0.         0.         0.         0.\n",
            "  0.         0.         0.         0.         0.         0.\n",
            "  0.         0.         0.         0.         0.         0.\n",
            "  0.         0.         0.         0.        ]\n",
            " [0.         0.         0.         0.         0.         0.\n",
            "  0.         0.         0.         0.         0.         0.\n",
            "  0.         0.         0.         0.         0.         0.\n",
            "  0.         0.         0.         0.         0.         0.\n",
            "  0.         0.         0.         0.        ]\n",
            " [0.         0.         0.         0.         0.         0.\n",
            "  0.         0.         0.         0.         0.         0.\n",
            "  0.         0.         0.         0.         0.         0.\n",
            "  0.         0.         0.         0.         0.         0.\n",
            "  0.         0.         0.         0.        ]\n",
            " [0.         0.         0.         0.         0.         0.\n",
            "  0.         0.         0.         0.         0.         0.\n",
            "  0.00392157 0.         0.         0.05098039 0.28627451 0.\n",
            "  0.         0.00392157 0.01568627 0.         0.         0.\n",
            "  0.         0.00392157 0.00392157 0.        ]\n",
            " [0.         0.         0.         0.         0.         0.\n",
            "  0.         0.         0.         0.         0.         0.\n",
            "  0.01176471 0.         0.14117647 0.53333333 0.49803922 0.24313725\n",
            "  0.21176471 0.         0.         0.         0.00392157 0.01176471\n",
            "  0.01568627 0.         0.         0.01176471]\n",
            " [0.         0.         0.         0.         0.         0.\n",
            "  0.         0.         0.         0.         0.         0.\n",
            "  0.02352941 0.         0.4        0.8        0.69019608 0.5254902\n",
            "  0.56470588 0.48235294 0.09019608 0.         0.         0.\n",
            "  0.         0.04705882 0.03921569 0.        ]\n",
            " [0.         0.         0.         0.         0.         0.\n",
            "  0.         0.         0.         0.         0.         0.\n",
            "  0.         0.         0.60784314 0.9254902  0.81176471 0.69803922\n",
            "  0.41960784 0.61176471 0.63137255 0.42745098 0.25098039 0.09019608\n",
            "  0.30196078 0.50980392 0.28235294 0.05882353]\n",
            " [0.         0.         0.         0.         0.         0.\n",
            "  0.         0.         0.         0.         0.         0.00392157\n",
            "  0.         0.27058824 0.81176471 0.8745098  0.85490196 0.84705882\n",
            "  0.84705882 0.63921569 0.49803922 0.4745098  0.47843137 0.57254902\n",
            "  0.55294118 0.34509804 0.6745098  0.25882353]\n",
            " [0.         0.         0.         0.         0.         0.\n",
            "  0.         0.         0.         0.00392157 0.00392157 0.00392157\n",
            "  0.         0.78431373 0.90980392 0.90980392 0.91372549 0.89803922\n",
            "  0.8745098  0.8745098  0.84313725 0.83529412 0.64313725 0.49803922\n",
            "  0.48235294 0.76862745 0.89803922 0.        ]\n",
            " [0.         0.         0.         0.         0.         0.\n",
            "  0.         0.         0.         0.         0.         0.\n",
            "  0.         0.71764706 0.88235294 0.84705882 0.8745098  0.89411765\n",
            "  0.92156863 0.89019608 0.87843137 0.87058824 0.87843137 0.86666667\n",
            "  0.8745098  0.96078431 0.67843137 0.        ]\n",
            " [0.         0.         0.         0.         0.         0.\n",
            "  0.         0.         0.         0.         0.         0.\n",
            "  0.         0.75686275 0.89411765 0.85490196 0.83529412 0.77647059\n",
            "  0.70588235 0.83137255 0.82352941 0.82745098 0.83529412 0.8745098\n",
            "  0.8627451  0.95294118 0.79215686 0.        ]\n",
            " [0.         0.         0.         0.         0.         0.\n",
            "  0.         0.         0.         0.00392157 0.01176471 0.\n",
            "  0.04705882 0.85882353 0.8627451  0.83137255 0.85490196 0.75294118\n",
            "  0.6627451  0.89019608 0.81568627 0.85490196 0.87843137 0.83137255\n",
            "  0.88627451 0.77254902 0.81960784 0.20392157]\n",
            " [0.         0.         0.         0.         0.         0.\n",
            "  0.         0.         0.         0.         0.02352941 0.\n",
            "  0.38823529 0.95686275 0.87058824 0.8627451  0.85490196 0.79607843\n",
            "  0.77647059 0.86666667 0.84313725 0.83529412 0.87058824 0.8627451\n",
            "  0.96078431 0.46666667 0.65490196 0.21960784]\n",
            " [0.         0.         0.         0.         0.         0.\n",
            "  0.         0.         0.         0.01568627 0.         0.\n",
            "  0.21568627 0.9254902  0.89411765 0.90196078 0.89411765 0.94117647\n",
            "  0.90980392 0.83529412 0.85490196 0.8745098  0.91764706 0.85098039\n",
            "  0.85098039 0.81960784 0.36078431 0.        ]\n",
            " [0.         0.         0.00392157 0.01568627 0.02352941 0.02745098\n",
            "  0.00784314 0.         0.         0.         0.         0.\n",
            "  0.92941176 0.88627451 0.85098039 0.8745098  0.87058824 0.85882353\n",
            "  0.87058824 0.86666667 0.84705882 0.8745098  0.89803922 0.84313725\n",
            "  0.85490196 1.         0.30196078 0.        ]\n",
            " [0.         0.01176471 0.         0.         0.         0.\n",
            "  0.         0.         0.         0.24313725 0.56862745 0.8\n",
            "  0.89411765 0.81176471 0.83529412 0.86666667 0.85490196 0.81568627\n",
            "  0.82745098 0.85490196 0.87843137 0.8745098  0.85882353 0.84313725\n",
            "  0.87843137 0.95686275 0.62352941 0.        ]\n",
            " [0.         0.         0.         0.         0.07058824 0.17254902\n",
            "  0.32156863 0.41960784 0.74117647 0.89411765 0.8627451  0.87058824\n",
            "  0.85098039 0.88627451 0.78431373 0.80392157 0.82745098 0.90196078\n",
            "  0.87843137 0.91764706 0.69019608 0.7372549  0.98039216 0.97254902\n",
            "  0.91372549 0.93333333 0.84313725 0.        ]\n",
            " [0.         0.22352941 0.73333333 0.81568627 0.87843137 0.86666667\n",
            "  0.87843137 0.81568627 0.8        0.83921569 0.81568627 0.81960784\n",
            "  0.78431373 0.62352941 0.96078431 0.75686275 0.80784314 0.8745098\n",
            "  1.         1.         0.86666667 0.91764706 0.86666667 0.82745098\n",
            "  0.8627451  0.90980392 0.96470588 0.        ]\n",
            " [0.01176471 0.79215686 0.89411765 0.87843137 0.86666667 0.82745098\n",
            "  0.82745098 0.83921569 0.80392157 0.80392157 0.80392157 0.8627451\n",
            "  0.94117647 0.31372549 0.58823529 1.         0.89803922 0.86666667\n",
            "  0.7372549  0.60392157 0.74901961 0.82352941 0.8        0.81960784\n",
            "  0.87058824 0.89411765 0.88235294 0.        ]\n",
            " [0.38431373 0.91372549 0.77647059 0.82352941 0.87058824 0.89803922\n",
            "  0.89803922 0.91764706 0.97647059 0.8627451  0.76078431 0.84313725\n",
            "  0.85098039 0.94509804 0.25490196 0.28627451 0.41568627 0.45882353\n",
            "  0.65882353 0.85882353 0.86666667 0.84313725 0.85098039 0.8745098\n",
            "  0.8745098  0.87843137 0.89803922 0.11372549]\n",
            " [0.29411765 0.8        0.83137255 0.8        0.75686275 0.80392157\n",
            "  0.82745098 0.88235294 0.84705882 0.7254902  0.77254902 0.80784314\n",
            "  0.77647059 0.83529412 0.94117647 0.76470588 0.89019608 0.96078431\n",
            "  0.9372549  0.8745098  0.85490196 0.83137255 0.81960784 0.87058824\n",
            "  0.8627451  0.86666667 0.90196078 0.2627451 ]\n",
            " [0.18823529 0.79607843 0.71764706 0.76078431 0.83529412 0.77254902\n",
            "  0.7254902  0.74509804 0.76078431 0.75294118 0.79215686 0.83921569\n",
            "  0.85882353 0.86666667 0.8627451  0.9254902  0.88235294 0.84705882\n",
            "  0.78039216 0.80784314 0.72941176 0.70980392 0.69411765 0.6745098\n",
            "  0.70980392 0.80392157 0.80784314 0.45098039]\n",
            " [0.         0.47843137 0.85882353 0.75686275 0.70196078 0.67058824\n",
            "  0.71764706 0.76862745 0.8        0.82352941 0.83529412 0.81176471\n",
            "  0.82745098 0.82352941 0.78431373 0.76862745 0.76078431 0.74901961\n",
            "  0.76470588 0.74901961 0.77647059 0.75294118 0.69019608 0.61176471\n",
            "  0.65490196 0.69411765 0.82352941 0.36078431]\n",
            " [0.         0.         0.29019608 0.74117647 0.83137255 0.74901961\n",
            "  0.68627451 0.6745098  0.68627451 0.70980392 0.7254902  0.7372549\n",
            "  0.74117647 0.7372549  0.75686275 0.77647059 0.8        0.81960784\n",
            "  0.82352941 0.82352941 0.82745098 0.7372549  0.7372549  0.76078431\n",
            "  0.75294118 0.84705882 0.66666667 0.        ]\n",
            " [0.00784314 0.         0.         0.         0.25882353 0.78431373\n",
            "  0.87058824 0.92941176 0.9372549  0.94901961 0.96470588 0.95294118\n",
            "  0.95686275 0.86666667 0.8627451  0.75686275 0.74901961 0.70196078\n",
            "  0.71372549 0.71372549 0.70980392 0.69019608 0.65098039 0.65882353\n",
            "  0.38823529 0.22745098 0.         0.        ]\n",
            " [0.         0.         0.         0.         0.         0.\n",
            "  0.         0.15686275 0.23921569 0.17254902 0.28235294 0.16078431\n",
            "  0.1372549  0.         0.         0.         0.         0.\n",
            "  0.         0.         0.         0.         0.         0.\n",
            "  0.         0.         0.         0.        ]\n",
            " [0.         0.         0.         0.         0.         0.\n",
            "  0.         0.         0.         0.         0.         0.\n",
            "  0.         0.         0.         0.         0.         0.\n",
            "  0.         0.         0.         0.         0.         0.\n",
            "  0.         0.         0.         0.        ]\n",
            " [0.         0.         0.         0.         0.         0.\n",
            "  0.         0.         0.         0.         0.         0.\n",
            "  0.         0.         0.         0.         0.         0.\n",
            "  0.         0.         0.         0.         0.         0.\n",
            "  0.         0.         0.         0.        ]]\n"
          ]
        }
      ]
    },
    {
      "cell_type": "code",
      "source": [
        "model = tf.keras.Sequential([\n",
        "  tf.keras.layers.Flatten(input_shape=(28,28)),          #Flatten 다차원 데이터를 1차원으로 정렬\n",
        "  tf.keras.layers.Dense(units=128, activation='relu'),\n",
        "  tf.keras.layers.Dense(units=10, activation='softmax')                            \n",
        "])\n",
        "\n",
        "model.compile(optimizer=tf.keras.optimizers.Adam(), loss='sparse_categorical_crossentropy', metrics=['accuracy'])   #sparse는 희소 행렬을 뜻함\n",
        "\n",
        "model.summary()"
      ],
      "metadata": {
        "colab": {
          "base_uri": "https://localhost:8080/"
        },
        "id": "4yHX7vTIFbVR",
        "outputId": "2a113c7d-6eb2-444d-8bad-9b51caf81a4a"
      },
      "execution_count": 53,
      "outputs": [
        {
          "output_type": "stream",
          "name": "stdout",
          "text": [
            "Model: \"sequential_6\"\n",
            "_________________________________________________________________\n",
            " Layer (type)                Output Shape              Param #   \n",
            "=================================================================\n",
            " flatten_2 (Flatten)         (None, 784)               0         \n",
            "                                                                 \n",
            " dense_20 (Dense)            (None, 128)               100480    \n",
            "                                                                 \n",
            " dense_21 (Dense)            (None, 10)                1290      \n",
            "                                                                 \n",
            "=================================================================\n",
            "Total params: 101,770\n",
            "Trainable params: 101,770\n",
            "Non-trainable params: 0\n",
            "_________________________________________________________________\n"
          ]
        }
      ]
    },
    {
      "cell_type": "code",
      "source": [
        "# 모델 학습\n",
        "history = model.fit(train_X, train_Y, epochs=25, validation_split=0.25)"
      ],
      "metadata": {
        "colab": {
          "base_uri": "https://localhost:8080/"
        },
        "id": "EQpWTkRaGWG2",
        "outputId": "2a042534-d1d2-4787-9892-d4711bfb9535"
      },
      "execution_count": 54,
      "outputs": [
        {
          "output_type": "stream",
          "name": "stdout",
          "text": [
            "Epoch 1/25\n",
            "1407/1407 [==============================] - 7s 5ms/step - loss: 0.5201 - accuracy: 0.8163 - val_loss: 0.4050 - val_accuracy: 0.8545\n",
            "Epoch 2/25\n",
            "1407/1407 [==============================] - 6s 4ms/step - loss: 0.3899 - accuracy: 0.8607 - val_loss: 0.4071 - val_accuracy: 0.8519\n",
            "Epoch 3/25\n",
            "1407/1407 [==============================] - 6s 4ms/step - loss: 0.3508 - accuracy: 0.8718 - val_loss: 0.3683 - val_accuracy: 0.8671\n",
            "Epoch 4/25\n",
            "1407/1407 [==============================] - 6s 4ms/step - loss: 0.3268 - accuracy: 0.8799 - val_loss: 0.3531 - val_accuracy: 0.8732\n",
            "Epoch 5/25\n",
            "1407/1407 [==============================] - 6s 4ms/step - loss: 0.3044 - accuracy: 0.8884 - val_loss: 0.3796 - val_accuracy: 0.8632\n",
            "Epoch 6/25\n",
            "1407/1407 [==============================] - 6s 4ms/step - loss: 0.2875 - accuracy: 0.8927 - val_loss: 0.3252 - val_accuracy: 0.8832\n",
            "Epoch 7/25\n",
            "1407/1407 [==============================] - 7s 5ms/step - loss: 0.2735 - accuracy: 0.8996 - val_loss: 0.3566 - val_accuracy: 0.8761\n",
            "Epoch 8/25\n",
            "1407/1407 [==============================] - 6s 4ms/step - loss: 0.2635 - accuracy: 0.9013 - val_loss: 0.3304 - val_accuracy: 0.8828\n",
            "Epoch 9/25\n",
            "1407/1407 [==============================] - 6s 5ms/step - loss: 0.2526 - accuracy: 0.9062 - val_loss: 0.3228 - val_accuracy: 0.8851\n",
            "Epoch 10/25\n",
            "1407/1407 [==============================] - 6s 4ms/step - loss: 0.2428 - accuracy: 0.9099 - val_loss: 0.3401 - val_accuracy: 0.8820\n",
            "Epoch 11/25\n",
            "1407/1407 [==============================] - 5s 3ms/step - loss: 0.2336 - accuracy: 0.9133 - val_loss: 0.3410 - val_accuracy: 0.8811\n",
            "Epoch 12/25\n",
            "1407/1407 [==============================] - 4s 3ms/step - loss: 0.2276 - accuracy: 0.9161 - val_loss: 0.3256 - val_accuracy: 0.8887\n",
            "Epoch 13/25\n",
            "1407/1407 [==============================] - 4s 3ms/step - loss: 0.2197 - accuracy: 0.9169 - val_loss: 0.3281 - val_accuracy: 0.8884\n",
            "Epoch 14/25\n",
            "1407/1407 [==============================] - 4s 3ms/step - loss: 0.2102 - accuracy: 0.9209 - val_loss: 0.3347 - val_accuracy: 0.8855\n",
            "Epoch 15/25\n",
            "1407/1407 [==============================] - 5s 3ms/step - loss: 0.2036 - accuracy: 0.9227 - val_loss: 0.3373 - val_accuracy: 0.8875\n",
            "Epoch 16/25\n",
            "1407/1407 [==============================] - 4s 3ms/step - loss: 0.1963 - accuracy: 0.9268 - val_loss: 0.3207 - val_accuracy: 0.8941\n",
            "Epoch 17/25\n",
            "1407/1407 [==============================] - 5s 3ms/step - loss: 0.1935 - accuracy: 0.9280 - val_loss: 0.3279 - val_accuracy: 0.8900\n",
            "Epoch 18/25\n",
            "1407/1407 [==============================] - 5s 3ms/step - loss: 0.1871 - accuracy: 0.9298 - val_loss: 0.3214 - val_accuracy: 0.8938\n",
            "Epoch 19/25\n",
            "1407/1407 [==============================] - 4s 3ms/step - loss: 0.1807 - accuracy: 0.9319 - val_loss: 0.3433 - val_accuracy: 0.8893\n",
            "Epoch 20/25\n",
            "1407/1407 [==============================] - 5s 3ms/step - loss: 0.1758 - accuracy: 0.9344 - val_loss: 0.3376 - val_accuracy: 0.8911\n",
            "Epoch 21/25\n",
            "1407/1407 [==============================] - 5s 3ms/step - loss: 0.1718 - accuracy: 0.9352 - val_loss: 0.3419 - val_accuracy: 0.8951\n",
            "Epoch 22/25\n",
            "1407/1407 [==============================] - 5s 3ms/step - loss: 0.1662 - accuracy: 0.9381 - val_loss: 0.3431 - val_accuracy: 0.8920\n",
            "Epoch 23/25\n",
            "1407/1407 [==============================] - 4s 3ms/step - loss: 0.1630 - accuracy: 0.9394 - val_loss: 0.3717 - val_accuracy: 0.8890\n",
            "Epoch 24/25\n",
            "1407/1407 [==============================] - 4s 3ms/step - loss: 0.1600 - accuracy: 0.9402 - val_loss: 0.3711 - val_accuracy: 0.8882\n",
            "Epoch 25/25\n",
            "1407/1407 [==============================] - 4s 3ms/step - loss: 0.1526 - accuracy: 0.9431 - val_loss: 0.3632 - val_accuracy: 0.8931\n"
          ]
        }
      ]
    },
    {
      "cell_type": "code",
      "source": [
        "import matplotlib.pyplot as plt\n",
        "plt.figure(figsize=(12, 4))\n",
        "\n",
        "plt.subplot(1, 2, 1)\n",
        "plt.plot(history.history['loss'], 'b-', label='loss')\n",
        "plt.plot(history.history['val_loss'], 'r--', label='val_loss')\n",
        "plt.xlabel('Epoch')\n",
        "plt.legend()\n",
        "\n",
        "plt.subplot(1, 2, 2)\n",
        "plt.plot(history.history['accuracy'], 'g-', label='accuracy')\n",
        "plt.plot(history.history['val_accuracy'], 'k--', label='val_accuracy')\n",
        "plt.xlabel('Epoch')\n",
        "plt.ylim(0.7, 1)\n",
        "plt.legend()\n",
        "\n",
        "plt.show()"
      ],
      "metadata": {
        "colab": {
          "base_uri": "https://localhost:8080/",
          "height": 283
        },
        "id": "yYud0eVQHR6R",
        "outputId": "42405aea-d7a6-4d72-a74d-29a2b0c710a0"
      },
      "execution_count": 55,
      "outputs": [
        {
          "output_type": "display_data",
          "data": {
            "image/png": "[encoded data removed]",
            "text/plain": [
              "<Figure size 864x288 with 2 Axes>"
            ]
          },
          "metadata": {
            "needs_background": "light"
          }
        }
      ]
    },
    {
      "cell_type": "code",
      "source": [
        "model.evaluate(test_X, test_Y)"
      ],
      "metadata": {
        "colab": {
          "base_uri": "https://localhost:8080/"
        },
        "id": "DP6BfcXxIqQ5",
        "outputId": "eac27a06-02c9-4b52-dc10-7b587704afde"
      },
      "execution_count": 56,
      "outputs": [
        {
          "output_type": "stream",
          "name": "stdout",
          "text": [
            "313/313 [==============================] - 1s 3ms/step - loss: 0.4038 - accuracy: 0.8821\n"
          ]
        },
        {
          "output_type": "execute_result",
          "data": {
            "text/plain": [
              "[0.4038475453853607, 0.882099986076355]"
            ]
          },
          "metadata": {},
          "execution_count": 56
        }
      ]
    }
  ]
}