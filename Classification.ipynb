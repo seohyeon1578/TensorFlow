{
  "nbformat": 4,
  "nbformat_minor": 0,
  "metadata": {
    "colab": {
      "name": "Classification",
      "provenance": [],
      "toc_visible": true,
      "authorship_tag": "ABX9TyNiX5rqa52yWfIDxrhbgxdr",
      "include_colab_link": true
    },
    "kernelspec": {
      "name": "python3",
      "display_name": "Python 3"
    },
    "language_info": {
      "name": "python"
    },
    "accelerator": "GPU"
  },
  "cells": [
    {
      "cell_type": "markdown",
      "metadata": {
        "id": "view-in-github",
        "colab_type": "text"
      },
      "source": [
        "<a href=\"https://colab.research.google.com/github/seohyeon1578/TensorFlow/blob/main/Classification.ipynb\" target=\"_parent\"><img src=\"https://colab.research.google.com/assets/colab-badge.svg\" alt=\"Open In Colab\"/></a>"
      ]
    },
    {
      "cell_type": "code",
      "source": [
        "try:\n",
        "    # %tensorflow_version only exists in Colab.\n",
        "    %tensorflow_version 2.x\n",
        "except Exception:\n",
        "    pass"
      ],
      "metadata": {
        "id": "vE8PywBp6DoZ"
      },
      "execution_count": null,
      "outputs": []
    },
    {
      "cell_type": "markdown",
      "source": [
        "# 분류(Classification)"
      ],
      "metadata": {
        "id": "Q5gavuz81HRy"
      }
    },
    {
      "cell_type": "markdown",
      "source": [
        "잔차의 제곱의 합(SSE), 잔차의 제곱의 평균(MSE)"
      ],
      "metadata": {
        "id": "Ir3l-oPM2axK"
      }
    },
    {
      "cell_type": "markdown",
      "source": [
        "## 이항 분류(Binary Classification)"
      ],
      "metadata": {
        "id": "b_ehJ-4N3URU"
      }
    },
    {
      "cell_type": "code",
      "execution_count": null,
      "metadata": {
        "colab": {
          "base_uri": "https://localhost:8080/"
        },
        "id": "ZDWXyva71FrB",
        "outputId": "6d9f4bf8-2884-47db-bce5-885e6c70fe39"
      },
      "outputs": [
        {
          "output_type": "stream",
          "name": "stdout",
          "text": [
            "   fixed acidity  volatile acidity  citric acid  residual sugar  chlorides  \\\n",
            "0            7.4              0.70         0.00             1.9      0.076   \n",
            "1            7.8              0.88         0.00             2.6      0.098   \n",
            "2            7.8              0.76         0.04             2.3      0.092   \n",
            "3           11.2              0.28         0.56             1.9      0.075   \n",
            "4            7.4              0.70         0.00             1.9      0.076   \n",
            "\n",
            "   free sulfur dioxide  total sulfur dioxide  density    pH  sulphates  \\\n",
            "0                 11.0                  34.0   0.9978  3.51       0.56   \n",
            "1                 25.0                  67.0   0.9968  3.20       0.68   \n",
            "2                 15.0                  54.0   0.9970  3.26       0.65   \n",
            "3                 17.0                  60.0   0.9980  3.16       0.58   \n",
            "4                 11.0                  34.0   0.9978  3.51       0.56   \n",
            "\n",
            "   alcohol  quality  \n",
            "0      9.4        5  \n",
            "1      9.8        5  \n",
            "2      9.8        5  \n",
            "3      9.8        6  \n",
            "4      9.4        5  \n",
            "   fixed acidity  volatile acidity  citric acid  residual sugar  chlorides  \\\n",
            "0            7.0              0.27         0.36            20.7      0.045   \n",
            "1            6.3              0.30         0.34             1.6      0.049   \n",
            "2            8.1              0.28         0.40             6.9      0.050   \n",
            "3            7.2              0.23         0.32             8.5      0.058   \n",
            "4            7.2              0.23         0.32             8.5      0.058   \n",
            "\n",
            "   free sulfur dioxide  total sulfur dioxide  density    pH  sulphates  \\\n",
            "0                 45.0                 170.0   1.0010  3.00       0.45   \n",
            "1                 14.0                 132.0   0.9940  3.30       0.49   \n",
            "2                 30.0                  97.0   0.9951  3.26       0.44   \n",
            "3                 47.0                 186.0   0.9956  3.19       0.40   \n",
            "4                 47.0                 186.0   0.9956  3.19       0.40   \n",
            "\n",
            "   alcohol  quality  \n",
            "0      8.8        6  \n",
            "1      9.5        6  \n",
            "2     10.1        6  \n",
            "3      9.9        6  \n",
            "4      9.9        6  \n"
          ]
        }
      ],
      "source": [
        "# 와인 데이터셋 불러오기\n",
        "import pandas as pd                                    #pandas: 데이터 정제 및 분석을 위한 라이브러리\n",
        "red = pd.read_csv('http://archive.ics.uci.edu/ml/machine-learning-databases/wine-quality/winequality-red.csv', sep=';')       #레드 와인\n",
        "white = pd.read_csv('http://archive.ics.uci.edu/ml/machine-learning-databases/wine-quality/winequality-white.csv', sep=';')   #화이트 와인\n",
        "print(red.head())\n",
        "print(white.head())"
      ]
    },
    {
      "cell_type": "code",
      "source": [
        "# 와인 데이터셋 합치기\n",
        "red['type'] = 0\n",
        "white['type'] = 1\n",
        "print(red.head(2))\n",
        "print(white.head(2))\n",
        "\n",
        "wine = pd.concat([red, white]) #레드와인 화이트 와인 데이터셋 합치기\n",
        "print(wine.describe())"
      ],
      "metadata": {
        "colab": {
          "base_uri": "https://localhost:8080/"
        },
        "id": "W4PTdqLz5v4N",
        "outputId": "eb4c9f93-643f-4d19-ff3d-ed378d2f8640"
      },
      "execution_count": null,
      "outputs": [
        {
          "output_type": "stream",
          "name": "stdout",
          "text": [
            "   fixed acidity  volatile acidity  citric acid  residual sugar  chlorides  \\\n",
            "0            7.4              0.70          0.0             1.9      0.076   \n",
            "1            7.8              0.88          0.0             2.6      0.098   \n",
            "\n",
            "   free sulfur dioxide  total sulfur dioxide  density    pH  sulphates  \\\n",
            "0                 11.0                  34.0   0.9978  3.51       0.56   \n",
            "1                 25.0                  67.0   0.9968  3.20       0.68   \n",
            "\n",
            "   alcohol  quality  type  \n",
            "0      9.4        5     0  \n",
            "1      9.8        5     0  \n",
            "   fixed acidity  volatile acidity  citric acid  residual sugar  chlorides  \\\n",
            "0            7.0              0.27         0.36            20.7      0.045   \n",
            "1            6.3              0.30         0.34             1.6      0.049   \n",
            "\n",
            "   free sulfur dioxide  total sulfur dioxide  density   pH  sulphates  \\\n",
            "0                 45.0                 170.0    1.001  3.0       0.45   \n",
            "1                 14.0                 132.0    0.994  3.3       0.49   \n",
            "\n",
            "   alcohol  quality  type  \n",
            "0      8.8        6     1  \n",
            "1      9.5        6     1  \n",
            "       fixed acidity  volatile acidity  citric acid  residual sugar  \\\n",
            "count    6497.000000       6497.000000  6497.000000     6497.000000   \n",
            "mean        7.215307          0.339666     0.318633        5.443235   \n",
            "std         1.296434          0.164636     0.145318        4.757804   \n",
            "min         3.800000          0.080000     0.000000        0.600000   \n",
            "25%         6.400000          0.230000     0.250000        1.800000   \n",
            "50%         7.000000          0.290000     0.310000        3.000000   \n",
            "75%         7.700000          0.400000     0.390000        8.100000   \n",
            "max        15.900000          1.580000     1.660000       65.800000   \n",
            "\n",
            "         chlorides  free sulfur dioxide  total sulfur dioxide      density  \\\n",
            "count  6497.000000          6497.000000           6497.000000  6497.000000   \n",
            "mean      0.056034            30.525319            115.744574     0.994697   \n",
            "std       0.035034            17.749400             56.521855     0.002999   \n",
            "min       0.009000             1.000000              6.000000     0.987110   \n",
            "25%       0.038000            17.000000             77.000000     0.992340   \n",
            "50%       0.047000            29.000000            118.000000     0.994890   \n",
            "75%       0.065000            41.000000            156.000000     0.996990   \n",
            "max       0.611000           289.000000            440.000000     1.038980   \n",
            "\n",
            "                pH    sulphates      alcohol      quality         type  \n",
            "count  6497.000000  6497.000000  6497.000000  6497.000000  6497.000000  \n",
            "mean      3.218501     0.531268    10.491801     5.818378     0.753886  \n",
            "std       0.160787     0.148806     1.192712     0.873255     0.430779  \n",
            "min       2.720000     0.220000     8.000000     3.000000     0.000000  \n",
            "25%       3.110000     0.430000     9.500000     5.000000     1.000000  \n",
            "50%       3.210000     0.510000    10.300000     6.000000     1.000000  \n",
            "75%       3.320000     0.600000    11.300000     6.000000     1.000000  \n",
            "max       4.010000     2.000000    14.900000     9.000000     1.000000  \n"
          ]
        }
      ]
    },
    {
      "cell_type": "code",
      "source": [
        "# 레드 와인과 화이트 와인 type 히스토그램\n",
        "import matplotlib.pyplot as plt\n",
        "plt.hist(wine['type'])\n",
        "plt.xticks([0, 1])\n",
        "plt.show()\n",
        "\n",
        "print(wine['type'].value_counts())"
      ],
      "metadata": {
        "colab": {
          "base_uri": "https://localhost:8080/",
          "height": 320
        },
        "id": "jYGBN7Rq68_p",
        "outputId": "3018530e-a12b-4bed-ee11-73af02784f90"
      },
      "execution_count": null,
      "outputs": [
        {
          "output_type": "display_data",
          "data": {
            "image/png": "[encoded data removed]",
            "text/plain": [
              "<Figure size 432x288 with 1 Axes>"
            ]
          },
          "metadata": {
            "needs_background": "light"
          }
        },
        {
          "output_type": "stream",
          "name": "stdout",
          "text": [
            "1    4898\n",
            "0    1599\n",
            "Name: type, dtype: int64\n"
          ]
        }
      ]
    },
    {
      "cell_type": "code",
      "source": [
        "# 데이터 요약 정보 확인\n",
        "print(wine.info())       # 데이터의 파악을 도와주는 함수"
      ],
      "metadata": {
        "colab": {
          "base_uri": "https://localhost:8080/"
        },
        "id": "_ZYt9Pyu8Bal",
        "outputId": "ebaf7b66-3d00-4dd9-87f2-f29eb5b33df8"
      },
      "execution_count": null,
      "outputs": [
        {
          "output_type": "stream",
          "name": "stdout",
          "text": [
            "<class 'pandas.core.frame.DataFrame'>\n",
            "Int64Index: 6497 entries, 0 to 4897\n",
            "Data columns (total 13 columns):\n",
            " #   Column                Non-Null Count  Dtype  \n",
            "---  ------                --------------  -----  \n",
            " 0   fixed acidity         6497 non-null   float64\n",
            " 1   volatile acidity      6497 non-null   float64\n",
            " 2   citric acid           6497 non-null   float64\n",
            " 3   residual sugar        6497 non-null   float64\n",
            " 4   chlorides             6497 non-null   float64\n",
            " 5   free sulfur dioxide   6497 non-null   float64\n",
            " 6   total sulfur dioxide  6497 non-null   float64\n",
            " 7   density               6497 non-null   float64\n",
            " 8   pH                    6497 non-null   float64\n",
            " 9   sulphates             6497 non-null   float64\n",
            " 10  alcohol               6497 non-null   float64\n",
            " 11  quality               6497 non-null   int64  \n",
            " 12  type                  6497 non-null   int64  \n",
            "dtypes: float64(11), int64(2)\n",
            "memory usage: 710.6 KB\n",
            "None\n"
          ]
        }
      ]
    },
    {
      "cell_type": "markdown",
      "source": [
        "출력된 13개의 속성 모두 non-null로 표시되어 null인 값은 하나도 들어있지 않다. 또한 11개는 float64, 2개는 int64로 모두 숫자 값이기 떄문에 안전하게 정규화 가능"
      ],
      "metadata": {
        "id": "U6RYl6zR8m-Z"
      }
    },
    {
      "cell_type": "code",
      "source": [
        "# 데이터 정규화\n",
        "wine_norm = (wine - wine.min()) / (wine.max() - wine.min())\n",
        "print(wine_norm.head())\n",
        "print(wine_norm.describe())"
      ],
      "metadata": {
        "colab": {
          "base_uri": "https://localhost:8080/"
        },
        "id": "VPjMnmv_8mZ3",
        "outputId": "16bba06e-9bd1-45af-eb68-150922a6dc04"
      },
      "execution_count": null,
      "outputs": [
        {
          "output_type": "stream",
          "name": "stdout",
          "text": [
            "   fixed acidity  volatile acidity  citric acid  residual sugar  chlorides  \\\n",
            "0       0.297521          0.413333     0.000000        0.019939   0.111296   \n",
            "1       0.330579          0.533333     0.000000        0.030675   0.147841   \n",
            "2       0.330579          0.453333     0.024096        0.026074   0.137874   \n",
            "3       0.611570          0.133333     0.337349        0.019939   0.109635   \n",
            "4       0.297521          0.413333     0.000000        0.019939   0.111296   \n",
            "\n",
            "   free sulfur dioxide  total sulfur dioxide   density        pH  sulphates  \\\n",
            "0             0.034722              0.064516  0.206092  0.612403   0.191011   \n",
            "1             0.083333              0.140553  0.186813  0.372093   0.258427   \n",
            "2             0.048611              0.110599  0.190669  0.418605   0.241573   \n",
            "3             0.055556              0.124424  0.209948  0.341085   0.202247   \n",
            "4             0.034722              0.064516  0.206092  0.612403   0.191011   \n",
            "\n",
            "    alcohol   quality  type  \n",
            "0  0.202899  0.333333   0.0  \n",
            "1  0.260870  0.333333   0.0  \n",
            "2  0.260870  0.333333   0.0  \n",
            "3  0.260870  0.500000   0.0  \n",
            "4  0.202899  0.333333   0.0  \n",
            "       fixed acidity  volatile acidity  citric acid  residual sugar  \\\n",
            "count    6497.000000       6497.000000  6497.000000     6497.000000   \n",
            "mean        0.282257          0.173111     0.191948        0.074283   \n",
            "std         0.107143          0.109758     0.087541        0.072972   \n",
            "min         0.000000          0.000000     0.000000        0.000000   \n",
            "25%         0.214876          0.100000     0.150602        0.018405   \n",
            "50%         0.264463          0.140000     0.186747        0.036810   \n",
            "75%         0.322314          0.213333     0.234940        0.115031   \n",
            "max         1.000000          1.000000     1.000000        1.000000   \n",
            "\n",
            "         chlorides  free sulfur dioxide  total sulfur dioxide      density  \\\n",
            "count  6497.000000          6497.000000           6497.000000  6497.000000   \n",
            "mean      0.078129             0.102518              0.252868     0.146262   \n",
            "std       0.058195             0.061630              0.130235     0.057811   \n",
            "min       0.000000             0.000000              0.000000     0.000000   \n",
            "25%       0.048173             0.055556              0.163594     0.100829   \n",
            "50%       0.063123             0.097222              0.258065     0.149990   \n",
            "75%       0.093023             0.138889              0.345622     0.190476   \n",
            "max       1.000000             1.000000              1.000000     1.000000   \n",
            "\n",
            "                pH    sulphates      alcohol      quality         type  \n",
            "count  6497.000000  6497.000000  6497.000000  6497.000000  6497.000000  \n",
            "mean      0.386435     0.174870     0.361131     0.469730     0.753886  \n",
            "std       0.124641     0.083599     0.172857     0.145543     0.430779  \n",
            "min       0.000000     0.000000     0.000000     0.000000     0.000000  \n",
            "25%       0.302326     0.117978     0.217391     0.333333     1.000000  \n",
            "50%       0.379845     0.162921     0.333333     0.500000     1.000000  \n",
            "75%       0.465116     0.213483     0.478261     0.500000     1.000000  \n",
            "max       1.000000     1.000000     1.000000     1.000000     1.000000  \n"
          ]
        }
      ]
    },
    {
      "cell_type": "code",
      "source": [
        "# 데이터 섞은 후 numpy array로 변환\n",
        "import numpy as np\n",
        "wine_shuffle = wine_norm.sample(frac=1)               #frac=1 은 100%로 모든 데이터를 뽑아서 섞는 것과 동일한 효과\n",
        "print(wine_shuffle.head())\n",
        "wine_np = wine_shuffle.to_numpy()                     #to_numpy(): 데이터프레임을 넘파이 array로 변환\n",
        "print(wine_np[:5])"
      ],
      "metadata": {
        "colab": {
          "base_uri": "https://localhost:8080/"
        },
        "id": "JfWW6l4r9hn0",
        "outputId": "b4df8e40-d446-46ca-fff4-f0c999e9b987"
      },
      "execution_count": null,
      "outputs": [
        {
          "output_type": "stream",
          "name": "stdout",
          "text": [
            "      fixed acidity  volatile acidity  citric acid  residual sugar  chlorides  \\\n",
            "3394       0.223140          0.113333     0.271084        0.110429   0.064784   \n",
            "3359       0.223140          0.233333     0.168675        0.163344   0.038206   \n",
            "1747       0.371901          0.146667     0.216867        0.144172   0.054817   \n",
            "768        0.239669          0.020000     0.204819        0.125767   0.056478   \n",
            "2499       0.256198          0.120000     0.186747        0.098160   0.049834   \n",
            "\n",
            "      free sulfur dioxide  total sulfur dioxide   density        pH  \\\n",
            "3394             0.177083              0.419355  0.166763  0.372093   \n",
            "3359             0.104167              0.186636  0.098130  0.232558   \n",
            "1747             0.111111              0.375576  0.213804  0.395349   \n",
            "768              0.138889              0.246544  0.175246  0.542636   \n",
            "2499             0.125000              0.389401  0.128205  0.465116   \n",
            "\n",
            "      sulphates   alcohol   quality  type  \n",
            "3394   0.174157  0.159420  0.333333   1.0  \n",
            "3359   0.089888  0.637681  0.500000   1.0  \n",
            "1747   0.162921  0.188406  0.500000   1.0  \n",
            "768    0.101124  0.188406  0.666667   1.0  \n",
            "2499   0.151685  0.492754  0.500000   1.0  \n",
            "[[0.2231405  0.11333333 0.27108434 0.11042945 0.06478405 0.17708333\n",
            "  0.41935484 0.16676306 0.37209302 0.1741573  0.15942029 0.33333333\n",
            "  1.        ]\n",
            " [0.2231405  0.23333333 0.1686747  0.16334356 0.03820598 0.10416667\n",
            "  0.18663594 0.09812994 0.23255814 0.08988764 0.63768116 0.5\n",
            "  1.        ]\n",
            " [0.37190083 0.14666667 0.21686747 0.14417178 0.05481728 0.11111111\n",
            "  0.37557604 0.21380374 0.39534884 0.16292135 0.1884058  0.5\n",
            "  1.        ]\n",
            " [0.23966942 0.02       0.20481928 0.12576687 0.05647841 0.13888889\n",
            "  0.24654378 0.17524581 0.54263566 0.1011236  0.1884058  0.66666667\n",
            "  1.        ]\n",
            " [0.25619835 0.12       0.18674699 0.09815951 0.04983389 0.125\n",
            "  0.38940092 0.12820513 0.46511628 0.15168539 0.49275362 0.5\n",
            "  1.        ]]\n"
          ]
        }
      ]
    },
    {
      "cell_type": "code",
      "source": [
        "# train 데이터와 test 데이터로 분리\n",
        "import tensorflow as tf\n",
        "train_idx = int(len(wine_np) * 0.8)                                        # wine_np의 수의 80%에 해당하는 인덱스를 int값으로 저장\n",
        "train_X, train_Y = wine_np[:train_idx, :-1], wine_np[:train_idx, -1]\n",
        "test_X, test_Y = wine_np[train_idx:, :-1], wine_np[train_idx:, -1]\n",
        "print(train_X[0])\n",
        "print(train_Y[0])\n",
        "print(test_X[0])\n",
        "print(test_Y[0])\n",
        "train_Y = tf.keras.utils.to_categorical(train_Y, num_classes=2)                 #원-핫인코딩(One-Hot Encoding)방식으로 바꿈\n",
        "test_Y = tf.keras.utils.to_categorical(test_Y, num_classes=2)\n",
        "print(train_Y[0])\n",
        "print(test_Y[0])"
      ],
      "metadata": {
        "colab": {
          "base_uri": "https://localhost:8080/"
        },
        "id": "aTAZbsGW_YQO",
        "outputId": "5e3da411-6ca4-43b3-e0c4-52eae87bac21"
      },
      "execution_count": null,
      "outputs": [
        {
          "output_type": "stream",
          "name": "stdout",
          "text": [
            "[0.2231405  0.11333333 0.27108434 0.11042945 0.06478405 0.17708333\n",
            " 0.41935484 0.16676306 0.37209302 0.1741573  0.15942029 0.33333333]\n",
            "1.0\n",
            "[0.39669421 0.37666667 0.15060241 0.02147239 0.12292359 0.02430556\n",
            " 0.05069124 0.21283979 0.43410853 0.21348315 0.28985507 0.5       ]\n",
            "0.0\n",
            "[0. 1.]\n",
            "[1. 0.]\n"
          ]
        }
      ]
    },
    {
      "cell_type": "code",
      "source": [
        "#와인 데이터셋 분류 모델 생성\n",
        "import tensorflow as tf\n",
        "model = tf.keras.Sequential([\n",
        "    tf.keras.layers.Dense(units=48, activation='relu', input_shape=(12,)),\n",
        "    tf.keras.layers.Dense(units=24, activation='relu'),\n",
        "    tf.keras.layers.Dense(units=12, activation='relu'),\n",
        "    tf.keras.layers.Dense(units=2, activation='softmax')\n",
        "])\n",
        "\n",
        "model.compile(optimizer=tf.keras.optimizers.Adam(lr=0.07), loss='categorical_crossentropy', metrics=['accuracy'])\n",
        "\n",
        "model.summary()"
      ],
      "metadata": {
        "colab": {
          "base_uri": "https://localhost:8080/"
        },
        "id": "KiS9H7ZPk6K6",
        "outputId": "e67ce905-69cb-4a42-dc66-352dbbf79a2b"
      },
      "execution_count": null,
      "outputs": [
        {
          "output_type": "stream",
          "name": "stdout",
          "text": [
            "Model: \"sequential_4\"\n",
            "_________________________________________________________________\n",
            " Layer (type)                Output Shape              Param #   \n",
            "=================================================================\n",
            " dense_16 (Dense)            (None, 48)                624       \n",
            "                                                                 \n",
            " dense_17 (Dense)            (None, 24)                1176      \n",
            "                                                                 \n",
            " dense_18 (Dense)            (None, 12)                300       \n",
            "                                                                 \n",
            " dense_19 (Dense)            (None, 2)                 26        \n",
            "                                                                 \n",
            "=================================================================\n",
            "Total params: 2,126\n",
            "Trainable params: 2,126\n",
            "Non-trainable params: 0\n",
            "_________________________________________________________________\n"
          ]
        },
        {
          "output_type": "stream",
          "name": "stderr",
          "text": [
            "/usr/local/lib/python3.7/dist-packages/keras/optimizer_v2/adam.py:105: UserWarning: The `lr` argument is deprecated, use `learning_rate` instead.\n",
            "  super(Adam, self).__init__(name, **kwargs)\n"
          ]
        }
      ]
    },
    {
      "cell_type": "markdown",
      "source": [
        "softmax는 분류 문제나 언어 RNN에서의 다음 토큰 예측, 강화학습에서 에이전트의 행동 확률을 구하는 등 결괏값으로 확률이 필요한 다양한 분야에서 쓰임"
      ],
      "metadata": {
        "id": "044-liTZuxqj"
      }
    },
    {
      "cell_type": "code",
      "source": [
        "import matplotlib.pyplot as plt\n",
        "import math\n",
        "import numpy as np\n",
        "x = np.arange(-2, 2, 0.01)\n",
        "e_x = math.e ** x\n",
        "\n",
        "plt.axhline(0, color='gray')\n",
        "plt.axvline(0, color='gray')\n",
        "plt.plot(x, x, 'b-', label='y=x')\n",
        "plt.plot(x, e_x, 'g.', label='y=e^x')\n",
        "plt.xlabel('X')\n",
        "plt.ylabel('Y')\n",
        "plt.legend()\n",
        "plt.show()"
      ],
      "metadata": {
        "colab": {
          "base_uri": "https://localhost:8080/",
          "height": 279
        },
        "id": "0wTzKjqSuWxB",
        "outputId": "df42d5d7-718b-4f32-aa37-6cd651175183"
      },
      "execution_count": null,
      "outputs": [
        {
          "output_type": "display_data",
          "data": {
            "image/png": "[encoded data removed]",
            "text/plain": [
              "<Figure size 432x288 with 1 Axes>"
            ]
          },
          "metadata": {
            "needs_background": "light"
          }
        }
      ]
    },
    {
      "cell_type": "code",
      "source": [
        "# 모델 학습\n",
        "history = model.fit(train_X, train_Y, epochs=25, batch_size=32, validation_split=0.25)"
      ],
      "metadata": {
        "colab": {
          "base_uri": "https://localhost:8080/"
        },
        "id": "Hqh_rf-AvuOs",
        "outputId": "552cd26d-eca8-466a-d941-6a625378d903"
      },
      "execution_count": null,
      "outputs": [
        {
          "output_type": "stream",
          "name": "stdout",
          "text": [
            "Epoch 1/25\n",
            "122/122 [==============================] - 1s 5ms/step - loss: 0.0315 - accuracy: 0.9928 - val_loss: 0.0396 - val_accuracy: 0.9931\n",
            "Epoch 2/25\n",
            "122/122 [==============================] - 1s 5ms/step - loss: 0.0301 - accuracy: 0.9918 - val_loss: 0.0310 - val_accuracy: 0.9931\n",
            "Epoch 3/25\n",
            "122/122 [==============================] - 1s 6ms/step - loss: 0.0307 - accuracy: 0.9920 - val_loss: 0.0329 - val_accuracy: 0.9900\n",
            "Epoch 4/25\n",
            "122/122 [==============================] - 1s 5ms/step - loss: 0.0342 - accuracy: 0.9920 - val_loss: 0.0292 - val_accuracy: 0.9908\n",
            "Epoch 5/25\n",
            "122/122 [==============================] - 1s 5ms/step - loss: 0.0280 - accuracy: 0.9923 - val_loss: 0.0609 - val_accuracy: 0.9877\n",
            "Epoch 6/25\n",
            "122/122 [==============================] - 1s 5ms/step - loss: 0.0299 - accuracy: 0.9920 - val_loss: 0.0466 - val_accuracy: 0.9923\n",
            "Epoch 7/25\n",
            "122/122 [==============================] - 1s 5ms/step - loss: 0.0379 - accuracy: 0.9908 - val_loss: 0.0242 - val_accuracy: 0.9908\n",
            "Epoch 8/25\n",
            "122/122 [==============================] - 1s 5ms/step - loss: 0.0320 - accuracy: 0.9920 - val_loss: 0.0355 - val_accuracy: 0.9938\n",
            "Epoch 9/25\n",
            "122/122 [==============================] - 1s 5ms/step - loss: 0.0288 - accuracy: 0.9923 - val_loss: 0.0351 - val_accuracy: 0.9938\n",
            "Epoch 10/25\n",
            "122/122 [==============================] - 1s 5ms/step - loss: 0.0300 - accuracy: 0.9926 - val_loss: 0.0380 - val_accuracy: 0.9938\n",
            "Epoch 11/25\n",
            "122/122 [==============================] - 1s 5ms/step - loss: 0.0260 - accuracy: 0.9941 - val_loss: 0.0369 - val_accuracy: 0.9931\n",
            "Epoch 12/25\n",
            "122/122 [==============================] - 1s 5ms/step - loss: 0.0257 - accuracy: 0.9941 - val_loss: 0.0363 - val_accuracy: 0.9938\n",
            "Epoch 13/25\n",
            "122/122 [==============================] - 1s 5ms/step - loss: 0.0325 - accuracy: 0.9913 - val_loss: 0.0628 - val_accuracy: 0.9900\n",
            "Epoch 14/25\n",
            "122/122 [==============================] - 1s 5ms/step - loss: 0.0297 - accuracy: 0.9931 - val_loss: 0.0234 - val_accuracy: 0.9923\n",
            "Epoch 15/25\n",
            "122/122 [==============================] - 1s 5ms/step - loss: 0.0276 - accuracy: 0.9933 - val_loss: 0.0254 - val_accuracy: 0.9915\n",
            "Epoch 16/25\n",
            "122/122 [==============================] - 1s 5ms/step - loss: 0.0303 - accuracy: 0.9928 - val_loss: 0.0361 - val_accuracy: 0.9931\n",
            "Epoch 17/25\n",
            "122/122 [==============================] - 1s 5ms/step - loss: 0.0284 - accuracy: 0.9928 - val_loss: 0.0366 - val_accuracy: 0.9938\n",
            "Epoch 18/25\n",
            "122/122 [==============================] - 1s 5ms/step - loss: 0.0273 - accuracy: 0.9933 - val_loss: 0.0289 - val_accuracy: 0.9938\n",
            "Epoch 19/25\n",
            "122/122 [==============================] - 1s 5ms/step - loss: 0.0268 - accuracy: 0.9931 - val_loss: 0.0312 - val_accuracy: 0.9915\n",
            "Epoch 20/25\n",
            "122/122 [==============================] - 1s 5ms/step - loss: 0.0246 - accuracy: 0.9936 - val_loss: 0.0485 - val_accuracy: 0.9938\n",
            "Epoch 21/25\n",
            "122/122 [==============================] - 1s 5ms/step - loss: 0.0294 - accuracy: 0.9944 - val_loss: 0.0206 - val_accuracy: 0.9946\n",
            "Epoch 22/25\n",
            "122/122 [==============================] - 1s 5ms/step - loss: 0.0266 - accuracy: 0.9946 - val_loss: 0.0270 - val_accuracy: 0.9931\n",
            "Epoch 23/25\n",
            "122/122 [==============================] - 1s 5ms/step - loss: 0.0264 - accuracy: 0.9926 - val_loss: 0.0242 - val_accuracy: 0.9915\n",
            "Epoch 24/25\n",
            "122/122 [==============================] - 1s 5ms/step - loss: 0.0335 - accuracy: 0.9923 - val_loss: 0.0263 - val_accuracy: 0.9931\n",
            "Epoch 25/25\n",
            "122/122 [==============================] - 1s 5ms/step - loss: 0.0219 - accuracy: 0.9954 - val_loss: 0.0350 - val_accuracy: 0.9946\n"
          ]
        }
      ]
    },
    {
      "cell_type": "code",
      "source": [
        "# 분류 모델 학습 결과 시각화\n",
        "import matplotlib.pyplot as plt\n",
        "plt.figure(figsize=(12, 4))\n",
        "\n",
        "plt.subplot(1, 2, 1)\n",
        "plt.plot(history.history['loss'], 'b-', label='loss')\n",
        "plt.plot(history.history['val_loss'], 'r--', label='val_loss')\n",
        "plt.xlabel('Epoch')\n",
        "plt.legend()\n",
        "\n",
        "plt.subplot(1, 2, 2)\n",
        "plt.plot(history.history['accuracy'], 'g-', label='accuracy')\n",
        "plt.plot(history.history['val_accuracy'], 'k--', label='val_accuracy')\n",
        "plt.xlabel('Epoch')\n",
        "plt.ylim(0.7, 1)\n",
        "plt.legend()\n",
        "\n",
        "plt.show()"
      ],
      "metadata": {
        "colab": {
          "base_uri": "https://localhost:8080/",
          "height": 283
        },
        "id": "4mPMoZO4z_wI",
        "outputId": "bdd02778-1451-469d-b8a9-b412031ac663"
      },
      "execution_count": null,
      "outputs": [
        {
          "output_type": "display_data",
          "data": {
            "image/png": "[encoded data removed]",
            "text/plain": [
              "<Figure size 864x288 with 2 Axes>"
            ]
          },
          "metadata": {
            "needs_background": "light"
          }
        }
      ]
    },
    {
      "cell_type": "code",
      "source": [
        "# 분류 모델 평가\n",
        "model.evaluate(test_X, test_Y)"
      ],
      "metadata": {
        "colab": {
          "base_uri": "https://localhost:8080/"
        },
        "id": "l6CFlvOI1JeE",
        "outputId": "19b2d230-9a88-43bd-acba-9bb400e1851b"
      },
      "execution_count": null,
      "outputs": [
        {
          "output_type": "stream",
          "name": "stdout",
          "text": [
            "41/41 [==============================] - 0s 3ms/step - loss: 0.0451 - accuracy: 0.9892\n"
          ]
        },
        {
          "output_type": "execute_result",
          "data": {
            "text/plain": [
              "[0.045128703117370605, 0.989230751991272]"
            ]
          },
          "metadata": {},
          "execution_count": 88
        }
      ]
    },
    {
      "cell_type": "markdown",
      "source": [
        "## 다항 분류"
      ],
      "metadata": {
        "id": "7t7jcaNl1SW6"
      }
    }
  ]
}