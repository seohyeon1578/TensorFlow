{
  "nbformat": 4,
  "nbformat_minor": 0,
  "metadata": {
    "colab": {
      "name": "Classification",
      "provenance": [],
      "toc_visible": true,
      "authorship_tag": "ABX9TyMTiDU+YeDjIzFvCJQY54Cr",
      "include_colab_link": true
    },
    "kernelspec": {
      "name": "python3",
      "display_name": "Python 3"
    },
    "language_info": {
      "name": "python"
    }
  },
  "cells": [
    {
      "cell_type": "markdown",
      "metadata": {
        "id": "view-in-github",
        "colab_type": "text"
      },
      "source": [
        "<a href=\"https://colab.research.google.com/github/seohyeon1578/TensorFlow/blob/main/Classification.ipynb\" target=\"_parent\"><img src=\"https://colab.research.google.com/assets/colab-badge.svg\" alt=\"Open In Colab\"/></a>"
      ]
    },
    {
      "cell_type": "code",
      "source": [
        "try:\n",
        "    # %tensorflow_version only exists in Colab.\n",
        "    %tensorflow_version 2.x\n",
        "except Exception:\n",
        "    pass"
      ],
      "metadata": {
        "id": "vE8PywBp6DoZ"
      },
      "execution_count": null,
      "outputs": []
    },
    {
      "cell_type": "markdown",
      "source": [
        "# 분류(Classification)"
      ],
      "metadata": {
        "id": "Q5gavuz81HRy"
      }
    },
    {
      "cell_type": "markdown",
      "source": [
        "잔차의 제곱의 합(SSE), 잔차의 제곱의 평균(MSE)"
      ],
      "metadata": {
        "id": "Ir3l-oPM2axK"
      }
    },
    {
      "cell_type": "markdown",
      "source": [
        "## 이항 분류(Binary Classification)"
      ],
      "metadata": {
        "id": "b_ehJ-4N3URU"
      }
    },
    {
      "cell_type": "code",
      "execution_count": null,
      "metadata": {
        "colab": {
          "base_uri": "https://localhost:8080/"
        },
        "id": "ZDWXyva71FrB",
        "outputId": "eaa4ec5d-2094-44ec-a9cd-e04874047fd1"
      },
      "outputs": [
        {
          "output_type": "stream",
          "name": "stdout",
          "text": [
            "   fixed acidity  volatile acidity  citric acid  residual sugar  chlorides  \\\n",
            "0            7.4              0.70         0.00             1.9      0.076   \n",
            "1            7.8              0.88         0.00             2.6      0.098   \n",
            "2            7.8              0.76         0.04             2.3      0.092   \n",
            "3           11.2              0.28         0.56             1.9      0.075   \n",
            "4            7.4              0.70         0.00             1.9      0.076   \n",
            "\n",
            "   free sulfur dioxide  total sulfur dioxide  density    pH  sulphates  \\\n",
            "0                 11.0                  34.0   0.9978  3.51       0.56   \n",
            "1                 25.0                  67.0   0.9968  3.20       0.68   \n",
            "2                 15.0                  54.0   0.9970  3.26       0.65   \n",
            "3                 17.0                  60.0   0.9980  3.16       0.58   \n",
            "4                 11.0                  34.0   0.9978  3.51       0.56   \n",
            "\n",
            "   alcohol  quality  \n",
            "0      9.4        5  \n",
            "1      9.8        5  \n",
            "2      9.8        5  \n",
            "3      9.8        6  \n",
            "4      9.4        5  \n",
            "   fixed acidity  volatile acidity  citric acid  residual sugar  chlorides  \\\n",
            "0            7.0              0.27         0.36            20.7      0.045   \n",
            "1            6.3              0.30         0.34             1.6      0.049   \n",
            "2            8.1              0.28         0.40             6.9      0.050   \n",
            "3            7.2              0.23         0.32             8.5      0.058   \n",
            "4            7.2              0.23         0.32             8.5      0.058   \n",
            "\n",
            "   free sulfur dioxide  total sulfur dioxide  density    pH  sulphates  \\\n",
            "0                 45.0                 170.0   1.0010  3.00       0.45   \n",
            "1                 14.0                 132.0   0.9940  3.30       0.49   \n",
            "2                 30.0                  97.0   0.9951  3.26       0.44   \n",
            "3                 47.0                 186.0   0.9956  3.19       0.40   \n",
            "4                 47.0                 186.0   0.9956  3.19       0.40   \n",
            "\n",
            "   alcohol  quality  \n",
            "0      8.8        6  \n",
            "1      9.5        6  \n",
            "2     10.1        6  \n",
            "3      9.9        6  \n",
            "4      9.9        6  \n"
          ]
        }
      ],
      "source": [
        "# 와인 데이터셋 불러오기\n",
        "import pandas as pd                                    #pandas: 데이터 정제 및 분석을 위한 라이브러리\n",
        "red = pd.read_csv('http://archive.ics.uci.edu/ml/machine-learning-databases/wine-quality/winequality-red.csv', sep=';')       #레드 와인\n",
        "white = pd.read_csv('http://archive.ics.uci.edu/ml/machine-learning-databases/wine-quality/winequality-white.csv', sep=';')   #화이트 와인\n",
        "print(red.head())\n",
        "print(white.head())"
      ]
    },
    {
      "cell_type": "code",
      "source": [
        "# 와인 데이터셋 합치기\n",
        "red['type'] = 0\n",
        "white['type'] = 1\n",
        "print(red.head(2))\n",
        "print(white.head(2))\n",
        "\n",
        "wine = pd.concat([red, white]) #레드와인 화이트 와인 데이터셋 합치기\n",
        "print(wine.describe())"
      ],
      "metadata": {
        "colab": {
          "base_uri": "https://localhost:8080/"
        },
        "id": "W4PTdqLz5v4N",
        "outputId": "ea7a6bce-9c77-460b-b0f9-245977bc9543"
      },
      "execution_count": null,
      "outputs": [
        {
          "output_type": "stream",
          "name": "stdout",
          "text": [
            "   fixed acidity  volatile acidity  citric acid  residual sugar  chlorides  \\\n",
            "0            7.4              0.70          0.0             1.9      0.076   \n",
            "1            7.8              0.88          0.0             2.6      0.098   \n",
            "\n",
            "   free sulfur dioxide  total sulfur dioxide  density    pH  sulphates  \\\n",
            "0                 11.0                  34.0   0.9978  3.51       0.56   \n",
            "1                 25.0                  67.0   0.9968  3.20       0.68   \n",
            "\n",
            "   alcohol  quality  type  \n",
            "0      9.4        5     0  \n",
            "1      9.8        5     0  \n",
            "   fixed acidity  volatile acidity  citric acid  residual sugar  chlorides  \\\n",
            "0            7.0              0.27         0.36            20.7      0.045   \n",
            "1            6.3              0.30         0.34             1.6      0.049   \n",
            "\n",
            "   free sulfur dioxide  total sulfur dioxide  density   pH  sulphates  \\\n",
            "0                 45.0                 170.0    1.001  3.0       0.45   \n",
            "1                 14.0                 132.0    0.994  3.3       0.49   \n",
            "\n",
            "   alcohol  quality  type  \n",
            "0      8.8        6     1  \n",
            "1      9.5        6     1  \n",
            "       fixed acidity  volatile acidity  citric acid  residual sugar  \\\n",
            "count    6497.000000       6497.000000  6497.000000     6497.000000   \n",
            "mean        7.215307          0.339666     0.318633        5.443235   \n",
            "std         1.296434          0.164636     0.145318        4.757804   \n",
            "min         3.800000          0.080000     0.000000        0.600000   \n",
            "25%         6.400000          0.230000     0.250000        1.800000   \n",
            "50%         7.000000          0.290000     0.310000        3.000000   \n",
            "75%         7.700000          0.400000     0.390000        8.100000   \n",
            "max        15.900000          1.580000     1.660000       65.800000   \n",
            "\n",
            "         chlorides  free sulfur dioxide  total sulfur dioxide      density  \\\n",
            "count  6497.000000          6497.000000           6497.000000  6497.000000   \n",
            "mean      0.056034            30.525319            115.744574     0.994697   \n",
            "std       0.035034            17.749400             56.521855     0.002999   \n",
            "min       0.009000             1.000000              6.000000     0.987110   \n",
            "25%       0.038000            17.000000             77.000000     0.992340   \n",
            "50%       0.047000            29.000000            118.000000     0.994890   \n",
            "75%       0.065000            41.000000            156.000000     0.996990   \n",
            "max       0.611000           289.000000            440.000000     1.038980   \n",
            "\n",
            "                pH    sulphates      alcohol      quality         type  \n",
            "count  6497.000000  6497.000000  6497.000000  6497.000000  6497.000000  \n",
            "mean      3.218501     0.531268    10.491801     5.818378     0.753886  \n",
            "std       0.160787     0.148806     1.192712     0.873255     0.430779  \n",
            "min       2.720000     0.220000     8.000000     3.000000     0.000000  \n",
            "25%       3.110000     0.430000     9.500000     5.000000     1.000000  \n",
            "50%       3.210000     0.510000    10.300000     6.000000     1.000000  \n",
            "75%       3.320000     0.600000    11.300000     6.000000     1.000000  \n",
            "max       4.010000     2.000000    14.900000     9.000000     1.000000  \n"
          ]
        }
      ]
    },
    {
      "cell_type": "code",
      "source": [
        "# 레드 와인과 화이트 와인 type 히스토그램\n",
        "import matplotlib.pyplot as plt\n",
        "plt.hist(wine['type'])\n",
        "plt.xticks([0, 1])\n",
        "plt.show()\n",
        "\n",
        "print(wine['type'].value_counts())"
      ],
      "metadata": {
        "colab": {
          "base_uri": "https://localhost:8080/",
          "height": 320
        },
        "id": "jYGBN7Rq68_p",
        "outputId": "a670364b-232f-4706-8a2a-9680331146ba"
      },
      "execution_count": null,
      "outputs": [
        {
          "output_type": "display_data",
          "data": {
            "image/png": "[encoded data removed]",
            "text/plain": [
              "<Figure size 432x288 with 1 Axes>"
            ]
          },
          "metadata": {
            "needs_background": "light"
          }
        },
        {
          "output_type": "stream",
          "name": "stdout",
          "text": [
            "1    4898\n",
            "0    1599\n",
            "Name: type, dtype: int64\n"
          ]
        }
      ]
    },
    {
      "cell_type": "code",
      "source": [
        "# 데이터 요약 정보 확인\n",
        "print(wine.info())       # 데이터의 파악을 도와주는 함수"
      ],
      "metadata": {
        "colab": {
          "base_uri": "https://localhost:8080/"
        },
        "id": "_ZYt9Pyu8Bal",
        "outputId": "ca116a7b-15f7-4994-d245-737b68ad3dea"
      },
      "execution_count": null,
      "outputs": [
        {
          "output_type": "stream",
          "name": "stdout",
          "text": [
            "<class 'pandas.core.frame.DataFrame'>\n",
            "Int64Index: 6497 entries, 0 to 4897\n",
            "Data columns (total 13 columns):\n",
            " #   Column                Non-Null Count  Dtype  \n",
            "---  ------                --------------  -----  \n",
            " 0   fixed acidity         6497 non-null   float64\n",
            " 1   volatile acidity      6497 non-null   float64\n",
            " 2   citric acid           6497 non-null   float64\n",
            " 3   residual sugar        6497 non-null   float64\n",
            " 4   chlorides             6497 non-null   float64\n",
            " 5   free sulfur dioxide   6497 non-null   float64\n",
            " 6   total sulfur dioxide  6497 non-null   float64\n",
            " 7   density               6497 non-null   float64\n",
            " 8   pH                    6497 non-null   float64\n",
            " 9   sulphates             6497 non-null   float64\n",
            " 10  alcohol               6497 non-null   float64\n",
            " 11  quality               6497 non-null   int64  \n",
            " 12  type                  6497 non-null   int64  \n",
            "dtypes: float64(11), int64(2)\n",
            "memory usage: 710.6 KB\n",
            "None\n"
          ]
        }
      ]
    },
    {
      "cell_type": "markdown",
      "source": [
        "출력된 13개의 속성 모두 non-null로 표시되어 null인 값은 하나도 들어있지 않다. 또한 11개는 float64, 2개는 int64로 모두 숫자 값이기 떄문에 안전하게 정규화 가능"
      ],
      "metadata": {
        "id": "U6RYl6zR8m-Z"
      }
    },
    {
      "cell_type": "code",
      "source": [
        "# 데이터 정규화\n",
        "wine_norm = (wine - wine.min()) / (wine.max() - wine.min())\n",
        "print(wine_norm.head())\n",
        "print(wine_norm.describe())"
      ],
      "metadata": {
        "colab": {
          "base_uri": "https://localhost:8080/"
        },
        "id": "VPjMnmv_8mZ3",
        "outputId": "e1997808-c75a-45a7-c01d-ddf98c7caeee"
      },
      "execution_count": null,
      "outputs": [
        {
          "output_type": "stream",
          "name": "stdout",
          "text": [
            "   fixed acidity  volatile acidity  citric acid  residual sugar  chlorides  \\\n",
            "0       0.297521          0.413333     0.000000        0.019939   0.111296   \n",
            "1       0.330579          0.533333     0.000000        0.030675   0.147841   \n",
            "2       0.330579          0.453333     0.024096        0.026074   0.137874   \n",
            "3       0.611570          0.133333     0.337349        0.019939   0.109635   \n",
            "4       0.297521          0.413333     0.000000        0.019939   0.111296   \n",
            "\n",
            "   free sulfur dioxide  total sulfur dioxide   density        pH  sulphates  \\\n",
            "0             0.034722              0.064516  0.206092  0.612403   0.191011   \n",
            "1             0.083333              0.140553  0.186813  0.372093   0.258427   \n",
            "2             0.048611              0.110599  0.190669  0.418605   0.241573   \n",
            "3             0.055556              0.124424  0.209948  0.341085   0.202247   \n",
            "4             0.034722              0.064516  0.206092  0.612403   0.191011   \n",
            "\n",
            "    alcohol   quality  type  \n",
            "0  0.202899  0.333333   0.0  \n",
            "1  0.260870  0.333333   0.0  \n",
            "2  0.260870  0.333333   0.0  \n",
            "3  0.260870  0.500000   0.0  \n",
            "4  0.202899  0.333333   0.0  \n",
            "       fixed acidity  volatile acidity  citric acid  residual sugar  \\\n",
            "count    6497.000000       6497.000000  6497.000000     6497.000000   \n",
            "mean        0.282257          0.173111     0.191948        0.074283   \n",
            "std         0.107143          0.109758     0.087541        0.072972   \n",
            "min         0.000000          0.000000     0.000000        0.000000   \n",
            "25%         0.214876          0.100000     0.150602        0.018405   \n",
            "50%         0.264463          0.140000     0.186747        0.036810   \n",
            "75%         0.322314          0.213333     0.234940        0.115031   \n",
            "max         1.000000          1.000000     1.000000        1.000000   \n",
            "\n",
            "         chlorides  free sulfur dioxide  total sulfur dioxide      density  \\\n",
            "count  6497.000000          6497.000000           6497.000000  6497.000000   \n",
            "mean      0.078129             0.102518              0.252868     0.146262   \n",
            "std       0.058195             0.061630              0.130235     0.057811   \n",
            "min       0.000000             0.000000              0.000000     0.000000   \n",
            "25%       0.048173             0.055556              0.163594     0.100829   \n",
            "50%       0.063123             0.097222              0.258065     0.149990   \n",
            "75%       0.093023             0.138889              0.345622     0.190476   \n",
            "max       1.000000             1.000000              1.000000     1.000000   \n",
            "\n",
            "                pH    sulphates      alcohol      quality         type  \n",
            "count  6497.000000  6497.000000  6497.000000  6497.000000  6497.000000  \n",
            "mean      0.386435     0.174870     0.361131     0.469730     0.753886  \n",
            "std       0.124641     0.083599     0.172857     0.145543     0.430779  \n",
            "min       0.000000     0.000000     0.000000     0.000000     0.000000  \n",
            "25%       0.302326     0.117978     0.217391     0.333333     1.000000  \n",
            "50%       0.379845     0.162921     0.333333     0.500000     1.000000  \n",
            "75%       0.465116     0.213483     0.478261     0.500000     1.000000  \n",
            "max       1.000000     1.000000     1.000000     1.000000     1.000000  \n"
          ]
        }
      ]
    },
    {
      "cell_type": "code",
      "source": [
        "# 데이터 섞은 후 numpy array로 변환\n",
        "import numpy as np\n",
        "wine_shuffle = wine_norm.sample(frac=1)               #frac=1 은 100%로 모든 데이터를 뽑아서 섞는 것과 동일한 효과\n",
        "print(wine_shuffle.head())\n",
        "wine_np = wine_shuffle.to_numpy()                     #to_numpy(): 데이터프레임을 넘파이 array로 변환\n",
        "print(wine_np[:5])"
      ],
      "metadata": {
        "colab": {
          "base_uri": "https://localhost:8080/"
        },
        "id": "JfWW6l4r9hn0",
        "outputId": "bd730284-fc4b-42f6-f9ea-3e1c640ddff6"
      },
      "execution_count": null,
      "outputs": [
        {
          "output_type": "stream",
          "name": "stdout",
          "text": [
            "      fixed acidity  volatile acidity  citric acid  residual sugar  chlorides  \\\n",
            "110        0.223140          0.060000     0.325301        0.121166   0.121262   \n",
            "2345       0.355372          0.106667     0.156627        0.159509   0.056478   \n",
            "204        0.165289          0.133333     0.210843        0.026074   0.073090   \n",
            "4302       0.272727          0.206667     0.234940        0.161043   0.041528   \n",
            "633        0.520661          0.570000     0.132530        0.042945   0.159468   \n",
            "\n",
            "      free sulfur dioxide  total sulfur dioxide   density        pH  \\\n",
            "110              0.218750              0.361751  0.169462  0.131783   \n",
            "2345             0.138889              0.472350  0.186042  0.302326   \n",
            "204              0.121528              0.248848  0.101986  0.434109   \n",
            "4302             0.083333              0.456221  0.174475  0.255814   \n",
            "633              0.034722              0.184332  0.267785  0.550388   \n",
            "\n",
            "      sulphates   alcohol   quality  type  \n",
            "110    0.095506  0.115942  0.500000   1.0  \n",
            "2345   0.151685  0.289855  0.500000   1.0  \n",
            "204    0.157303  0.318841  0.166667   1.0  \n",
            "4302   0.168539  0.289855  0.500000   1.0  \n",
            "633    0.235955  0.478261  0.166667   0.0  \n",
            "[[0.2231405  0.06       0.3253012  0.12116564 0.12126246 0.21875\n",
            "  0.36175115 0.16946212 0.13178295 0.09550562 0.11594203 0.5\n",
            "  1.        ]\n",
            " [0.3553719  0.10666667 0.15662651 0.1595092  0.05647841 0.13888889\n",
            "  0.47235023 0.18604203 0.30232558 0.15168539 0.28985507 0.5\n",
            "  1.        ]\n",
            " [0.16528926 0.13333333 0.21084337 0.02607362 0.0730897  0.12152778\n",
            "  0.24884793 0.10198573 0.43410853 0.15730337 0.31884058 0.16666667\n",
            "  1.        ]\n",
            " [0.27272727 0.20666667 0.23493976 0.16104294 0.04152824 0.08333333\n",
            "  0.4562212  0.17447465 0.25581395 0.16853933 0.28985507 0.5\n",
            "  1.        ]\n",
            " [0.52066116 0.57       0.13253012 0.04294479 0.15946844 0.03472222\n",
            "  0.1843318  0.26778485 0.5503876  0.23595506 0.47826087 0.16666667\n",
            "  0.        ]]\n"
          ]
        }
      ]
    },
    {
      "cell_type": "code",
      "source": [
        "# train 데이터와 test 데이터로 분리\n",
        "import tensorflow as tf\n",
        "train_idx = int(len(wine_np) * 0.8)\n",
        "train_X, train_Y = wine_np[:train_idx,:-1], wine_np[:train_idx, -1]\n",
        "test_X, test_Y = wine_np[train_idx:, :-1], wine_np[train_idx:,-1]\n",
        "print(train_X[0])\n",
        "print(train_Y[0])\n",
        "print(test_X[0])\n",
        "print(test_Y[0])\n",
        "train_Y = tf.keras.utils.to_categorical(train_Y, num_classes=2)\n",
        "test_Y = tf.keras.utils.to_categorical(test_Y, num_classes=2)\n",
        "print(train_Y[0])\n",
        "print(test_Y[0])    #아직안됨"
      ],
      "metadata": {
        "colab": {
          "base_uri": "https://localhost:8080/"
        },
        "id": "aTAZbsGW_YQO",
        "outputId": "05fb6981-c2d1-4c71-8bc9-402edc9e6c8e"
      },
      "execution_count": null,
      "outputs": [
        {
          "output_type": "stream",
          "name": "stdout",
          "text": [
            "[0.2231405  0.06       0.3253012  0.12116564 0.12126246 0.21875\n",
            " 0.36175115 0.16946212 0.13178295 0.09550562 0.11594203 0.5       ]\n",
            "1.0\n",
            "[0.23966942 0.18666667 0.15662651 0.11196319 0.04152824 0.13194444\n",
            " 0.26958525 0.07865818 0.20930233 0.04494382 0.60869565 0.66666667]\n",
            "1.0\n",
            "[0. 1.]\n",
            "[0. 1.]\n"
          ]
        }
      ]
    }
  ]
}