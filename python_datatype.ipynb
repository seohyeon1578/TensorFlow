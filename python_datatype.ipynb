{
  "nbformat": 4,
  "nbformat_minor": 0,
  "metadata": {
    "colab": {
      "name": "python_datatype.ipynb",
      "provenance": [],
      "toc_visible": true,
      "authorship_tag": "ABX9TyPKcI3tKND3JG8I0oKTDbiP",
      "include_colab_link": true
    },
    "kernelspec": {
      "name": "python3",
      "display_name": "Python 3"
    },
    "language_info": {
      "name": "python"
    },
    "accelerator": "GPU",
    "gpuClass": "standard"
  },
  "cells": [
    {
      "cell_type": "markdown",
      "metadata": {
        "id": "view-in-github",
        "colab_type": "text"
      },
      "source": [
        "<a href=\"https://colab.research.google.com/github/seohyeon1578/TensorFlow/blob/main/python_datatype.ipynb\" target=\"_parent\"><img src=\"https://colab.research.google.com/assets/colab-badge.svg\" alt=\"Open In Colab\"/></a>"
      ]
    },
    {
      "cell_type": "markdown",
      "source": [
        "# 숫자형"
      ],
      "metadata": {
        "id": "C3iy6_Ww3aq6"
      }
    },
    {
      "cell_type": "code",
      "execution_count": null,
      "metadata": {
        "id": "izA96DJ9gjYH",
        "colab": {
          "base_uri": "https://localhost:8080/"
        },
        "outputId": "321d3ab1-ee95-43ee-bfae-ba8b3f1ae510"
      },
      "outputs": [
        {
          "output_type": "stream",
          "name": "stdout",
          "text": [
            "5 5.0 5.0\n"
          ]
        }
      ],
      "source": [
        "num1 = 5\n",
        "\n",
        "num2 = 5.0\n",
        "\n",
        "num3 = 5.00000\n",
        "\n",
        "print(num1, num2, num3)"
      ]
    },
    {
      "cell_type": "markdown",
      "source": [
        "# 연산"
      ],
      "metadata": {
        "id": "pzW3NNud4G9U"
      }
    },
    {
      "cell_type": "code",
      "source": [
        "num4 = 5 * 1\n",
        "\n",
        "num5 = 5 * 1.0\n",
        "\n",
        "print(num4, num5)"
      ],
      "metadata": {
        "colab": {
          "base_uri": "https://localhost:8080/"
        },
        "id": "ddVZnIGh4MIM",
        "outputId": "f96b56df-2005-43ef-d050-721f7b6c1feb"
      },
      "execution_count": null,
      "outputs": [
        {
          "output_type": "stream",
          "name": "stdout",
          "text": [
            "5 5.0\n"
          ]
        }
      ]
    },
    {
      "cell_type": "markdown",
      "source": [
        "# 문자형\n"
      ],
      "metadata": {
        "id": "4--NRvxb8Gcc"
      }
    },
    {
      "cell_type": "code",
      "source": [
        "string1 = 'hello python world1'\n",
        "\n",
        "string2 = \"hello python world1\"\n",
        "\n",
        "string3 = '''hello python world1'''\n",
        "\n",
        "string4 = \"\"\"hello python world1\"\"\"\n",
        "\n",
        "print(string1, string2, string3, string4)"
      ],
      "metadata": {
        "colab": {
          "base_uri": "https://localhost:8080/"
        },
        "id": "ZlYzjUHb8JW4",
        "outputId": "98f34de1-68c4-45f7-dee0-d0644e01f163"
      },
      "execution_count": null,
      "outputs": [
        {
          "output_type": "stream",
          "name": "stdout",
          "text": [
            "hello python world1 hello python world1 hello python world1 hello python world1\n"
          ]
        }
      ]
    },
    {
      "cell_type": "code",
      "source": [
        "print(\"Jack's favorite food is burger\")"
      ],
      "metadata": {
        "colab": {
          "base_uri": "https://localhost:8080/"
        },
        "id": "s8Dj77ur9U6F",
        "outputId": "f23fe974-7000-4df3-ea7f-cc381788dfb8"
      },
      "execution_count": null,
      "outputs": [
        {
          "output_type": "stream",
          "name": "stdout",
          "text": [
            "Jack's favorite food is burger\n"
          ]
        }
      ]
    },
    {
      "cell_type": "code",
      "source": [
        "print('\"오늘 날씨가 참 좋다\" - \"아무개\"')"
      ],
      "metadata": {
        "colab": {
          "base_uri": "https://localhost:8080/"
        },
        "id": "x5cBezca9ZdP",
        "outputId": "c35aa52d-daeb-4bc8-8726-16d2a539e1f5"
      },
      "execution_count": null,
      "outputs": [
        {
          "output_type": "stream",
          "name": "stdout",
          "text": [
            "\"오늘 날씨가 참 좋다\" - \"아무개\"\n"
          ]
        }
      ]
    },
    {
      "cell_type": "code",
      "source": [
        "print(\"아우렐리우스\\n만물은 변화다\\n우리의 삶이란 우리의 생각이 변화를 만드는 (과정)이다\")"
      ],
      "metadata": {
        "colab": {
          "base_uri": "https://localhost:8080/"
        },
        "id": "kHje9dHB9iOB",
        "outputId": "e6c8b3a7-3862-4289-8654-f71b8b25746c"
      },
      "execution_count": null,
      "outputs": [
        {
          "output_type": "stream",
          "name": "stdout",
          "text": [
            "아우렐리우스\n",
            "만물은 변화다\n",
            "우리의 삶이란 우리의 생각이 변화를 만드는 (과정)이다\n"
          ]
        }
      ]
    },
    {
      "cell_type": "code",
      "source": [
        "print('''\n",
        "아우렐리우스\n",
        "만물은 변화다\n",
        "우리의 삶이란 우리의 생각이 변화를 만드는 (과정)이다\n",
        "''')"
      ],
      "metadata": {
        "colab": {
          "base_uri": "https://localhost:8080/"
        },
        "id": "WL5pcUco_SQc",
        "outputId": "9192c055-399d-4d23-c14a-6b61ae929470"
      },
      "execution_count": null,
      "outputs": [
        {
          "output_type": "stream",
          "name": "stdout",
          "text": [
            "\n",
            "아우렐리우스\n",
            "만물은 변화다\n",
            "우리의 삶이란 우리의 생각이 변화를 만드는 (과정)이다\n",
            "\n"
          ]
        }
      ]
    },
    {
      "cell_type": "code",
      "source": [
        "str = '아우렐리우스 만물은 변화다 우리의 삶이란 우리의 생각이 변화를 만드는 (과정)이다'\n",
        "\n",
        "print(str[7] + str[8] + str[9])\n",
        "print(str[7:10])"
      ],
      "metadata": {
        "colab": {
          "base_uri": "https://localhost:8080/"
        },
        "id": "pe2T4CHOANgp",
        "outputId": "5828b800-60fc-4103-b958-bad62bcd600a"
      },
      "execution_count": null,
      "outputs": [
        {
          "output_type": "stream",
          "name": "stdout",
          "text": [
            "만물은\n",
            "만물은\n"
          ]
        }
      ]
    },
    {
      "cell_type": "markdown",
      "source": [
        "# 리스트형"
      ],
      "metadata": {
        "id": "x7dpVyRxBph7"
      }
    },
    {
      "cell_type": "code",
      "source": [
        "a = []\n",
        "b = [1, 2, 3]\n",
        "c = ['wow', 'python']\n",
        "d = [1, 2, 'wow']\n",
        "e = [1, 2, ['wow', 'python']]\n",
        "\n",
        "print(a, b, c, d, e)"
      ],
      "metadata": {
        "colab": {
          "base_uri": "https://localhost:8080/"
        },
        "id": "swtPzoS0BPwd",
        "outputId": "4ff145dc-9d31-4b36-cf84-ed709073e102"
      },
      "execution_count": null,
      "outputs": [
        {
          "output_type": "stream",
          "name": "stdout",
          "text": [
            "[] [1, 2, 3] ['wow', 'python'] [1, 2, 'wow'] [1, 2, ['wow', 'python']]\n"
          ]
        }
      ]
    },
    {
      "cell_type": "code",
      "source": [
        "a = [10, 20, 30]\n",
        "a"
      ],
      "metadata": {
        "colab": {
          "base_uri": "https://localhost:8080/"
        },
        "id": "KYE0mqO-Ct2R",
        "outputId": "fac36b5b-fabd-4b0e-eb9e-f22f1502c733"
      },
      "execution_count": null,
      "outputs": [
        {
          "output_type": "execute_result",
          "data": {
            "text/plain": [
              "[10, 20, 30]"
            ]
          },
          "metadata": {},
          "execution_count": 61
        }
      ]
    },
    {
      "cell_type": "code",
      "source": [
        "a[0] = 15\n",
        "a"
      ],
      "metadata": {
        "colab": {
          "base_uri": "https://localhost:8080/"
        },
        "id": "cnDtR5KMCxIb",
        "outputId": "f65181e4-ac0a-47ba-8ad5-43c615f757f5"
      },
      "execution_count": null,
      "outputs": [
        {
          "output_type": "execute_result",
          "data": {
            "text/plain": [
              "[15, 20, 30]"
            ]
          },
          "metadata": {},
          "execution_count": 62
        }
      ]
    },
    {
      "cell_type": "code",
      "source": [
        "a[1:2] = ['wow', 'python', 'world']\n",
        "a"
      ],
      "metadata": {
        "colab": {
          "base_uri": "https://localhost:8080/"
        },
        "id": "Ya4Ji480C-gL",
        "outputId": "2c4edbbe-e495-4c8e-b0e0-7a5b1970e287"
      },
      "execution_count": null,
      "outputs": [
        {
          "output_type": "execute_result",
          "data": {
            "text/plain": [
              "[15, 'wow', 'python', 'world', 30]"
            ]
          },
          "metadata": {},
          "execution_count": 63
        }
      ]
    },
    {
      "cell_type": "markdown",
      "source": [
        "# 딕셔너리형 (사전형)"
      ],
      "metadata": {
        "id": "YM0mNWcrEPIJ"
      }
    },
    {
      "cell_type": "code",
      "source": [
        "game = {\n",
        "    '가위' : '보',\n",
        "    '보' : '가위',\n",
        "    '바위' : '가위'\n",
        "}"
      ],
      "metadata": {
        "id": "l7uZc_OJDofy"
      },
      "execution_count": null,
      "outputs": []
    },
    {
      "cell_type": "code",
      "source": [
        "print(game['가위'])"
      ],
      "metadata": {
        "colab": {
          "base_uri": "https://localhost:8080/"
        },
        "id": "Jylz7ym1Evc9",
        "outputId": "1532c10f-1fd5-4e11-93b0-6c1696e6643e"
      },
      "execution_count": null,
      "outputs": [
        {
          "output_type": "stream",
          "name": "stdout",
          "text": [
            "보\n"
          ]
        }
      ]
    },
    {
      "cell_type": "code",
      "source": [
        "dic = {\n",
        "    'key' : [1, 2, 3]\n",
        "}"
      ],
      "metadata": {
        "id": "UFB6qA-4E2cY"
      },
      "execution_count": null,
      "outputs": []
    },
    {
      "cell_type": "code",
      "source": [
        "print(dic['key'])"
      ],
      "metadata": {
        "colab": {
          "base_uri": "https://localhost:8080/"
        },
        "id": "-GD7A-RsFDbY",
        "outputId": "40a48f71-6a2e-4356-ddf9-3fe14e944afb"
      },
      "execution_count": null,
      "outputs": [
        {
          "output_type": "stream",
          "name": "stdout",
          "text": [
            "[1, 2, 3]\n"
          ]
        }
      ]
    },
    {
      "cell_type": "code",
      "source": [
        "dict = {\n",
        "    'python' : 100, \n",
        "    'java' : 90,\n",
        "    'jsp' : 90\n",
        "    }"
      ],
      "metadata": {
        "id": "3Xw3AFaSRGhY"
      },
      "execution_count": null,
      "outputs": []
    },
    {
      "cell_type": "code",
      "source": [
        "for key, val in dict.items():\n",
        "  print('{} 점수는 {} 이다.'.format(key, val))"
      ],
      "metadata": {
        "colab": {
          "base_uri": "https://localhost:8080/"
        },
        "id": "UtmCYEx2RTie",
        "outputId": "d1952acc-d46b-45f8-f688-a8c3b63096c1"
      },
      "execution_count": null,
      "outputs": [
        {
          "output_type": "stream",
          "name": "stdout",
          "text": [
            "python 점수는 100 이다.\n",
            "java 점수는 90 이다.\n",
            "jsp 점수는 90 이다.\n"
          ]
        }
      ]
    },
    {
      "cell_type": "code",
      "source": [
        "for key in dict.items():\n",
        "  print('{} 점수는 {} 이다.'.format(key[0], key[1]))"
      ],
      "metadata": {
        "colab": {
          "base_uri": "https://localhost:8080/"
        },
        "id": "IKyk--lOSBxT",
        "outputId": "121cc834-3019-4341-842d-7a39b840b6e5"
      },
      "execution_count": null,
      "outputs": [
        {
          "output_type": "stream",
          "name": "stdout",
          "text": [
            "python 점수는 100 이다.\n",
            "java 점수는 90 이다.\n",
            "jsp 점수는 90 이다.\n"
          ]
        }
      ]
    },
    {
      "cell_type": "code",
      "source": [
        "for key in dict.items():\n",
        "  print('{} 점수는 {} 이다.'.format(*key))"
      ],
      "metadata": {
        "colab": {
          "base_uri": "https://localhost:8080/"
        },
        "id": "q6gvxmCdSGGw",
        "outputId": "906ab4b4-e3b9-45cf-f890-72634f20819b"
      },
      "execution_count": null,
      "outputs": [
        {
          "output_type": "stream",
          "name": "stdout",
          "text": [
            "python 점수는 100 이다.\n",
            "java 점수는 90 이다.\n",
            "jsp 점수는 90 이다.\n"
          ]
        }
      ]
    },
    {
      "cell_type": "markdown",
      "source": [
        "# 튜플형"
      ],
      "metadata": {
        "id": "JvJfq1eVFYag"
      }
    },
    {
      "cell_type": "code",
      "source": [
        "tuple1 = (1, 2, 3, 4, 5)\n",
        "print(tuple1)"
      ],
      "metadata": {
        "colab": {
          "base_uri": "https://localhost:8080/"
        },
        "id": "HYcsOZlbFafU",
        "outputId": "ecd308f5-7bfc-4bc1-aa35-54e43ea28821"
      },
      "execution_count": null,
      "outputs": [
        {
          "output_type": "stream",
          "name": "stdout",
          "text": [
            "(1, 2, 3, 4, 5)\n"
          ]
        }
      ]
    },
    {
      "cell_type": "code",
      "source": [
        "tuple2 = 1, 2, 3, 4, 5\n",
        "print(tuple2)"
      ],
      "metadata": {
        "colab": {
          "base_uri": "https://localhost:8080/"
        },
        "id": "uSLNwhocF0QD",
        "outputId": "ba167f83-710f-4a7b-95fa-6cc8dd5df188"
      },
      "execution_count": null,
      "outputs": [
        {
          "output_type": "stream",
          "name": "stdout",
          "text": [
            "(1, 2, 3, 4, 5)\n"
          ]
        }
      ]
    },
    {
      "cell_type": "code",
      "source": [
        "print(type(tuple1))\n",
        "print(type(tuple2))"
      ],
      "metadata": {
        "colab": {
          "base_uri": "https://localhost:8080/"
        },
        "id": "Nvq7Kdc-GIRD",
        "outputId": "7da6605b-8e62-4b62-c57c-673983c40082"
      },
      "execution_count": null,
      "outputs": [
        {
          "output_type": "stream",
          "name": "stdout",
          "text": [
            "<class 'tuple'>\n",
            "<class 'tuple'>\n"
          ]
        }
      ]
    },
    {
      "cell_type": "code",
      "source": [
        "list1 =[1, 2, 3, 4, 5]\n",
        "tuple3 = tuple(list1)\n",
        "\n",
        "print(tuple3)\n",
        "print(type(tuple3))"
      ],
      "metadata": {
        "colab": {
          "base_uri": "https://localhost:8080/"
        },
        "id": "9VB_O01fKD66",
        "outputId": "6fd27337-b59f-4ff6-d51b-7024b2295911"
      },
      "execution_count": null,
      "outputs": [
        {
          "output_type": "stream",
          "name": "stdout",
          "text": [
            "(1, 2, 3, 4, 5)\n",
            "<class 'tuple'>\n"
          ]
        }
      ]
    },
    {
      "cell_type": "code",
      "source": [
        "print(tuple3[0])"
      ],
      "metadata": {
        "colab": {
          "base_uri": "https://localhost:8080/"
        },
        "id": "rUAk4BQOKcDw",
        "outputId": "5641bff0-6ff8-4bde-c7cc-ea26d39ee5f0"
      },
      "execution_count": null,
      "outputs": [
        {
          "output_type": "stream",
          "name": "stdout",
          "text": [
            "1\n"
          ]
        }
      ]
    },
    {
      "cell_type": "markdown",
      "source": [
        "튜플형은 순서와 값을 모두 고정하는 형태\n",
        "값을 변경하려면 모두 오류가 발생함\n",
        "\n",
        "```\n",
        "tuple3[3] = 33\n",
        "tuple3\n",
        "```\n",
        "\n",
        "```\n",
        "del tuple3[3]\n",
        "tuple3\n",
        "```"
      ],
      "metadata": {
        "id": "u1sSxoCXLNH5"
      }
    },
    {
      "cell_type": "code",
      "source": [
        "x = 5\n",
        "y = 10"
      ],
      "metadata": {
        "id": "_GCTZzoQMDXx"
      },
      "execution_count": null,
      "outputs": []
    },
    {
      "cell_type": "code",
      "source": [
        "z = x\n",
        "x = y\n",
        "y = z\n",
        "\n",
        "print(x, y)"
      ],
      "metadata": {
        "colab": {
          "base_uri": "https://localhost:8080/"
        },
        "id": "DO4UR5bOMVMq",
        "outputId": "9cc51e83-4f47-4522-ac4a-b8ef8f50d918"
      },
      "execution_count": null,
      "outputs": [
        {
          "output_type": "stream",
          "name": "stdout",
          "text": [
            "10 5\n"
          ]
        }
      ]
    },
    {
      "cell_type": "code",
      "source": [
        "x, y = y, x\n",
        "\n",
        "print(x, y)"
      ],
      "metadata": {
        "colab": {
          "base_uri": "https://localhost:8080/"
        },
        "id": "hy-1YineMzdj",
        "outputId": "72ebcb22-903a-41f0-b1ff-9c4ee0b3d446"
      },
      "execution_count": null,
      "outputs": [
        {
          "output_type": "stream",
          "name": "stdout",
          "text": [
            "5 10\n"
          ]
        }
      ]
    },
    {
      "cell_type": "code",
      "source": [
        "list1 = [1, 2, 3, 4, 5]\n",
        "for i, j in enumerate(list1) :\n",
        "  print('{} 번째 값은 {} 이다.'.format(i, j))"
      ],
      "metadata": {
        "colab": {
          "base_uri": "https://localhost:8080/"
        },
        "id": "3c2d8UCvNve1",
        "outputId": "d62d8e91-4f00-4893-cbeb-4e5e3abda50b"
      },
      "execution_count": null,
      "outputs": [
        {
          "output_type": "stream",
          "name": "stdout",
          "text": [
            "0 번째 값은 1 이다.\n",
            "1 번째 값은 2 이다.\n",
            "2 번째 값은 3 이다.\n",
            "3 번째 값은 4 이다.\n",
            "4 번째 값은 5 이다.\n"
          ]
        }
      ]
    },
    {
      "cell_type": "code",
      "source": [
        "for i in enumerate(list1) :\n",
        "  print('{} 번째 값은 {} 이다.'.format(i[0], i[1]))"
      ],
      "metadata": {
        "colab": {
          "base_uri": "https://localhost:8080/"
        },
        "id": "6Zonvii_OqqA",
        "outputId": "c371e435-53cf-4684-f628-d52d41d81d89"
      },
      "execution_count": null,
      "outputs": [
        {
          "output_type": "stream",
          "name": "stdout",
          "text": [
            "0 번째 값은 1 이다.\n",
            "1 번째 값은 2 이다.\n",
            "2 번째 값은 3 이다.\n",
            "3 번째 값은 4 이다.\n",
            "4 번째 값은 5 이다.\n"
          ]
        }
      ]
    },
    {
      "cell_type": "code",
      "source": [
        "for i in enumerate(list1) :\n",
        "  print('{} 번째 값은 {} 이다.'.format(*i))"
      ],
      "metadata": {
        "colab": {
          "base_uri": "https://localhost:8080/"
        },
        "id": "B21rH8u-QHhM",
        "outputId": "7a7408ca-7f02-46b5-903b-5640c840da07"
      },
      "execution_count": null,
      "outputs": [
        {
          "output_type": "stream",
          "name": "stdout",
          "text": [
            "0 번째 값은 1 이다.\n",
            "1 번째 값은 2 이다.\n",
            "2 번째 값은 3 이다.\n",
            "3 번째 값은 4 이다.\n",
            "4 번째 값은 5 이다.\n"
          ]
        }
      ]
    },
    {
      "cell_type": "code",
      "source": [
        "def tuple_good():\n",
        "  for i in range(100):\n",
        "    return i"
      ],
      "metadata": {
        "id": "N2ar_a4bSKkJ"
      },
      "execution_count": null,
      "outputs": []
    },
    {
      "cell_type": "code",
      "source": [
        "list1 = tuple_good()\n",
        "print(list1)"
      ],
      "metadata": {
        "colab": {
          "base_uri": "https://localhost:8080/"
        },
        "id": "Yy17L2z5SU0F",
        "outputId": "044e980e-234a-4667-cd6e-01f795ac20b1"
      },
      "execution_count": null,
      "outputs": [
        {
          "output_type": "stream",
          "name": "stdout",
          "text": [
            "0\n"
          ]
        }
      ]
    },
    {
      "cell_type": "code",
      "source": [
        "def tuple_good2():\n",
        "  return 1, 2"
      ],
      "metadata": {
        "id": "g3Mm3JK_St-1"
      },
      "execution_count": null,
      "outputs": []
    },
    {
      "cell_type": "code",
      "source": [
        "num1, num2 = tuple_good2()\n",
        "print(num1, num2)"
      ],
      "metadata": {
        "colab": {
          "base_uri": "https://localhost:8080/"
        },
        "id": "0VqkDUjvS3hY",
        "outputId": "d9ce75e1-2a8f-4240-d7b2-a9de3b40a451"
      },
      "execution_count": null,
      "outputs": [
        {
          "output_type": "stream",
          "name": "stdout",
          "text": [
            "1 2\n"
          ]
        }
      ]
    }
  ]
}